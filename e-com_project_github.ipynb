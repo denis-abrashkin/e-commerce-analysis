{
 "cells": [
  {
   "cell_type": "code",
   "execution_count": 1,
   "metadata": {},
   "outputs": [],
   "source": [
    "import pandas as pd\n",
    "import numpy as np\n",
    "from datetime import datetime, timedelta\n",
    "import seaborn as sns\n",
    "import matplotlib.pyplot as plt\n",
    "from operator import attrgetter\n",
    "%matplotlib inline"
   ]
  },
  {
   "cell_type": "code",
   "execution_count": 2,
   "metadata": {},
   "outputs": [],
   "source": [
    "# Загрузка исходных данных\n",
    "customers = pd.read_csv('https://getfile.dokpub.com/yandex/get/https://disk.yandex.ru/d/FUi5uSd6BfG_ig')\n",
    "orders    = pd.read_csv('https://getfile.dokpub.com/yandex/get/https://disk.yandex.ru/d/t9Li4JOfgxuUrg')\n",
    "items     = pd.read_csv('https://getfile.dokpub.com/yandex/get/https://disk.yandex.ru/d/Gbt-yAcQrOe3Pw')"
   ]
  },
  {
   "cell_type": "markdown",
   "metadata": {},
   "source": [
    "### Описание данных таблицы customers\n",
    "- customer_id — позаказный идентификатор пользователя (аналог номера паспорта)\n",
    "- customer_unique_id —  уникальный идентификатор пользователя\n",
    "- customer_zip_code_prefix —  почтовый индекс пользователя\n",
    "- customer_city —  город доставки пользователя\n",
    "- customer_state —  штат доставки пользователя"
   ]
  },
  {
   "cell_type": "code",
   "execution_count": 3,
   "metadata": {},
   "outputs": [
    {
     "name": "stdout",
     "output_type": "stream",
     "text": [
      "<class 'pandas.core.frame.DataFrame'>\n",
      "RangeIndex: 99441 entries, 0 to 99440\n",
      "Data columns (total 5 columns):\n",
      " #   Column                    Non-Null Count  Dtype \n",
      "---  ------                    --------------  ----- \n",
      " 0   customer_id               99441 non-null  object\n",
      " 1   customer_unique_id        99441 non-null  object\n",
      " 2   customer_zip_code_prefix  99441 non-null  int64 \n",
      " 3   customer_city             99441 non-null  object\n",
      " 4   customer_state            99441 non-null  object\n",
      "dtypes: int64(1), object(4)\n",
      "memory usage: 3.8+ MB\n"
     ]
    }
   ],
   "source": [
    "# Описание струкутры данных таблицы с с уникальными идентификаторами пользователей\n",
    "customers.info()"
   ]
  },
  {
   "cell_type": "markdown",
   "metadata": {},
   "source": [
    "Стоит отметить, что никаких явных проблем с данными нет, пропущенные значения отсутствуют, типы данных не требуют изменений"
   ]
  },
  {
   "cell_type": "markdown",
   "metadata": {},
   "source": [
    "### Описание данных таблицы orders\n",
    "- order_id —  уникальный идентификатор заказа (номер чека)\n",
    "- customer_id —  позаказный идентификатор пользователя (аналог номера паспорта)\n",
    "- order_status —  статус заказа\n",
    "- order_purchase_timestamp —  время создания заказа\n",
    "- order_approved_at —  время подтверждения оплаты заказа\n",
    "- order_delivered_carrier_date —  время передачи заказа в логистическую службу\n",
    "- order_delivered_customer_date —  время доставки заказа\n",
    "- order_estimated_delivery_date —  обещанная дата доставки"
   ]
  },
  {
   "cell_type": "code",
   "execution_count": 4,
   "metadata": {},
   "outputs": [
    {
     "name": "stdout",
     "output_type": "stream",
     "text": [
      "<class 'pandas.core.frame.DataFrame'>\n",
      "RangeIndex: 99441 entries, 0 to 99440\n",
      "Data columns (total 8 columns):\n",
      " #   Column                         Non-Null Count  Dtype \n",
      "---  ------                         --------------  ----- \n",
      " 0   order_id                       99441 non-null  object\n",
      " 1   customer_id                    99441 non-null  object\n",
      " 2   order_status                   99441 non-null  object\n",
      " 3   order_purchase_timestamp       99441 non-null  object\n",
      " 4   order_approved_at              99281 non-null  object\n",
      " 5   order_delivered_carrier_date   97658 non-null  object\n",
      " 6   order_delivered_customer_date  96476 non-null  object\n",
      " 7   order_estimated_delivery_date  99441 non-null  object\n",
      "dtypes: object(8)\n",
      "memory usage: 6.1+ MB\n"
     ]
    }
   ],
   "source": [
    "# Описание струкутры данных таблицы заказов\n",
    "orders.info()"
   ]
  },
  {
   "cell_type": "markdown",
   "metadata": {},
   "source": [
    "- В данной таблице заметны пропущенные значения в колонках с датами, которые могут быть связаны с особенностями работы магазина и формирования цепочки исполнения заказа.\n",
    "- Явно заметна проблема с типами данных, большинство колонок хранят в себе данные о времени, но представлены в строковом типе данных."
   ]
  },
  {
   "cell_type": "code",
   "execution_count": 5,
   "metadata": {},
   "outputs": [],
   "source": [
    "# Перевод необходимых колонок к временному типу данных\n",
    "orders['order_purchase_timestamp']      = pd.to_datetime(orders.order_purchase_timestamp)\n",
    "orders['order_approved_at']             = pd.to_datetime(orders.order_approved_at)\n",
    "orders['order_delivered_carrier_date']  = pd.to_datetime(orders.order_delivered_carrier_date)\n",
    "orders['order_delivered_customer_date'] = pd.to_datetime(orders.order_delivered_customer_date)\n",
    "orders['order_estimated_delivery_date'] = pd.to_datetime(orders.order_estimated_delivery_date)"
   ]
  },
  {
   "cell_type": "code",
   "execution_count": 6,
   "metadata": {},
   "outputs": [
    {
     "data": {
      "text/plain": [
       "order_id                                 object\n",
       "customer_id                              object\n",
       "order_status                             object\n",
       "order_purchase_timestamp         datetime64[ns]\n",
       "order_approved_at                datetime64[ns]\n",
       "order_delivered_carrier_date     datetime64[ns]\n",
       "order_delivered_customer_date    datetime64[ns]\n",
       "order_estimated_delivery_date    datetime64[ns]\n",
       "dtype: object"
      ]
     },
     "execution_count": 6,
     "metadata": {},
     "output_type": "execute_result"
    }
   ],
   "source": [
    "# Самопроверка\n",
    "orders.dtypes"
   ]
  },
  {
   "cell_type": "markdown",
   "metadata": {},
   "source": [
    "### Описание данных таблицы items\n",
    "- order_id —  уникальный идентификатор заказа (номер чека)\n",
    "- order_item_id —  идентификатор товара внутри одного заказа\n",
    "- product_id —  ид товара (аналог штрихкода)\n",
    "- seller_id — ид производителя товара\n",
    "- shipping_limit_date —  максимальная дата доставки продавцом для передачи заказа партнеру по логистике\n",
    "- price —  цена за единицу товара\n",
    "- freight_value —  вес товара"
   ]
  },
  {
   "cell_type": "code",
   "execution_count": 7,
   "metadata": {},
   "outputs": [
    {
     "name": "stdout",
     "output_type": "stream",
     "text": [
      "<class 'pandas.core.frame.DataFrame'>\n",
      "RangeIndex: 112650 entries, 0 to 112649\n",
      "Data columns (total 7 columns):\n",
      " #   Column               Non-Null Count   Dtype  \n",
      "---  ------               --------------   -----  \n",
      " 0   order_id             112650 non-null  object \n",
      " 1   order_item_id        112650 non-null  int64  \n",
      " 2   product_id           112650 non-null  object \n",
      " 3   seller_id            112650 non-null  object \n",
      " 4   shipping_limit_date  112650 non-null  object \n",
      " 5   price                112650 non-null  float64\n",
      " 6   freight_value        112650 non-null  float64\n",
      "dtypes: float64(2), int64(1), object(4)\n",
      "memory usage: 6.0+ MB\n"
     ]
    }
   ],
   "source": [
    "# Описание струкутры данных таблицы товарных позиций, входящих в заказы\n",
    "items.info()"
   ]
  },
  {
   "cell_type": "markdown",
   "metadata": {},
   "source": [
    "Стоит отметить, что никаких явных проблем с данными нет, пропущенные значения отсутствуют, только одна колонка требует изменение типа данных - shipping_limit_date, так как она отражает собой дату."
   ]
  },
  {
   "cell_type": "code",
   "execution_count": 8,
   "metadata": {},
   "outputs": [],
   "source": [
    "# Перевод необходимой колонки к временному типу данных\n",
    "items['shipping_limit_date'] = pd.to_datetime(items.shipping_limit_date)"
   ]
  },
  {
   "cell_type": "code",
   "execution_count": 9,
   "metadata": {},
   "outputs": [
    {
     "data": {
      "text/plain": [
       "order_id                       object\n",
       "order_item_id                   int64\n",
       "product_id                     object\n",
       "seller_id                      object\n",
       "shipping_limit_date    datetime64[ns]\n",
       "price                         float64\n",
       "freight_value                 float64\n",
       "dtype: object"
      ]
     },
     "execution_count": 9,
     "metadata": {},
     "output_type": "execute_result"
    }
   ],
   "source": [
    "# Самопроверка\n",
    "items.dtypes"
   ]
  },
  {
   "cell_type": "markdown",
   "metadata": {},
   "source": [
    "# Задача 1\n",
    "Сколько у нас пользователей, которые совершили покупку только один раз?"
   ]
  },
  {
   "cell_type": "markdown",
   "metadata": {},
   "source": [
    "Для анализа покупок пользователей нам необходимо связать таблицы **customers** и **orders**, чтобы иметь доступ к **уникального id клиента**. Для реализации данной цели воспользуемся методом **merge**."
   ]
  },
  {
   "cell_type": "code",
   "execution_count": 10,
   "metadata": {},
   "outputs": [],
   "source": [
    "# left join датафреймов с помощью метода merge\n",
    "customers_orders_df = orders.merge(customers, how='left', on='customer_id')"
   ]
  },
  {
   "cell_type": "markdown",
   "metadata": {},
   "source": [
    "### Анализ проблемы\n",
    "Для решения поставленной задачи сперва необходимо понять, что можно считать за \"покупку\". Интерпретировать данную категорию в нашем случае можно несколькими способами:\n",
    "1. Мы считаем за покупку все заказы, которые имеют любой статус (**order_status**), кроме **\"unavailable\"** и **\"canceled\"**. \n",
    "    - **Unavailable** можно интерпретировать как \"пропавший заказ\" или заказ, с которым произошла ошибка в цепочке исполнения заказа. \n",
    "    - **Canceled** говорит нам о том, что заказ был отменен. Как правило, заказ возможно отменить на любой стадии его исполнения, также, если отменить его после оплаты, то магазин вернет деньги клиенту, что позволяет нам не считать отмененные заказы за покупку.\n",
    "\n",
    "\n",
    "2. Мы считаем за покупку все заказы, которые имеют любой статус (**order_status**), кроме **\"created\"**, **\"unavailable\"** и **\"canceled\"**. Логика исключения **created** состоит в том, что заказы с таким статусом не оплачены, соответственно нет смысла считать их за покупку.\n",
    "\n",
    "\n",
    "3. Мы считаем за покупку все заказы, которые имеют время подтверждения оплаты заказа (**order_approved_at**). Логика проста: если нам поступили деньги за заказ, то покупка совершена.\n",
    "\n",
    "Проверим целесообразность вышеописанных методов, проведя исследовательский анализ данных с точки зрения статусов заказа (**order_status**)."
   ]
  },
  {
   "cell_type": "code",
   "execution_count": 11,
   "metadata": {},
   "outputs": [
    {
     "data": {
      "text/plain": [
       "order_id                            0\n",
       "customer_id                         0\n",
       "order_status                        0\n",
       "order_purchase_timestamp            0\n",
       "order_approved_at                 160\n",
       "order_delivered_carrier_date     1783\n",
       "order_delivered_customer_date    2965\n",
       "order_estimated_delivery_date       0\n",
       "customer_unique_id                  0\n",
       "customer_zip_code_prefix            0\n",
       "customer_city                       0\n",
       "customer_state                      0\n",
       "dtype: int64"
      ]
     },
     "execution_count": 11,
     "metadata": {},
     "output_type": "execute_result"
    }
   ],
   "source": [
    "# Общее количество пропущенных значений\n",
    "customers_orders_df.isna().sum()"
   ]
  },
  {
   "cell_type": "code",
   "execution_count": 12,
   "metadata": {},
   "outputs": [
    {
     "data": {
      "text/plain": [
       "order_id                           0\n",
       "customer_id                        0\n",
       "order_status                       0\n",
       "order_purchase_timestamp           0\n",
       "order_approved_at                  0\n",
       "order_delivered_carrier_date     609\n",
       "order_delivered_customer_date    609\n",
       "order_estimated_delivery_date      0\n",
       "customer_unique_id                 0\n",
       "customer_zip_code_prefix           0\n",
       "customer_city                      0\n",
       "customer_state                     0\n",
       "dtype: int64"
      ]
     },
     "execution_count": 12,
     "metadata": {},
     "output_type": "execute_result"
    }
   ],
   "source": [
    "# Расмотрим заказы со статусом unavailable\n",
    "customers_orders_df.query(\"order_status == 'unavailable'\").isna().sum()"
   ]
  },
  {
   "cell_type": "markdown",
   "metadata": {},
   "source": [
    "**Выводы**: все заказы оплачены, но ни один не поступил в логистическую службу, следовательно данные заказы мы можем считать за покупку."
   ]
  },
  {
   "cell_type": "code",
   "execution_count": 13,
   "metadata": {},
   "outputs": [
    {
     "data": {
      "text/plain": [
       "order_id                           0\n",
       "customer_id                        0\n",
       "order_status                       0\n",
       "order_purchase_timestamp           0\n",
       "order_approved_at                141\n",
       "order_delivered_carrier_date     550\n",
       "order_delivered_customer_date    619\n",
       "order_estimated_delivery_date      0\n",
       "customer_unique_id                 0\n",
       "customer_zip_code_prefix           0\n",
       "customer_city                      0\n",
       "customer_state                     0\n",
       "dtype: int64"
      ]
     },
     "execution_count": 13,
     "metadata": {},
     "output_type": "execute_result"
    }
   ],
   "source": [
    "# Расмотрим заказы со статусом canceled\n",
    "customers_orders_df.query(\"order_status == 'canceled'\").isna().sum()"
   ]
  },
  {
   "cell_type": "markdown",
   "metadata": {},
   "source": [
    "**Выводы**: мысль о том, что заказ возможно отменить на любой стадии его исполнения подтвердилась. Из информации о данных видно, что присутствуют заказы, которые были отменены до оплаты, после оплаты и даже после того, как покупатель получил заказ (то есть клиент оформил возврат). Так как отмена или возврат заказа на любом этапе предполагает возврат денег клиенту (если заказ был оплачен), то заказы со статусом **canceled** мы можем не считать за покупку."
   ]
  },
  {
   "cell_type": "code",
   "execution_count": 14,
   "metadata": {},
   "outputs": [
    {
     "data": {
      "text/plain": [
       "order_status         0\n",
       "order_approved_at    5\n",
       "dtype: int64"
      ]
     },
     "execution_count": 14,
     "metadata": {},
     "output_type": "execute_result"
    }
   ],
   "source": [
    "# Расмотрим заказы со статусом created\n",
    "customers_orders_df[['order_status', 'order_approved_at']].query(\"order_status == 'created'\").isna().sum()"
   ]
  },
  {
   "cell_type": "markdown",
   "metadata": {},
   "source": [
    "**Вывод**: все заказы со статусом **created** не оплачены, что позволяет нам не считать из за покупку."
   ]
  },
  {
   "cell_type": "code",
   "execution_count": 15,
   "metadata": {},
   "outputs": [
    {
     "data": {
      "text/plain": [
       "order_id                          0\n",
       "customer_id                       0\n",
       "order_status                      0\n",
       "order_purchase_timestamp          0\n",
       "order_approved_at                14\n",
       "order_delivered_carrier_date      2\n",
       "order_delivered_customer_date     8\n",
       "order_estimated_delivery_date     0\n",
       "customer_unique_id                0\n",
       "customer_zip_code_prefix          0\n",
       "customer_city                     0\n",
       "customer_state                    0\n",
       "dtype: int64"
      ]
     },
     "execution_count": 15,
     "metadata": {},
     "output_type": "execute_result"
    }
   ],
   "source": [
    "# Расмотрим заказы со статусом delivered\n",
    "customers_orders_df.query(\"order_status == 'delivered'\").isna().sum()"
   ]
  },
  {
   "cell_type": "markdown",
   "metadata": {},
   "source": [
    "**Вывод**: так как 14 заказов не имеют время подтверждения оплаты заказа (**order_approved_at**), 2 не имеют времени передачи заказа в логистическую службу (**order_delivered_carrier_date**), 8 не имеют подтвержденного времени доставки заказа (**order_delivered_customer_date**), разумно предположить, что статус **delivered** некоторым заказам был присвоен ошибочно."
   ]
  },
  {
   "cell_type": "markdown",
   "metadata": {},
   "source": [
    "### Локальное заключение\n",
    "Проведя исследовательский анализ данных можно утверждать, что за \"покупку\" разумно считать заказы с любым статусом заказа (**order_status**), кроме **created** и **canceled**, а так же заказы, которые имеют время подтверждения оплаты заказа (**order_approved_at**)."
   ]
  },
  {
   "cell_type": "markdown",
   "metadata": {},
   "source": [
    "### Замечание:\n",
    "Так как пропущенные значения имеют колонки с датами, то заполним пропуски нулями, для упрощения фильтрации данных."
   ]
  },
  {
   "cell_type": "code",
   "execution_count": 16,
   "metadata": {},
   "outputs": [],
   "source": [
    "# Заполнение пропусков\n",
    "customers_orders_df = customers_orders_df.fillna(0)"
   ]
  },
  {
   "cell_type": "code",
   "execution_count": 17,
   "metadata": {},
   "outputs": [],
   "source": [
    "# Посчитаем количество покупок, которое совершил каждый пользователь\n",
    "purchase_df = customers_orders_df \\\n",
    "    .query(\"order_status != 'created' & \\\n",
    "            order_status != 'canceled' & \\\n",
    "            order_approved_at != 0\") \\\n",
    "    .groupby('customer_unique_id', as_index = False) \\\n",
    "    .agg({'order_id': 'count'}) \\\n",
    "    .rename(columns={'order_id': 'purchases'})"
   ]
  },
  {
   "cell_type": "code",
   "execution_count": 18,
   "metadata": {
    "scrolled": true
   },
   "outputs": [
    {
     "data": {
      "text/plain": [
       "1     92621\n",
       "2      2686\n",
       "3       187\n",
       "4        30\n",
       "5         8\n",
       "6         6\n",
       "7         3\n",
       "17        1\n",
       "9         1\n",
       "Name: purchases, dtype: int64"
      ]
     },
     "execution_count": 18,
     "metadata": {},
     "output_type": "execute_result"
    }
   ],
   "source": [
    "purchase_df.purchases.value_counts()"
   ]
  },
  {
   "cell_type": "markdown",
   "metadata": {},
   "source": [
    "### Итог:\n",
    "У нас **92621** пользователей, которые совершили покупку только один раз."
   ]
  },
  {
   "cell_type": "markdown",
   "metadata": {},
   "source": [
    "# Задача 2\n",
    "Сколько заказов в месяц в среднем не доставляется по разным причинам (вывести детализацию по причинам)?"
   ]
  },
  {
   "cell_type": "markdown",
   "metadata": {},
   "source": [
    "Для анализа покупок пользователей нам необходимо связать таблицы **customers** и **orders**, чтобы иметь доступ к уникального id клиента. Для реализации данной цели воспользуемся методом **merge**."
   ]
  },
  {
   "cell_type": "code",
   "execution_count": 19,
   "metadata": {},
   "outputs": [],
   "source": [
    "# left join датафреймов с помощью метода merge\n",
    "customers_orders_df_task_2 = orders.merge(customers, how='left', on='customer_id')"
   ]
  },
  {
   "cell_type": "code",
   "execution_count": 20,
   "metadata": {},
   "outputs": [
    {
     "data": {
      "text/html": [
       "<div>\n",
       "<style scoped>\n",
       "    .dataframe tbody tr th:only-of-type {\n",
       "        vertical-align: middle;\n",
       "    }\n",
       "\n",
       "    .dataframe tbody tr th {\n",
       "        vertical-align: top;\n",
       "    }\n",
       "\n",
       "    .dataframe thead th {\n",
       "        text-align: right;\n",
       "    }\n",
       "</style>\n",
       "<table border=\"1\" class=\"dataframe\">\n",
       "  <thead>\n",
       "    <tr style=\"text-align: right;\">\n",
       "      <th></th>\n",
       "      <th>order_id</th>\n",
       "      <th>customer_id</th>\n",
       "      <th>order_status</th>\n",
       "      <th>order_purchase_timestamp</th>\n",
       "      <th>order_approved_at</th>\n",
       "      <th>order_delivered_carrier_date</th>\n",
       "      <th>order_delivered_customer_date</th>\n",
       "      <th>order_estimated_delivery_date</th>\n",
       "      <th>customer_unique_id</th>\n",
       "      <th>customer_zip_code_prefix</th>\n",
       "      <th>customer_city</th>\n",
       "      <th>customer_state</th>\n",
       "    </tr>\n",
       "  </thead>\n",
       "  <tbody>\n",
       "    <tr>\n",
       "      <th>0</th>\n",
       "      <td>e481f51cbdc54678b7cc49136f2d6af7</td>\n",
       "      <td>9ef432eb6251297304e76186b10a928d</td>\n",
       "      <td>delivered</td>\n",
       "      <td>2017-10-02 10:56:33</td>\n",
       "      <td>2017-10-02 11:07:15</td>\n",
       "      <td>2017-10-04 19:55:00</td>\n",
       "      <td>2017-10-10 21:25:13</td>\n",
       "      <td>2017-10-18</td>\n",
       "      <td>7c396fd4830fd04220f754e42b4e5bff</td>\n",
       "      <td>3149</td>\n",
       "      <td>sao paulo</td>\n",
       "      <td>SP</td>\n",
       "    </tr>\n",
       "    <tr>\n",
       "      <th>1</th>\n",
       "      <td>53cdb2fc8bc7dce0b6741e2150273451</td>\n",
       "      <td>b0830fb4747a6c6d20dea0b8c802d7ef</td>\n",
       "      <td>delivered</td>\n",
       "      <td>2018-07-24 20:41:37</td>\n",
       "      <td>2018-07-26 03:24:27</td>\n",
       "      <td>2018-07-26 14:31:00</td>\n",
       "      <td>2018-08-07 15:27:45</td>\n",
       "      <td>2018-08-13</td>\n",
       "      <td>af07308b275d755c9edb36a90c618231</td>\n",
       "      <td>47813</td>\n",
       "      <td>barreiras</td>\n",
       "      <td>BA</td>\n",
       "    </tr>\n",
       "    <tr>\n",
       "      <th>2</th>\n",
       "      <td>47770eb9100c2d0c44946d9cf07ec65d</td>\n",
       "      <td>41ce2a54c0b03bf3443c3d931a367089</td>\n",
       "      <td>delivered</td>\n",
       "      <td>2018-08-08 08:38:49</td>\n",
       "      <td>2018-08-08 08:55:23</td>\n",
       "      <td>2018-08-08 13:50:00</td>\n",
       "      <td>2018-08-17 18:06:29</td>\n",
       "      <td>2018-09-04</td>\n",
       "      <td>3a653a41f6f9fc3d2a113cf8398680e8</td>\n",
       "      <td>75265</td>\n",
       "      <td>vianopolis</td>\n",
       "      <td>GO</td>\n",
       "    </tr>\n",
       "    <tr>\n",
       "      <th>3</th>\n",
       "      <td>949d5b44dbf5de918fe9c16f97b45f8a</td>\n",
       "      <td>f88197465ea7920adcdbec7375364d82</td>\n",
       "      <td>delivered</td>\n",
       "      <td>2017-11-18 19:28:06</td>\n",
       "      <td>2017-11-18 19:45:59</td>\n",
       "      <td>2017-11-22 13:39:59</td>\n",
       "      <td>2017-12-02 00:28:42</td>\n",
       "      <td>2017-12-15</td>\n",
       "      <td>7c142cf63193a1473d2e66489a9ae977</td>\n",
       "      <td>59296</td>\n",
       "      <td>sao goncalo do amarante</td>\n",
       "      <td>RN</td>\n",
       "    </tr>\n",
       "    <tr>\n",
       "      <th>4</th>\n",
       "      <td>ad21c59c0840e6cb83a9ceb5573f8159</td>\n",
       "      <td>8ab97904e6daea8866dbdbc4fb7aad2c</td>\n",
       "      <td>delivered</td>\n",
       "      <td>2018-02-13 21:18:39</td>\n",
       "      <td>2018-02-13 22:20:29</td>\n",
       "      <td>2018-02-14 19:46:34</td>\n",
       "      <td>2018-02-16 18:17:02</td>\n",
       "      <td>2018-02-26</td>\n",
       "      <td>72632f0f9dd73dfee390c9b22eb56dd6</td>\n",
       "      <td>9195</td>\n",
       "      <td>santo andre</td>\n",
       "      <td>SP</td>\n",
       "    </tr>\n",
       "  </tbody>\n",
       "</table>\n",
       "</div>"
      ],
      "text/plain": [
       "                           order_id                       customer_id  \\\n",
       "0  e481f51cbdc54678b7cc49136f2d6af7  9ef432eb6251297304e76186b10a928d   \n",
       "1  53cdb2fc8bc7dce0b6741e2150273451  b0830fb4747a6c6d20dea0b8c802d7ef   \n",
       "2  47770eb9100c2d0c44946d9cf07ec65d  41ce2a54c0b03bf3443c3d931a367089   \n",
       "3  949d5b44dbf5de918fe9c16f97b45f8a  f88197465ea7920adcdbec7375364d82   \n",
       "4  ad21c59c0840e6cb83a9ceb5573f8159  8ab97904e6daea8866dbdbc4fb7aad2c   \n",
       "\n",
       "  order_status order_purchase_timestamp   order_approved_at  \\\n",
       "0    delivered      2017-10-02 10:56:33 2017-10-02 11:07:15   \n",
       "1    delivered      2018-07-24 20:41:37 2018-07-26 03:24:27   \n",
       "2    delivered      2018-08-08 08:38:49 2018-08-08 08:55:23   \n",
       "3    delivered      2017-11-18 19:28:06 2017-11-18 19:45:59   \n",
       "4    delivered      2018-02-13 21:18:39 2018-02-13 22:20:29   \n",
       "\n",
       "  order_delivered_carrier_date order_delivered_customer_date  \\\n",
       "0          2017-10-04 19:55:00           2017-10-10 21:25:13   \n",
       "1          2018-07-26 14:31:00           2018-08-07 15:27:45   \n",
       "2          2018-08-08 13:50:00           2018-08-17 18:06:29   \n",
       "3          2017-11-22 13:39:59           2017-12-02 00:28:42   \n",
       "4          2018-02-14 19:46:34           2018-02-16 18:17:02   \n",
       "\n",
       "  order_estimated_delivery_date                customer_unique_id  \\\n",
       "0                    2017-10-18  7c396fd4830fd04220f754e42b4e5bff   \n",
       "1                    2018-08-13  af07308b275d755c9edb36a90c618231   \n",
       "2                    2018-09-04  3a653a41f6f9fc3d2a113cf8398680e8   \n",
       "3                    2017-12-15  7c142cf63193a1473d2e66489a9ae977   \n",
       "4                    2018-02-26  72632f0f9dd73dfee390c9b22eb56dd6   \n",
       "\n",
       "   customer_zip_code_prefix            customer_city customer_state  \n",
       "0                      3149                sao paulo             SP  \n",
       "1                     47813                barreiras             BA  \n",
       "2                     75265               vianopolis             GO  \n",
       "3                     59296  sao goncalo do amarante             RN  \n",
       "4                      9195              santo andre             SP  "
      ]
     },
     "execution_count": 20,
     "metadata": {},
     "output_type": "execute_result"
    }
   ],
   "source": [
    "customers_orders_df_task_2.head()"
   ]
  },
  {
   "cell_type": "code",
   "execution_count": 21,
   "metadata": {},
   "outputs": [
    {
     "name": "stdout",
     "output_type": "stream",
     "text": [
      "<class 'pandas.core.frame.DataFrame'>\n",
      "Int64Index: 99441 entries, 0 to 99440\n",
      "Data columns (total 12 columns):\n",
      " #   Column                         Non-Null Count  Dtype         \n",
      "---  ------                         --------------  -----         \n",
      " 0   order_id                       99441 non-null  object        \n",
      " 1   customer_id                    99441 non-null  object        \n",
      " 2   order_status                   99441 non-null  object        \n",
      " 3   order_purchase_timestamp       99441 non-null  datetime64[ns]\n",
      " 4   order_approved_at              99281 non-null  datetime64[ns]\n",
      " 5   order_delivered_carrier_date   97658 non-null  datetime64[ns]\n",
      " 6   order_delivered_customer_date  96476 non-null  datetime64[ns]\n",
      " 7   order_estimated_delivery_date  99441 non-null  datetime64[ns]\n",
      " 8   customer_unique_id             99441 non-null  object        \n",
      " 9   customer_zip_code_prefix       99441 non-null  int64         \n",
      " 10  customer_city                  99441 non-null  object        \n",
      " 11  customer_state                 99441 non-null  object        \n",
      "dtypes: datetime64[ns](5), int64(1), object(6)\n",
      "memory usage: 9.9+ MB\n"
     ]
    }
   ],
   "source": [
    "customers_orders_df_task_2.info()"
   ]
  },
  {
   "cell_type": "markdown",
   "metadata": {},
   "source": [
    "### Замечание:\n",
    "Так как пропущенные значения имеют колонки с датами, то заполним пропуски нулями, для упрощения фильтрации данных."
   ]
  },
  {
   "cell_type": "code",
   "execution_count": 22,
   "metadata": {},
   "outputs": [],
   "source": [
    "# Заполнение пропусков\n",
    "customers_orders_df_task_2 = customers_orders_df_task_2.fillna(0)"
   ]
  },
  {
   "cell_type": "markdown",
   "metadata": {},
   "source": [
    "### Порядок решения задачи:\n",
    "Для выполнения поставленной задачи необходимо перегруппировать данные: \n",
    "- Следует отфильтровать данные по статусу заказа, так как нас интересуют все статусы, кроме **delivered**;\n",
    "- При выполнении предыдущего задания мы выяснили, что статус **canceled** включает в себя как отмененные заказы, так и возвращенные, что позволяет нам отфильтровать данные также по колонке времени доставки заказа (**order_delivered_customer_date**). Нам интересны заказы, которые никогда не были доставлены;\n",
    "- Сгруппировать данные по времени создания заказа (**order_purchase_timestamp**) и по статусу заказа (**order_status**);\n",
    "- Провести аггрегацию по полю уникальный идентификатор заказа (**order_id**) и посчитать количество недоставленных заказов по кажому статусу за каждый месяц;\n",
    "- Имея готовое количество заказов по каждому месяцу и статусу, провести еще одну группировку по статусу заказа (**order_status**);\n",
    "- Провести аггрегацию по полю количество заказов (**count_orders**) и посчитать среднее (в месяц) количество недоставленных заказов по кажому статусу."
   ]
  },
  {
   "cell_type": "code",
   "execution_count": 23,
   "metadata": {},
   "outputs": [
    {
     "data": {
      "text/plain": [
       "210e60465099814a1d2c7635e4065153    1\n",
       "ef99f25a4dd935f92a388af905f868d1    1\n",
       "61d6fb5d839877cf9795ee80fd081935    1\n",
       "2cb5ebc8618b31204c46aab763a8ca88    1\n",
       "b2bd1f09c1b8a4a36940f6f6e49d5dec    1\n",
       "Name: order_id, dtype: int64"
      ]
     },
     "execution_count": 23,
     "metadata": {},
     "output_type": "execute_result"
    }
   ],
   "source": [
    "# Проверим факт того, что все айди заказов уникальные и не повторяются\n",
    "customers_orders_df_task_2.order_id.value_counts().sort_values(ascending=False).head()"
   ]
  },
  {
   "cell_type": "code",
   "execution_count": 24,
   "metadata": {},
   "outputs": [],
   "source": [
    "# Предварительно, для удобства, сократим интересующую нас дату к формату \"год-месяц\"\n",
    "customers_orders_df_task_2['order_purchase_timestamp'] = customers_orders_df_task_2.order_purchase_timestamp.dt.strftime(\"%Y-%m\")"
   ]
  },
  {
   "cell_type": "markdown",
   "metadata": {},
   "source": [
    "Организуем сводную таблицу недоставленных заказов (по статусам) с разбивкой по месяцам."
   ]
  },
  {
   "cell_type": "code",
   "execution_count": 25,
   "metadata": {},
   "outputs": [],
   "source": [
    "non_delivered_pivot = customers_orders_df_task_2 \\\n",
    "    .query(\"order_delivered_customer_date == 0 &\\\n",
    "            order_status != 'delivered'\") \\\n",
    "    .groupby(['order_purchase_timestamp', 'order_status'], as_index=False) \\\n",
    "    .agg({'order_id': 'count'}) \\\n",
    "    .rename(columns={'order_purchase_timestamp': 'order_date',\n",
    "                     'order_id': 'count_orders'}) \\\n",
    "    .pivot(index='order_date', columns='order_status', values='count_orders') \\\n",
    "    .fillna(0)"
   ]
  },
  {
   "cell_type": "markdown",
   "metadata": {},
   "source": [
    "### Детализация\n",
    "Так как данная задача требует детализации полученных данных, то возникает разумный вопрос: каким способом рациональнее всего представить отчет? Напрашивается 2 опции:\n",
    "\n",
    "1. Так как простая сводная таблица может быть некомфортна для восприятия, можно построить тепловую карту на ее основе, которая будет отражать в какие месяцы и на каком статусе возникли проблемы с доставкой.\n",
    "\n",
    "\n",
    "2. Сама задача требует детализации по среднемесячным значениям по каждому статусу, соответственно можно провести дополнительное преобразование данных для того, чтобы получить интересующую информацию."
   ]
  },
  {
   "cell_type": "code",
   "execution_count": 26,
   "metadata": {},
   "outputs": [
    {
     "data": {
      "text/plain": [
       "<matplotlib.axes._subplots.AxesSubplot at 0x7fc058a076d8>"
      ]
     },
     "execution_count": 26,
     "metadata": {},
     "output_type": "execute_result"
    },
    {
     "data": {
      "image/png": "[encoded data removed]",
      "text/plain": [
       "<Figure size 1080x720 with 2 Axes>"
      ]
     },
     "metadata": {
      "needs_background": "light"
     },
     "output_type": "display_data"
    }
   ],
   "source": [
    "# Оборачивание сводной таблицы в тепловую карту, которая позволяет более наглядно выявлять проблемные периоды и статусы\n",
    "\n",
    "fig, ax = plt.subplots(figsize=(15,10))         # Sample figsize in inches\n",
    "sns.heatmap(non_delivered_pivot, annot=True, cmap=\"Blues\")"
   ]
  },
  {
   "cell_type": "code",
   "execution_count": 27,
   "metadata": {},
   "outputs": [],
   "source": [
    "# Исходное требование задачи\n",
    "# Данным преобразованием мы узнаем сколько заказов в месяц в среднем не доставляется по разным причинам\n",
    "detalization = non_delivered_pivot.agg('mean').sort_values(ascending=False)"
   ]
  },
  {
   "cell_type": "code",
   "execution_count": 28,
   "metadata": {},
   "outputs": [
    {
     "data": {
      "text/plain": [
       "order_status\n",
       "shipped        46.125000\n",
       "canceled       25.791667\n",
       "unavailable    25.375000\n",
       "invoiced       13.083333\n",
       "processing     12.541667\n",
       "created         0.208333\n",
       "approved        0.083333\n",
       "dtype: float64"
      ]
     },
     "execution_count": 28,
     "metadata": {},
     "output_type": "execute_result"
    }
   ],
   "source": [
    "detalization"
   ]
  },
  {
   "cell_type": "markdown",
   "metadata": {},
   "source": [
    "# Задача 3\n",
    "По каждому товару определить, в какой день недели товар чаще всего покупается."
   ]
  },
  {
   "cell_type": "markdown",
   "metadata": {},
   "source": [
    "Для работы над данной задачей необходимо объеденить таблицы **items** и **orders**."
   ]
  },
  {
   "cell_type": "code",
   "execution_count": 29,
   "metadata": {},
   "outputs": [],
   "source": [
    "# left join датафреймов с помощью метода merge\n",
    "orders_items_df = orders.merge(items, how='left', on='order_id')"
   ]
  },
  {
   "cell_type": "code",
   "execution_count": 30,
   "metadata": {},
   "outputs": [
    {
     "name": "stdout",
     "output_type": "stream",
     "text": [
      "<class 'pandas.core.frame.DataFrame'>\n",
      "Int64Index: 113425 entries, 0 to 113424\n",
      "Data columns (total 14 columns):\n",
      " #   Column                         Non-Null Count   Dtype         \n",
      "---  ------                         --------------   -----         \n",
      " 0   order_id                       113425 non-null  object        \n",
      " 1   customer_id                    113425 non-null  object        \n",
      " 2   order_status                   113425 non-null  object        \n",
      " 3   order_purchase_timestamp       113425 non-null  datetime64[ns]\n",
      " 4   order_approved_at              113264 non-null  datetime64[ns]\n",
      " 5   order_delivered_carrier_date   111457 non-null  datetime64[ns]\n",
      " 6   order_delivered_customer_date  110196 non-null  datetime64[ns]\n",
      " 7   order_estimated_delivery_date  113425 non-null  datetime64[ns]\n",
      " 8   order_item_id                  112650 non-null  float64       \n",
      " 9   product_id                     112650 non-null  object        \n",
      " 10  seller_id                      112650 non-null  object        \n",
      " 11  shipping_limit_date            112650 non-null  datetime64[ns]\n",
      " 12  price                          112650 non-null  float64       \n",
      " 13  freight_value                  112650 non-null  float64       \n",
      "dtypes: datetime64[ns](6), float64(3), object(5)\n",
      "memory usage: 13.0+ MB\n"
     ]
    }
   ],
   "source": [
    "orders_items_df.info()"
   ]
  },
  {
   "cell_type": "markdown",
   "metadata": {},
   "source": [
    "### Дни недели\n",
    "В данном задании нам необходимо группировать данные по дням недели, чтобы узнать в какой из них было совершено максимальное количество покупок товара. Разумно ввести дополнительную колонку, которая будет хранить себе название дня недели определенной даты. Так как мы хотим узнать в какой день товар чаще всего покупается, то воспользуемся способом фильтрации данных из первого задания и день недели будем определять по времени подтверждения оплаты заказа (**order_approved_at**). "
   ]
  },
  {
   "cell_type": "code",
   "execution_count": 31,
   "metadata": {},
   "outputs": [],
   "source": [
    "# Создаем колонку, которая хранит в себе название дня из времени подтверждения оплаты заказа\n",
    "orders_items_df['approved_day'] = orders_items_df.order_approved_at.dt.day_name()"
   ]
  },
  {
   "cell_type": "markdown",
   "metadata": {},
   "source": [
    "Так как пропущенные значения имеют колонки с датами, то заполним пропуски нулями, для упрощения фильтрации данных."
   ]
  },
  {
   "cell_type": "code",
   "execution_count": 32,
   "metadata": {},
   "outputs": [],
   "source": [
    "# Заполнение пропусков\n",
    "orders_items_df = orders_items_df.fillna(0)"
   ]
  },
  {
   "cell_type": "markdown",
   "metadata": {},
   "source": [
    "### Порядок решения задачи:\n",
    "1. Как и в первом задании, за \"покупку\" будем считать заказы с любым статусом заказа (**order_status**), кроме **created** и **canceled**, а так же заказы, которые имеют время подтверждения оплаты заказа (**order_approved_at**).\n",
    "\n",
    "\n",
    "2. Сгруппируем данные по id товара (**product_id**) и по дням недели (**approved_day**), которые мы получили выше.\n",
    "\n",
    "\n",
    "3. Посчитаем количество покупок.\n",
    "\n",
    "\n",
    "4. Обернем полученный результат в сводную таблицу, строками которой будут id товаров (**product_id**), колонками - дни недели (**approved_day**), а значениями выступят посчитанные значения количества покупок для каждого товара (**purchases**)."
   ]
  },
  {
   "cell_type": "code",
   "execution_count": 33,
   "metadata": {},
   "outputs": [],
   "source": [
    "# Расчет сводной таблицы по описанному выше алгоритму\n",
    "day_pivot = orders_items_df \\\n",
    "    .query(\"order_status != 'created' & \\\n",
    "            order_status != 'canceled' & \\\n",
    "            order_approved_at != 0 & \\\n",
    "            product_id != 0\") \\\n",
    "    .groupby(['product_id', 'approved_day'], as_index=False) \\\n",
    "    .agg({'order_id': 'count'}) \\\n",
    "    .rename(columns={'order_id': 'purchases'}) \\\n",
    "    .pivot(index='product_id', columns='approved_day', values='purchases') \\\n",
    "    .fillna(0)"
   ]
  },
  {
   "cell_type": "markdown",
   "metadata": {},
   "source": [
    "### Детализация\n",
    "Так как нам требуется узнать день недели, в который товар чаще всего покупается, то разумно сконцентрировать внимание читателя на конкретном значении в таблице. Для этого можно использовать 2 опции:\n",
    "\n",
    "1. Создать дополнительную колонку, которая будет хранить в себе название дня недели, в который было совершено максимальное количество покупок товара.\n",
    "\n",
    "\n",
    "2. Так как максимальных значений может быть несколько у одного продукта (например, его купили по 2 раза во вт, ср и чт), то разумно выделить максимальные значения цветом.\n",
    "\n",
    "Реализация второй опции представлена ниже. Получившаяся таблица хранит в себе 30+K строк, оставлять ее полностью в ноутбуке не лучшая затея, так как она сильно замедляет скорость работы. Для проверки исполнения просто запустите датасет и немного подождите :)"
   ]
  },
  {
   "cell_type": "code",
   "execution_count": 34,
   "metadata": {},
   "outputs": [],
   "source": [
    "day_pivot = day_pivot.style.highlight_max(axis=1)"
   ]
  },
  {
   "cell_type": "code",
   "execution_count": null,
   "metadata": {},
   "outputs": [],
   "source": [
    "day_pivot"
   ]
  },
  {
   "cell_type": "markdown",
   "metadata": {},
   "source": [
    "# Задача 4\n",
    "Сколько у каждого из пользователей в среднем покупок в неделю (по месяцам)? Не стоит забывать, что внутри месяца может быть не целое количество недель. Например, в ноябре 2021 года 4,28 недели. И внутри метрики это нужно учесть."
   ]
  },
  {
   "cell_type": "markdown",
   "metadata": {},
   "source": [
    "Для решения данной задачи необходимо использовать данные из таблицы **orders** и **customers**, чтобы иметь доступ к уникальному id пользователя (**customer_unique_id**)."
   ]
  },
  {
   "cell_type": "code",
   "execution_count": 35,
   "metadata": {},
   "outputs": [],
   "source": [
    "# left join датафреймов с помощью метода merge\n",
    "customers_purchases_df = orders.merge(customers, how='left', on='customer_id')"
   ]
  },
  {
   "cell_type": "code",
   "execution_count": 36,
   "metadata": {},
   "outputs": [],
   "source": [
    "# Для упрощения группировки сократим интересующую нас дату покупки к формату \"год-месяц\", записав ее в новую колонку\n",
    "customers_purchases_df['approved_month'] = customers_purchases_df.order_approved_at.dt.strftime(\"%Y-%m\")"
   ]
  },
  {
   "cell_type": "code",
   "execution_count": 37,
   "metadata": {},
   "outputs": [
    {
     "name": "stdout",
     "output_type": "stream",
     "text": [
      "<class 'pandas.core.frame.DataFrame'>\n",
      "Int64Index: 99441 entries, 0 to 99440\n",
      "Data columns (total 13 columns):\n",
      " #   Column                         Non-Null Count  Dtype         \n",
      "---  ------                         --------------  -----         \n",
      " 0   order_id                       99441 non-null  object        \n",
      " 1   customer_id                    99441 non-null  object        \n",
      " 2   order_status                   99441 non-null  object        \n",
      " 3   order_purchase_timestamp       99441 non-null  datetime64[ns]\n",
      " 4   order_approved_at              99281 non-null  datetime64[ns]\n",
      " 5   order_delivered_carrier_date   97658 non-null  datetime64[ns]\n",
      " 6   order_delivered_customer_date  96476 non-null  datetime64[ns]\n",
      " 7   order_estimated_delivery_date  99441 non-null  datetime64[ns]\n",
      " 8   customer_unique_id             99441 non-null  object        \n",
      " 9   customer_zip_code_prefix       99441 non-null  int64         \n",
      " 10  customer_city                  99441 non-null  object        \n",
      " 11  customer_state                 99441 non-null  object        \n",
      " 12  approved_month                 99281 non-null  object        \n",
      "dtypes: datetime64[ns](5), int64(1), object(7)\n",
      "memory usage: 10.6+ MB\n"
     ]
    }
   ],
   "source": [
    "customers_purchases_df.info()"
   ]
  },
  {
   "cell_type": "markdown",
   "metadata": {},
   "source": [
    "### Порядок решения задачи:\n",
    "1. Так как пропущенные значения присутствуют только в колонках с датами, заполним их нулями, для упрощения фильтрации данных.\n",
    "\n",
    "\n",
    "2. Отфильтруем из исходной таблицы только покупки. Согласно методологии из первого задания за \"покупку\" будем считать заказы с любым статусом заказа (**order_status**), кроме created и canceled, а так же заказы, которые имеют время подтверждения оплаты заказа (**approved_month**).\n",
    "\n",
    "\n",
    "3. Сгруппируем данные по месяцу покупки (**approved_month**) и уникальному id пользователя (**customer_unique_id**).\n",
    "\n",
    "\n",
    "4. Посчитаем количество покупок у каждого пользователя в каждый месяц, проведя аггрегацию."
   ]
  },
  {
   "cell_type": "code",
   "execution_count": 38,
   "metadata": {},
   "outputs": [],
   "source": [
    "buying_by_month = customers_purchases_df \\\n",
    "    .fillna(0) \\\n",
    "    .query(\"order_status != 'created' & \\\n",
    "            order_status != 'canceled' & \\\n",
    "            approved_month != 0\") \\\n",
    "    .groupby(['approved_month', 'customer_unique_id'], as_index=False) \\\n",
    "    .agg({'order_id': 'count'})"
   ]
  },
  {
   "cell_type": "markdown",
   "metadata": {},
   "source": [
    "В получившуюся таблицу добавим вспомогательные колонки:\n",
    "1. Приведем тип данных колонки с датой покупки (**approved_month**) к временному типу.\n",
    "\n",
    "\n",
    "2. Посчитаем для каждого месяца количетво недель разделив количество дней в месяце на 7 (**week_in_month**).\n",
    "\n",
    "\n",
    "3. Рассчитаем у каждого из пользователей среднее количество покупок в неделю (по месяцам) (**avg_week_purchases**)."
   ]
  },
  {
   "cell_type": "code",
   "execution_count": 39,
   "metadata": {},
   "outputs": [],
   "source": [
    "buying_by_month['approved_month']     = pd.to_datetime(buying_by_month.approved_month)\n",
    "buying_by_month['week_in_month']      = (buying_by_month.approved_month.dt.daysinmonth / 7).round(2)\n",
    "buying_by_month['avg_week_purchases'] = (buying_by_month.order_id / buying_by_month.week_in_month).round(2)"
   ]
  },
  {
   "cell_type": "code",
   "execution_count": 40,
   "metadata": {},
   "outputs": [
    {
     "data": {
      "text/html": [
       "<div>\n",
       "<style scoped>\n",
       "    .dataframe tbody tr th:only-of-type {\n",
       "        vertical-align: middle;\n",
       "    }\n",
       "\n",
       "    .dataframe tbody tr th {\n",
       "        vertical-align: top;\n",
       "    }\n",
       "\n",
       "    .dataframe thead th {\n",
       "        text-align: right;\n",
       "    }\n",
       "</style>\n",
       "<table border=\"1\" class=\"dataframe\">\n",
       "  <thead>\n",
       "    <tr style=\"text-align: right;\">\n",
       "      <th></th>\n",
       "      <th>approved_month</th>\n",
       "      <th>customer_unique_id</th>\n",
       "      <th>order_id</th>\n",
       "      <th>week_in_month</th>\n",
       "      <th>avg_week_purchases</th>\n",
       "    </tr>\n",
       "  </thead>\n",
       "  <tbody>\n",
       "    <tr>\n",
       "      <th>0</th>\n",
       "      <td>2016-09-01</td>\n",
       "      <td>830d5b7aaa3b6f1e9ad63703bec97d23</td>\n",
       "      <td>1</td>\n",
       "      <td>4.29</td>\n",
       "      <td>0.23</td>\n",
       "    </tr>\n",
       "    <tr>\n",
       "      <th>1</th>\n",
       "      <td>2016-10-01</td>\n",
       "      <td>0032c76b20340da25249092a268ce66c</td>\n",
       "      <td>1</td>\n",
       "      <td>4.43</td>\n",
       "      <td>0.23</td>\n",
       "    </tr>\n",
       "    <tr>\n",
       "      <th>2</th>\n",
       "      <td>2016-10-01</td>\n",
       "      <td>01f156677184504063bd19739f924af1</td>\n",
       "      <td>1</td>\n",
       "      <td>4.43</td>\n",
       "      <td>0.23</td>\n",
       "    </tr>\n",
       "    <tr>\n",
       "      <th>3</th>\n",
       "      <td>2016-10-01</td>\n",
       "      <td>0313291a6f4f16df04dcf819d88c38ef</td>\n",
       "      <td>1</td>\n",
       "      <td>4.43</td>\n",
       "      <td>0.23</td>\n",
       "    </tr>\n",
       "    <tr>\n",
       "      <th>4</th>\n",
       "      <td>2016-10-01</td>\n",
       "      <td>0636d30c77f0f9cfad81f1c9b58c791f</td>\n",
       "      <td>1</td>\n",
       "      <td>4.43</td>\n",
       "      <td>0.23</td>\n",
       "    </tr>\n",
       "  </tbody>\n",
       "</table>\n",
       "</div>"
      ],
      "text/plain": [
       "  approved_month                customer_unique_id  order_id  week_in_month  \\\n",
       "0     2016-09-01  830d5b7aaa3b6f1e9ad63703bec97d23         1           4.29   \n",
       "1     2016-10-01  0032c76b20340da25249092a268ce66c         1           4.43   \n",
       "2     2016-10-01  01f156677184504063bd19739f924af1         1           4.43   \n",
       "3     2016-10-01  0313291a6f4f16df04dcf819d88c38ef         1           4.43   \n",
       "4     2016-10-01  0636d30c77f0f9cfad81f1c9b58c791f         1           4.43   \n",
       "\n",
       "   avg_week_purchases  \n",
       "0                0.23  \n",
       "1                0.23  \n",
       "2                0.23  \n",
       "3                0.23  \n",
       "4                0.23  "
      ]
     },
     "execution_count": 40,
     "metadata": {},
     "output_type": "execute_result"
    }
   ],
   "source": [
    "buying_by_month.head()"
   ]
  },
  {
   "cell_type": "markdown",
   "metadata": {},
   "source": [
    "Заключительным этапом обернем полученные данные в сводную таблицу, в строках которой будут id пользователей (**customer_unique_id**) колонками станут месяца (**approved_month**), а значениями будет среднее количество покупок в неделю (**avg_week_purchases**). Пропущенные значения заполним нулями."
   ]
  },
  {
   "cell_type": "code",
   "execution_count": 41,
   "metadata": {},
   "outputs": [],
   "source": [
    "avg_week_buying_by_users = buying_by_month \\\n",
    "    .pivot(index='customer_unique_id', columns='approved_month', values='avg_week_purchases') \\\n",
    "    .fillna(0)"
   ]
  },
  {
   "cell_type": "code",
   "execution_count": 42,
   "metadata": {},
   "outputs": [
    {
     "data": {
      "text/html": [
       "<div>\n",
       "<style scoped>\n",
       "    .dataframe tbody tr th:only-of-type {\n",
       "        vertical-align: middle;\n",
       "    }\n",
       "\n",
       "    .dataframe tbody tr th {\n",
       "        vertical-align: top;\n",
       "    }\n",
       "\n",
       "    .dataframe thead th {\n",
       "        text-align: right;\n",
       "    }\n",
       "</style>\n",
       "<table border=\"1\" class=\"dataframe\">\n",
       "  <thead>\n",
       "    <tr style=\"text-align: right;\">\n",
       "      <th>approved_month</th>\n",
       "      <th>2016-09-01</th>\n",
       "      <th>2016-10-01</th>\n",
       "      <th>2016-12-01</th>\n",
       "      <th>2017-01-01</th>\n",
       "      <th>2017-02-01</th>\n",
       "      <th>2017-03-01</th>\n",
       "      <th>2017-04-01</th>\n",
       "      <th>2017-05-01</th>\n",
       "      <th>2017-06-01</th>\n",
       "      <th>2017-07-01</th>\n",
       "      <th>...</th>\n",
       "      <th>2017-12-01</th>\n",
       "      <th>2018-01-01</th>\n",
       "      <th>2018-02-01</th>\n",
       "      <th>2018-03-01</th>\n",
       "      <th>2018-04-01</th>\n",
       "      <th>2018-05-01</th>\n",
       "      <th>2018-06-01</th>\n",
       "      <th>2018-07-01</th>\n",
       "      <th>2018-08-01</th>\n",
       "      <th>2018-09-01</th>\n",
       "    </tr>\n",
       "    <tr>\n",
       "      <th>customer_unique_id</th>\n",
       "      <th></th>\n",
       "      <th></th>\n",
       "      <th></th>\n",
       "      <th></th>\n",
       "      <th></th>\n",
       "      <th></th>\n",
       "      <th></th>\n",
       "      <th></th>\n",
       "      <th></th>\n",
       "      <th></th>\n",
       "      <th></th>\n",
       "      <th></th>\n",
       "      <th></th>\n",
       "      <th></th>\n",
       "      <th></th>\n",
       "      <th></th>\n",
       "      <th></th>\n",
       "      <th></th>\n",
       "      <th></th>\n",
       "      <th></th>\n",
       "      <th></th>\n",
       "    </tr>\n",
       "  </thead>\n",
       "  <tbody>\n",
       "    <tr>\n",
       "      <th>0000366f3b9a7992bf8c76cfdf3221e2</th>\n",
       "      <td>0.0</td>\n",
       "      <td>0.0</td>\n",
       "      <td>0.0</td>\n",
       "      <td>0.0</td>\n",
       "      <td>0.0</td>\n",
       "      <td>0.00</td>\n",
       "      <td>0.0</td>\n",
       "      <td>0.0</td>\n",
       "      <td>0.0</td>\n",
       "      <td>0.0</td>\n",
       "      <td>...</td>\n",
       "      <td>0.0</td>\n",
       "      <td>0.0</td>\n",
       "      <td>0.0</td>\n",
       "      <td>0.0</td>\n",
       "      <td>0.0</td>\n",
       "      <td>0.23</td>\n",
       "      <td>0.0</td>\n",
       "      <td>0.0</td>\n",
       "      <td>0.0</td>\n",
       "      <td>0.0</td>\n",
       "    </tr>\n",
       "    <tr>\n",
       "      <th>0000b849f77a49e4a4ce2b2a4ca5be3f</th>\n",
       "      <td>0.0</td>\n",
       "      <td>0.0</td>\n",
       "      <td>0.0</td>\n",
       "      <td>0.0</td>\n",
       "      <td>0.0</td>\n",
       "      <td>0.00</td>\n",
       "      <td>0.0</td>\n",
       "      <td>0.0</td>\n",
       "      <td>0.0</td>\n",
       "      <td>0.0</td>\n",
       "      <td>...</td>\n",
       "      <td>0.0</td>\n",
       "      <td>0.0</td>\n",
       "      <td>0.0</td>\n",
       "      <td>0.0</td>\n",
       "      <td>0.0</td>\n",
       "      <td>0.23</td>\n",
       "      <td>0.0</td>\n",
       "      <td>0.0</td>\n",
       "      <td>0.0</td>\n",
       "      <td>0.0</td>\n",
       "    </tr>\n",
       "    <tr>\n",
       "      <th>0000f46a3911fa3c0805444483337064</th>\n",
       "      <td>0.0</td>\n",
       "      <td>0.0</td>\n",
       "      <td>0.0</td>\n",
       "      <td>0.0</td>\n",
       "      <td>0.0</td>\n",
       "      <td>0.23</td>\n",
       "      <td>0.0</td>\n",
       "      <td>0.0</td>\n",
       "      <td>0.0</td>\n",
       "      <td>0.0</td>\n",
       "      <td>...</td>\n",
       "      <td>0.0</td>\n",
       "      <td>0.0</td>\n",
       "      <td>0.0</td>\n",
       "      <td>0.0</td>\n",
       "      <td>0.0</td>\n",
       "      <td>0.00</td>\n",
       "      <td>0.0</td>\n",
       "      <td>0.0</td>\n",
       "      <td>0.0</td>\n",
       "      <td>0.0</td>\n",
       "    </tr>\n",
       "    <tr>\n",
       "      <th>0000f6ccb0745a6a4b88665a16c9f078</th>\n",
       "      <td>0.0</td>\n",
       "      <td>0.0</td>\n",
       "      <td>0.0</td>\n",
       "      <td>0.0</td>\n",
       "      <td>0.0</td>\n",
       "      <td>0.00</td>\n",
       "      <td>0.0</td>\n",
       "      <td>0.0</td>\n",
       "      <td>0.0</td>\n",
       "      <td>0.0</td>\n",
       "      <td>...</td>\n",
       "      <td>0.0</td>\n",
       "      <td>0.0</td>\n",
       "      <td>0.0</td>\n",
       "      <td>0.0</td>\n",
       "      <td>0.0</td>\n",
       "      <td>0.00</td>\n",
       "      <td>0.0</td>\n",
       "      <td>0.0</td>\n",
       "      <td>0.0</td>\n",
       "      <td>0.0</td>\n",
       "    </tr>\n",
       "    <tr>\n",
       "      <th>0004aac84e0df4da2b147fca70cf8255</th>\n",
       "      <td>0.0</td>\n",
       "      <td>0.0</td>\n",
       "      <td>0.0</td>\n",
       "      <td>0.0</td>\n",
       "      <td>0.0</td>\n",
       "      <td>0.00</td>\n",
       "      <td>0.0</td>\n",
       "      <td>0.0</td>\n",
       "      <td>0.0</td>\n",
       "      <td>0.0</td>\n",
       "      <td>...</td>\n",
       "      <td>0.0</td>\n",
       "      <td>0.0</td>\n",
       "      <td>0.0</td>\n",
       "      <td>0.0</td>\n",
       "      <td>0.0</td>\n",
       "      <td>0.00</td>\n",
       "      <td>0.0</td>\n",
       "      <td>0.0</td>\n",
       "      <td>0.0</td>\n",
       "      <td>0.0</td>\n",
       "    </tr>\n",
       "  </tbody>\n",
       "</table>\n",
       "<p>5 rows × 24 columns</p>\n",
       "</div>"
      ],
      "text/plain": [
       "approved_month                    2016-09-01  2016-10-01  2016-12-01  \\\n",
       "customer_unique_id                                                     \n",
       "0000366f3b9a7992bf8c76cfdf3221e2         0.0         0.0         0.0   \n",
       "0000b849f77a49e4a4ce2b2a4ca5be3f         0.0         0.0         0.0   \n",
       "0000f46a3911fa3c0805444483337064         0.0         0.0         0.0   \n",
       "0000f6ccb0745a6a4b88665a16c9f078         0.0         0.0         0.0   \n",
       "0004aac84e0df4da2b147fca70cf8255         0.0         0.0         0.0   \n",
       "\n",
       "approved_month                    2017-01-01  2017-02-01  2017-03-01  \\\n",
       "customer_unique_id                                                     \n",
       "0000366f3b9a7992bf8c76cfdf3221e2         0.0         0.0        0.00   \n",
       "0000b849f77a49e4a4ce2b2a4ca5be3f         0.0         0.0        0.00   \n",
       "0000f46a3911fa3c0805444483337064         0.0         0.0        0.23   \n",
       "0000f6ccb0745a6a4b88665a16c9f078         0.0         0.0        0.00   \n",
       "0004aac84e0df4da2b147fca70cf8255         0.0         0.0        0.00   \n",
       "\n",
       "approved_month                    2017-04-01  2017-05-01  2017-06-01  \\\n",
       "customer_unique_id                                                     \n",
       "0000366f3b9a7992bf8c76cfdf3221e2         0.0         0.0         0.0   \n",
       "0000b849f77a49e4a4ce2b2a4ca5be3f         0.0         0.0         0.0   \n",
       "0000f46a3911fa3c0805444483337064         0.0         0.0         0.0   \n",
       "0000f6ccb0745a6a4b88665a16c9f078         0.0         0.0         0.0   \n",
       "0004aac84e0df4da2b147fca70cf8255         0.0         0.0         0.0   \n",
       "\n",
       "approved_month                    2017-07-01  ...  2017-12-01  2018-01-01  \\\n",
       "customer_unique_id                            ...                           \n",
       "0000366f3b9a7992bf8c76cfdf3221e2         0.0  ...         0.0         0.0   \n",
       "0000b849f77a49e4a4ce2b2a4ca5be3f         0.0  ...         0.0         0.0   \n",
       "0000f46a3911fa3c0805444483337064         0.0  ...         0.0         0.0   \n",
       "0000f6ccb0745a6a4b88665a16c9f078         0.0  ...         0.0         0.0   \n",
       "0004aac84e0df4da2b147fca70cf8255         0.0  ...         0.0         0.0   \n",
       "\n",
       "approved_month                    2018-02-01  2018-03-01  2018-04-01  \\\n",
       "customer_unique_id                                                     \n",
       "0000366f3b9a7992bf8c76cfdf3221e2         0.0         0.0         0.0   \n",
       "0000b849f77a49e4a4ce2b2a4ca5be3f         0.0         0.0         0.0   \n",
       "0000f46a3911fa3c0805444483337064         0.0         0.0         0.0   \n",
       "0000f6ccb0745a6a4b88665a16c9f078         0.0         0.0         0.0   \n",
       "0004aac84e0df4da2b147fca70cf8255         0.0         0.0         0.0   \n",
       "\n",
       "approved_month                    2018-05-01  2018-06-01  2018-07-01  \\\n",
       "customer_unique_id                                                     \n",
       "0000366f3b9a7992bf8c76cfdf3221e2        0.23         0.0         0.0   \n",
       "0000b849f77a49e4a4ce2b2a4ca5be3f        0.23         0.0         0.0   \n",
       "0000f46a3911fa3c0805444483337064        0.00         0.0         0.0   \n",
       "0000f6ccb0745a6a4b88665a16c9f078        0.00         0.0         0.0   \n",
       "0004aac84e0df4da2b147fca70cf8255        0.00         0.0         0.0   \n",
       "\n",
       "approved_month                    2018-08-01  2018-09-01  \n",
       "customer_unique_id                                        \n",
       "0000366f3b9a7992bf8c76cfdf3221e2         0.0         0.0  \n",
       "0000b849f77a49e4a4ce2b2a4ca5be3f         0.0         0.0  \n",
       "0000f46a3911fa3c0805444483337064         0.0         0.0  \n",
       "0000f6ccb0745a6a4b88665a16c9f078         0.0         0.0  \n",
       "0004aac84e0df4da2b147fca70cf8255         0.0         0.0  \n",
       "\n",
       "[5 rows x 24 columns]"
      ]
     },
     "execution_count": 42,
     "metadata": {},
     "output_type": "execute_result"
    }
   ],
   "source": [
    "avg_week_buying_by_users.head()"
   ]
  },
  {
   "cell_type": "markdown",
   "metadata": {},
   "source": [
    "# Задача 5\n",
    "Напиши функцию на python, позволяющую строить когортный анализ. В период с января по декабрь выяви когорту с самым высоким retention на 3-й месяц."
   ]
  },
  {
   "cell_type": "markdown",
   "metadata": {},
   "source": [
    "Для выполнения данного задания необходимо объединить 2 таблицы: **orders** и **customers**"
   ]
  },
  {
   "cell_type": "code",
   "execution_count": 43,
   "metadata": {},
   "outputs": [],
   "source": [
    "# left join датафреймов с помощью метода merge\n",
    "sales_df = orders.merge(customers, how='left', on='customer_id')"
   ]
  },
  {
   "cell_type": "code",
   "execution_count": 44,
   "metadata": {},
   "outputs": [
    {
     "name": "stdout",
     "output_type": "stream",
     "text": [
      "<class 'pandas.core.frame.DataFrame'>\n",
      "Int64Index: 99441 entries, 0 to 99440\n",
      "Data columns (total 12 columns):\n",
      " #   Column                         Non-Null Count  Dtype         \n",
      "---  ------                         --------------  -----         \n",
      " 0   order_id                       99441 non-null  object        \n",
      " 1   customer_id                    99441 non-null  object        \n",
      " 2   order_status                   99441 non-null  object        \n",
      " 3   order_purchase_timestamp       99441 non-null  datetime64[ns]\n",
      " 4   order_approved_at              99281 non-null  datetime64[ns]\n",
      " 5   order_delivered_carrier_date   97658 non-null  datetime64[ns]\n",
      " 6   order_delivered_customer_date  96476 non-null  datetime64[ns]\n",
      " 7   order_estimated_delivery_date  99441 non-null  datetime64[ns]\n",
      " 8   customer_unique_id             99441 non-null  object        \n",
      " 9   customer_zip_code_prefix       99441 non-null  int64         \n",
      " 10  customer_city                  99441 non-null  object        \n",
      " 11  customer_state                 99441 non-null  object        \n",
      "dtypes: datetime64[ns](5), int64(1), object(6)\n",
      "memory usage: 9.9+ MB\n"
     ]
    }
   ],
   "source": [
    "sales_df.info()"
   ]
  },
  {
   "cell_type": "markdown",
   "metadata": {},
   "source": [
    "**Выводы:** пропущенные значения имеют колонки с датами"
   ]
  },
  {
   "cell_type": "code",
   "execution_count": 45,
   "metadata": {},
   "outputs": [],
   "source": [
    "def cohort_analysis(data):\n",
    "    \n",
    "    \"\"\"\n",
    "       Функция реализует метод построения когорт для изучения помесячного retention покупателей.\n",
    "       \n",
    "       За \"покупку\" будем считать заказы с любым статусом заказа (order_status), кроме created и canceled,\n",
    "       и заказы, которые имеют время подтверждения оплаты заказа (approved_month).\n",
    "       \n",
    "       Параметры\n",
    "       ---------\n",
    "       data: pandas DataFrame\n",
    "           Датасет\n",
    "    \"\"\"\n",
    "    \n",
    "    # Заполняем пропущенные значения в колонках с датами\n",
    "    # Фильтруем данные, доставая из них только \"покупки\"\n",
    "    df_for_cohort = data \\\n",
    "        .fillna(0) \\\n",
    "        .query(\"order_status != 'created' & \\\n",
    "                order_status != 'canceled' & \\\n",
    "                order_approved_at != 0\")\n",
    "    \n",
    "    # Перевоидм колонку с датой покупки во временной тип данных\n",
    "    df_for_cohort['order_approved_at'] = pd.to_datetime(df_for_cohort.order_approved_at)\n",
    "    \n",
    "    # Оставляем в таблице только интересующие нас колонки с id юзера, покупки и датой покупки\n",
    "    df_for_cohort = df_for_cohort[['customer_unique_id', 'order_id', 'order_approved_at']]\n",
    "    \n",
    "    # Создаем новую колонку, которая будет хранить в себе месяц покупки\n",
    "    df_for_cohort['order_month'] = df_for_cohort['order_approved_at'].dt.to_period('M')\n",
    "    \n",
    "    # Создаем колонку, которая будет хранить в себе признак когортны - дату первой покупки (\"год - месяц\")\n",
    "    df_for_cohort['cohort'] = df_for_cohort \\\n",
    "        .groupby('customer_unique_id')['order_approved_at'] \\\n",
    "        .transform('min') \\\n",
    "        .dt.to_period('M')\n",
    "    \n",
    "    # Группируем данные по когортам и датам первой покупки\n",
    "    # Считаем количество пользователей, совершивших покупку, в каждом периоде по каждой когорте\n",
    "    df_cohort = df_for_cohort \\\n",
    "        .groupby(['cohort', 'order_month'], as_index=False) \\\n",
    "        .agg(n_customers=('customer_unique_id', 'nunique'))\n",
    "\n",
    "    # Создадим колонку, в которой найдем разницу в месяцах между датой покупки и датой первой покупки\n",
    "    # Из этой разницу возьмем только целочисленное значение разницы, которое станет номером периода\n",
    "    df_cohort['period_number'] = (df_cohort.order_month - df_cohort.cohort).apply(attrgetter('n'))\n",
    "    \n",
    "    # Преобразуем данные в сводную таблицу\n",
    "    cohort_pivot = df_cohort.pivot_table(index   = 'cohort',         # Строки - когорты\n",
    "                                         columns = 'period_number',  # Колонки - периоды (разница между когортой)\n",
    "                                         values  = 'n_customers')    # Значения - количество пользователей, совершивших покупку\n",
    "    \n",
    "    # Создаем pdSeries с количеством пользователей, совершивших покупку, в когорте\n",
    "    cohort_size = cohort_pivot.iloc[:,0]\n",
    "    \n",
    "    # Рассчитываем retention: долю пользователей, совершивших покупку, в периоде относительно количества пользователей в когорте\n",
    "    retention_matrix = cohort_pivot.divide(cohort_size, axis = 0)\n",
    "    \n",
    "    # Наводим марафет\n",
    "    my_cohort_style = (retention_matrix\n",
    "            .style\n",
    "            .set_caption('User retention by cohort')  # Добавляем подпись\n",
    "            .background_gradient(cmap='summer')       # Раскрашиваем ячейки по столбцам\n",
    "            .highlight_null('white')                  # Делаем белый фон для значений NaN\n",
    "            .format(\"{:.2%}\", na_rep=\"\"))             # Числа форматируем как проценты, NaN заменяем на пустоту\n",
    "    \n",
    "    return my_cohort_style"
   ]
  },
  {
   "cell_type": "code",
   "execution_count": 46,
   "metadata": {},
   "outputs": [
    {
     "data": {
      "text/html": [
       "<style  type=\"text/css\" >\n",
       "#T_028bb58c_88c3_11ec_bdbb_96000040dfb6row0_col0,#T_028bb58c_88c3_11ec_bdbb_96000040dfb6row1_col0,#T_028bb58c_88c3_11ec_bdbb_96000040dfb6row1_col19,#T_028bb58c_88c3_11ec_bdbb_96000040dfb6row2_col0,#T_028bb58c_88c3_11ec_bdbb_96000040dfb6row3_col0,#T_028bb58c_88c3_11ec_bdbb_96000040dfb6row3_col18,#T_028bb58c_88c3_11ec_bdbb_96000040dfb6row4_col0,#T_028bb58c_88c3_11ec_bdbb_96000040dfb6row4_col1,#T_028bb58c_88c3_11ec_bdbb_96000040dfb6row4_col5,#T_028bb58c_88c3_11ec_bdbb_96000040dfb6row4_col10,#T_028bb58c_88c3_11ec_bdbb_96000040dfb6row4_col15,#T_028bb58c_88c3_11ec_bdbb_96000040dfb6row4_col16,#T_028bb58c_88c3_11ec_bdbb_96000040dfb6row5_col0,#T_028bb58c_88c3_11ec_bdbb_96000040dfb6row5_col17,#T_028bb58c_88c3_11ec_bdbb_96000040dfb6row6_col0,#T_028bb58c_88c3_11ec_bdbb_96000040dfb6row6_col2,#T_028bb58c_88c3_11ec_bdbb_96000040dfb6row6_col12,#T_028bb58c_88c3_11ec_bdbb_96000040dfb6row6_col13,#T_028bb58c_88c3_11ec_bdbb_96000040dfb6row6_col14,#T_028bb58c_88c3_11ec_bdbb_96000040dfb6row7_col0,#T_028bb58c_88c3_11ec_bdbb_96000040dfb6row8_col0,#T_028bb58c_88c3_11ec_bdbb_96000040dfb6row9_col0,#T_028bb58c_88c3_11ec_bdbb_96000040dfb6row10_col0,#T_028bb58c_88c3_11ec_bdbb_96000040dfb6row11_col0,#T_028bb58c_88c3_11ec_bdbb_96000040dfb6row11_col11,#T_028bb58c_88c3_11ec_bdbb_96000040dfb6row12_col0,#T_028bb58c_88c3_11ec_bdbb_96000040dfb6row12_col3,#T_028bb58c_88c3_11ec_bdbb_96000040dfb6row13_col0,#T_028bb58c_88c3_11ec_bdbb_96000040dfb6row13_col6,#T_028bb58c_88c3_11ec_bdbb_96000040dfb6row13_col8,#T_028bb58c_88c3_11ec_bdbb_96000040dfb6row13_col9,#T_028bb58c_88c3_11ec_bdbb_96000040dfb6row14_col0,#T_028bb58c_88c3_11ec_bdbb_96000040dfb6row14_col1,#T_028bb58c_88c3_11ec_bdbb_96000040dfb6row14_col7,#T_028bb58c_88c3_11ec_bdbb_96000040dfb6row15_col0,#T_028bb58c_88c3_11ec_bdbb_96000040dfb6row15_col1,#T_028bb58c_88c3_11ec_bdbb_96000040dfb6row16_col0,#T_028bb58c_88c3_11ec_bdbb_96000040dfb6row16_col1,#T_028bb58c_88c3_11ec_bdbb_96000040dfb6row17_col0,#T_028bb58c_88c3_11ec_bdbb_96000040dfb6row18_col0,#T_028bb58c_88c3_11ec_bdbb_96000040dfb6row18_col4,#T_028bb58c_88c3_11ec_bdbb_96000040dfb6row19_col0,#T_028bb58c_88c3_11ec_bdbb_96000040dfb6row20_col0,#T_028bb58c_88c3_11ec_bdbb_96000040dfb6row20_col1,#T_028bb58c_88c3_11ec_bdbb_96000040dfb6row21_col0,#T_028bb58c_88c3_11ec_bdbb_96000040dfb6row22_col0,#T_028bb58c_88c3_11ec_bdbb_96000040dfb6row22_col1{\n",
       "            background-color:  #008066;\n",
       "            color:  #f1f1f1;\n",
       "        }#T_028bb58c_88c3_11ec_bdbb_96000040dfb6row0_col1,#T_028bb58c_88c3_11ec_bdbb_96000040dfb6row0_col2,#T_028bb58c_88c3_11ec_bdbb_96000040dfb6row0_col3,#T_028bb58c_88c3_11ec_bdbb_96000040dfb6row0_col4,#T_028bb58c_88c3_11ec_bdbb_96000040dfb6row0_col5,#T_028bb58c_88c3_11ec_bdbb_96000040dfb6row0_col6,#T_028bb58c_88c3_11ec_bdbb_96000040dfb6row0_col7,#T_028bb58c_88c3_11ec_bdbb_96000040dfb6row0_col8,#T_028bb58c_88c3_11ec_bdbb_96000040dfb6row0_col9,#T_028bb58c_88c3_11ec_bdbb_96000040dfb6row0_col10,#T_028bb58c_88c3_11ec_bdbb_96000040dfb6row0_col11,#T_028bb58c_88c3_11ec_bdbb_96000040dfb6row0_col12,#T_028bb58c_88c3_11ec_bdbb_96000040dfb6row0_col13,#T_028bb58c_88c3_11ec_bdbb_96000040dfb6row0_col14,#T_028bb58c_88c3_11ec_bdbb_96000040dfb6row0_col15,#T_028bb58c_88c3_11ec_bdbb_96000040dfb6row0_col16,#T_028bb58c_88c3_11ec_bdbb_96000040dfb6row0_col17,#T_028bb58c_88c3_11ec_bdbb_96000040dfb6row0_col18,#T_028bb58c_88c3_11ec_bdbb_96000040dfb6row1_col1,#T_028bb58c_88c3_11ec_bdbb_96000040dfb6row1_col2,#T_028bb58c_88c3_11ec_bdbb_96000040dfb6row1_col3,#T_028bb58c_88c3_11ec_bdbb_96000040dfb6row1_col4,#T_028bb58c_88c3_11ec_bdbb_96000040dfb6row1_col5,#T_028bb58c_88c3_11ec_bdbb_96000040dfb6row1_col7,#T_028bb58c_88c3_11ec_bdbb_96000040dfb6row1_col8,#T_028bb58c_88c3_11ec_bdbb_96000040dfb6row1_col10,#T_028bb58c_88c3_11ec_bdbb_96000040dfb6row1_col12,#T_028bb58c_88c3_11ec_bdbb_96000040dfb6row1_col14,#T_028bb58c_88c3_11ec_bdbb_96000040dfb6row1_col16,#T_028bb58c_88c3_11ec_bdbb_96000040dfb6row2_col2,#T_028bb58c_88c3_11ec_bdbb_96000040dfb6row2_col3,#T_028bb58c_88c3_11ec_bdbb_96000040dfb6row2_col4,#T_028bb58c_88c3_11ec_bdbb_96000040dfb6row2_col5,#T_028bb58c_88c3_11ec_bdbb_96000040dfb6row2_col6,#T_028bb58c_88c3_11ec_bdbb_96000040dfb6row2_col7,#T_028bb58c_88c3_11ec_bdbb_96000040dfb6row2_col8,#T_028bb58c_88c3_11ec_bdbb_96000040dfb6row2_col9,#T_028bb58c_88c3_11ec_bdbb_96000040dfb6row2_col10,#T_028bb58c_88c3_11ec_bdbb_96000040dfb6row2_col11,#T_028bb58c_88c3_11ec_bdbb_96000040dfb6row2_col12,#T_028bb58c_88c3_11ec_bdbb_96000040dfb6row2_col13,#T_028bb58c_88c3_11ec_bdbb_96000040dfb6row2_col14,#T_028bb58c_88c3_11ec_bdbb_96000040dfb6row2_col15,#T_028bb58c_88c3_11ec_bdbb_96000040dfb6row2_col16,#T_028bb58c_88c3_11ec_bdbb_96000040dfb6row2_col17,#T_028bb58c_88c3_11ec_bdbb_96000040dfb6row2_col18,#T_028bb58c_88c3_11ec_bdbb_96000040dfb6row3_col9,#T_028bb58c_88c3_11ec_bdbb_96000040dfb6row4_col18,#T_028bb58c_88c3_11ec_bdbb_96000040dfb6row5_col18,#T_028bb58c_88c3_11ec_bdbb_96000040dfb6row6_col17,#T_028bb58c_88c3_11ec_bdbb_96000040dfb6row6_col18,#T_028bb58c_88c3_11ec_bdbb_96000040dfb6row7_col16,#T_028bb58c_88c3_11ec_bdbb_96000040dfb6row7_col17,#T_028bb58c_88c3_11ec_bdbb_96000040dfb6row7_col18,#T_028bb58c_88c3_11ec_bdbb_96000040dfb6row8_col15,#T_028bb58c_88c3_11ec_bdbb_96000040dfb6row8_col16,#T_028bb58c_88c3_11ec_bdbb_96000040dfb6row8_col17,#T_028bb58c_88c3_11ec_bdbb_96000040dfb6row8_col18,#T_028bb58c_88c3_11ec_bdbb_96000040dfb6row9_col14,#T_028bb58c_88c3_11ec_bdbb_96000040dfb6row9_col15,#T_028bb58c_88c3_11ec_bdbb_96000040dfb6row9_col16,#T_028bb58c_88c3_11ec_bdbb_96000040dfb6row9_col17,#T_028bb58c_88c3_11ec_bdbb_96000040dfb6row9_col18,#T_028bb58c_88c3_11ec_bdbb_96000040dfb6row10_col13,#T_028bb58c_88c3_11ec_bdbb_96000040dfb6row10_col14,#T_028bb58c_88c3_11ec_bdbb_96000040dfb6row10_col15,#T_028bb58c_88c3_11ec_bdbb_96000040dfb6row10_col16,#T_028bb58c_88c3_11ec_bdbb_96000040dfb6row10_col17,#T_028bb58c_88c3_11ec_bdbb_96000040dfb6row10_col18,#T_028bb58c_88c3_11ec_bdbb_96000040dfb6row11_col12,#T_028bb58c_88c3_11ec_bdbb_96000040dfb6row11_col13,#T_028bb58c_88c3_11ec_bdbb_96000040dfb6row11_col14,#T_028bb58c_88c3_11ec_bdbb_96000040dfb6row11_col15,#T_028bb58c_88c3_11ec_bdbb_96000040dfb6row11_col16,#T_028bb58c_88c3_11ec_bdbb_96000040dfb6row11_col17,#T_028bb58c_88c3_11ec_bdbb_96000040dfb6row11_col18,#T_028bb58c_88c3_11ec_bdbb_96000040dfb6row12_col11,#T_028bb58c_88c3_11ec_bdbb_96000040dfb6row12_col12,#T_028bb58c_88c3_11ec_bdbb_96000040dfb6row12_col13,#T_028bb58c_88c3_11ec_bdbb_96000040dfb6row12_col14,#T_028bb58c_88c3_11ec_bdbb_96000040dfb6row12_col15,#T_028bb58c_88c3_11ec_bdbb_96000040dfb6row12_col16,#T_028bb58c_88c3_11ec_bdbb_96000040dfb6row12_col17,#T_028bb58c_88c3_11ec_bdbb_96000040dfb6row12_col18,#T_028bb58c_88c3_11ec_bdbb_96000040dfb6row13_col10,#T_028bb58c_88c3_11ec_bdbb_96000040dfb6row13_col11,#T_028bb58c_88c3_11ec_bdbb_96000040dfb6row13_col12,#T_028bb58c_88c3_11ec_bdbb_96000040dfb6row13_col13,#T_028bb58c_88c3_11ec_bdbb_96000040dfb6row13_col14,#T_028bb58c_88c3_11ec_bdbb_96000040dfb6row13_col15,#T_028bb58c_88c3_11ec_bdbb_96000040dfb6row13_col16,#T_028bb58c_88c3_11ec_bdbb_96000040dfb6row13_col17,#T_028bb58c_88c3_11ec_bdbb_96000040dfb6row13_col18,#T_028bb58c_88c3_11ec_bdbb_96000040dfb6row14_col9,#T_028bb58c_88c3_11ec_bdbb_96000040dfb6row14_col10,#T_028bb58c_88c3_11ec_bdbb_96000040dfb6row14_col11,#T_028bb58c_88c3_11ec_bdbb_96000040dfb6row14_col12,#T_028bb58c_88c3_11ec_bdbb_96000040dfb6row14_col13,#T_028bb58c_88c3_11ec_bdbb_96000040dfb6row14_col14,#T_028bb58c_88c3_11ec_bdbb_96000040dfb6row14_col15,#T_028bb58c_88c3_11ec_bdbb_96000040dfb6row14_col16,#T_028bb58c_88c3_11ec_bdbb_96000040dfb6row14_col17,#T_028bb58c_88c3_11ec_bdbb_96000040dfb6row14_col18,#T_028bb58c_88c3_11ec_bdbb_96000040dfb6row15_col8,#T_028bb58c_88c3_11ec_bdbb_96000040dfb6row15_col9,#T_028bb58c_88c3_11ec_bdbb_96000040dfb6row15_col10,#T_028bb58c_88c3_11ec_bdbb_96000040dfb6row15_col11,#T_028bb58c_88c3_11ec_bdbb_96000040dfb6row15_col12,#T_028bb58c_88c3_11ec_bdbb_96000040dfb6row15_col13,#T_028bb58c_88c3_11ec_bdbb_96000040dfb6row15_col14,#T_028bb58c_88c3_11ec_bdbb_96000040dfb6row15_col15,#T_028bb58c_88c3_11ec_bdbb_96000040dfb6row15_col16,#T_028bb58c_88c3_11ec_bdbb_96000040dfb6row15_col17,#T_028bb58c_88c3_11ec_bdbb_96000040dfb6row15_col18,#T_028bb58c_88c3_11ec_bdbb_96000040dfb6row16_col7,#T_028bb58c_88c3_11ec_bdbb_96000040dfb6row16_col8,#T_028bb58c_88c3_11ec_bdbb_96000040dfb6row16_col9,#T_028bb58c_88c3_11ec_bdbb_96000040dfb6row16_col10,#T_028bb58c_88c3_11ec_bdbb_96000040dfb6row16_col11,#T_028bb58c_88c3_11ec_bdbb_96000040dfb6row16_col12,#T_028bb58c_88c3_11ec_bdbb_96000040dfb6row16_col13,#T_028bb58c_88c3_11ec_bdbb_96000040dfb6row16_col14,#T_028bb58c_88c3_11ec_bdbb_96000040dfb6row16_col15,#T_028bb58c_88c3_11ec_bdbb_96000040dfb6row16_col16,#T_028bb58c_88c3_11ec_bdbb_96000040dfb6row16_col17,#T_028bb58c_88c3_11ec_bdbb_96000040dfb6row16_col18,#T_028bb58c_88c3_11ec_bdbb_96000040dfb6row17_col6,#T_028bb58c_88c3_11ec_bdbb_96000040dfb6row17_col7,#T_028bb58c_88c3_11ec_bdbb_96000040dfb6row17_col8,#T_028bb58c_88c3_11ec_bdbb_96000040dfb6row17_col9,#T_028bb58c_88c3_11ec_bdbb_96000040dfb6row17_col10,#T_028bb58c_88c3_11ec_bdbb_96000040dfb6row17_col11,#T_028bb58c_88c3_11ec_bdbb_96000040dfb6row17_col12,#T_028bb58c_88c3_11ec_bdbb_96000040dfb6row17_col13,#T_028bb58c_88c3_11ec_bdbb_96000040dfb6row17_col14,#T_028bb58c_88c3_11ec_bdbb_96000040dfb6row17_col15,#T_028bb58c_88c3_11ec_bdbb_96000040dfb6row17_col16,#T_028bb58c_88c3_11ec_bdbb_96000040dfb6row17_col17,#T_028bb58c_88c3_11ec_bdbb_96000040dfb6row17_col18,#T_028bb58c_88c3_11ec_bdbb_96000040dfb6row18_col5,#T_028bb58c_88c3_11ec_bdbb_96000040dfb6row18_col6,#T_028bb58c_88c3_11ec_bdbb_96000040dfb6row18_col7,#T_028bb58c_88c3_11ec_bdbb_96000040dfb6row18_col8,#T_028bb58c_88c3_11ec_bdbb_96000040dfb6row18_col9,#T_028bb58c_88c3_11ec_bdbb_96000040dfb6row18_col10,#T_028bb58c_88c3_11ec_bdbb_96000040dfb6row18_col11,#T_028bb58c_88c3_11ec_bdbb_96000040dfb6row18_col12,#T_028bb58c_88c3_11ec_bdbb_96000040dfb6row18_col13,#T_028bb58c_88c3_11ec_bdbb_96000040dfb6row18_col14,#T_028bb58c_88c3_11ec_bdbb_96000040dfb6row18_col15,#T_028bb58c_88c3_11ec_bdbb_96000040dfb6row18_col16,#T_028bb58c_88c3_11ec_bdbb_96000040dfb6row18_col17,#T_028bb58c_88c3_11ec_bdbb_96000040dfb6row18_col18,#T_028bb58c_88c3_11ec_bdbb_96000040dfb6row19_col4,#T_028bb58c_88c3_11ec_bdbb_96000040dfb6row19_col5,#T_028bb58c_88c3_11ec_bdbb_96000040dfb6row19_col6,#T_028bb58c_88c3_11ec_bdbb_96000040dfb6row19_col7,#T_028bb58c_88c3_11ec_bdbb_96000040dfb6row19_col8,#T_028bb58c_88c3_11ec_bdbb_96000040dfb6row19_col9,#T_028bb58c_88c3_11ec_bdbb_96000040dfb6row19_col10,#T_028bb58c_88c3_11ec_bdbb_96000040dfb6row19_col11,#T_028bb58c_88c3_11ec_bdbb_96000040dfb6row19_col12,#T_028bb58c_88c3_11ec_bdbb_96000040dfb6row19_col13,#T_028bb58c_88c3_11ec_bdbb_96000040dfb6row19_col14,#T_028bb58c_88c3_11ec_bdbb_96000040dfb6row19_col15,#T_028bb58c_88c3_11ec_bdbb_96000040dfb6row19_col16,#T_028bb58c_88c3_11ec_bdbb_96000040dfb6row19_col17,#T_028bb58c_88c3_11ec_bdbb_96000040dfb6row19_col18,#T_028bb58c_88c3_11ec_bdbb_96000040dfb6row20_col3,#T_028bb58c_88c3_11ec_bdbb_96000040dfb6row20_col4,#T_028bb58c_88c3_11ec_bdbb_96000040dfb6row20_col5,#T_028bb58c_88c3_11ec_bdbb_96000040dfb6row20_col6,#T_028bb58c_88c3_11ec_bdbb_96000040dfb6row20_col7,#T_028bb58c_88c3_11ec_bdbb_96000040dfb6row20_col8,#T_028bb58c_88c3_11ec_bdbb_96000040dfb6row20_col9,#T_028bb58c_88c3_11ec_bdbb_96000040dfb6row20_col10,#T_028bb58c_88c3_11ec_bdbb_96000040dfb6row20_col11,#T_028bb58c_88c3_11ec_bdbb_96000040dfb6row20_col12,#T_028bb58c_88c3_11ec_bdbb_96000040dfb6row20_col13,#T_028bb58c_88c3_11ec_bdbb_96000040dfb6row20_col14,#T_028bb58c_88c3_11ec_bdbb_96000040dfb6row20_col15,#T_028bb58c_88c3_11ec_bdbb_96000040dfb6row20_col16,#T_028bb58c_88c3_11ec_bdbb_96000040dfb6row20_col17,#T_028bb58c_88c3_11ec_bdbb_96000040dfb6row20_col18,#T_028bb58c_88c3_11ec_bdbb_96000040dfb6row21_col2,#T_028bb58c_88c3_11ec_bdbb_96000040dfb6row21_col3,#T_028bb58c_88c3_11ec_bdbb_96000040dfb6row21_col4,#T_028bb58c_88c3_11ec_bdbb_96000040dfb6row21_col5,#T_028bb58c_88c3_11ec_bdbb_96000040dfb6row21_col6,#T_028bb58c_88c3_11ec_bdbb_96000040dfb6row21_col7,#T_028bb58c_88c3_11ec_bdbb_96000040dfb6row21_col8,#T_028bb58c_88c3_11ec_bdbb_96000040dfb6row21_col9,#T_028bb58c_88c3_11ec_bdbb_96000040dfb6row21_col10,#T_028bb58c_88c3_11ec_bdbb_96000040dfb6row21_col11,#T_028bb58c_88c3_11ec_bdbb_96000040dfb6row21_col12,#T_028bb58c_88c3_11ec_bdbb_96000040dfb6row21_col13,#T_028bb58c_88c3_11ec_bdbb_96000040dfb6row21_col14,#T_028bb58c_88c3_11ec_bdbb_96000040dfb6row21_col15,#T_028bb58c_88c3_11ec_bdbb_96000040dfb6row21_col16,#T_028bb58c_88c3_11ec_bdbb_96000040dfb6row21_col17,#T_028bb58c_88c3_11ec_bdbb_96000040dfb6row21_col18,#T_028bb58c_88c3_11ec_bdbb_96000040dfb6row22_col2,#T_028bb58c_88c3_11ec_bdbb_96000040dfb6row22_col3,#T_028bb58c_88c3_11ec_bdbb_96000040dfb6row22_col4,#T_028bb58c_88c3_11ec_bdbb_96000040dfb6row22_col5,#T_028bb58c_88c3_11ec_bdbb_96000040dfb6row22_col6,#T_028bb58c_88c3_11ec_bdbb_96000040dfb6row22_col7,#T_028bb58c_88c3_11ec_bdbb_96000040dfb6row22_col8,#T_028bb58c_88c3_11ec_bdbb_96000040dfb6row22_col9,#T_028bb58c_88c3_11ec_bdbb_96000040dfb6row22_col10,#T_028bb58c_88c3_11ec_bdbb_96000040dfb6row22_col11,#T_028bb58c_88c3_11ec_bdbb_96000040dfb6row22_col12,#T_028bb58c_88c3_11ec_bdbb_96000040dfb6row22_col13,#T_028bb58c_88c3_11ec_bdbb_96000040dfb6row22_col14,#T_028bb58c_88c3_11ec_bdbb_96000040dfb6row22_col15,#T_028bb58c_88c3_11ec_bdbb_96000040dfb6row22_col16,#T_028bb58c_88c3_11ec_bdbb_96000040dfb6row22_col17,#T_028bb58c_88c3_11ec_bdbb_96000040dfb6row22_col18{\n",
       "            background-color:  #000000;\n",
       "            color:  #f1f1f1;\n",
       "            background-color:  white;\n",
       "        }#T_028bb58c_88c3_11ec_bdbb_96000040dfb6row0_col19,#T_028bb58c_88c3_11ec_bdbb_96000040dfb6row2_col19,#T_028bb58c_88c3_11ec_bdbb_96000040dfb6row3_col19,#T_028bb58c_88c3_11ec_bdbb_96000040dfb6row4_col19,#T_028bb58c_88c3_11ec_bdbb_96000040dfb6row5_col19,#T_028bb58c_88c3_11ec_bdbb_96000040dfb6row6_col19,#T_028bb58c_88c3_11ec_bdbb_96000040dfb6row7_col19,#T_028bb58c_88c3_11ec_bdbb_96000040dfb6row8_col19,#T_028bb58c_88c3_11ec_bdbb_96000040dfb6row9_col19,#T_028bb58c_88c3_11ec_bdbb_96000040dfb6row10_col19,#T_028bb58c_88c3_11ec_bdbb_96000040dfb6row11_col19,#T_028bb58c_88c3_11ec_bdbb_96000040dfb6row12_col19,#T_028bb58c_88c3_11ec_bdbb_96000040dfb6row13_col19,#T_028bb58c_88c3_11ec_bdbb_96000040dfb6row14_col19,#T_028bb58c_88c3_11ec_bdbb_96000040dfb6row15_col19,#T_028bb58c_88c3_11ec_bdbb_96000040dfb6row16_col19,#T_028bb58c_88c3_11ec_bdbb_96000040dfb6row17_col19,#T_028bb58c_88c3_11ec_bdbb_96000040dfb6row18_col19,#T_028bb58c_88c3_11ec_bdbb_96000040dfb6row19_col19,#T_028bb58c_88c3_11ec_bdbb_96000040dfb6row20_col19,#T_028bb58c_88c3_11ec_bdbb_96000040dfb6row21_col19,#T_028bb58c_88c3_11ec_bdbb_96000040dfb6row22_col19{\n",
       "            background-color:  #008066;\n",
       "            color:  #f1f1f1;\n",
       "            background-color:  white;\n",
       "        }#T_028bb58c_88c3_11ec_bdbb_96000040dfb6row1_col6,#T_028bb58c_88c3_11ec_bdbb_96000040dfb6row10_col2{\n",
       "            background-color:  #7ebe66;\n",
       "            color:  #000000;\n",
       "        }#T_028bb58c_88c3_11ec_bdbb_96000040dfb6row1_col9,#T_028bb58c_88c3_11ec_bdbb_96000040dfb6row1_col15,#T_028bb58c_88c3_11ec_bdbb_96000040dfb6row1_col18,#T_028bb58c_88c3_11ec_bdbb_96000040dfb6row2_col1,#T_028bb58c_88c3_11ec_bdbb_96000040dfb6row3_col6,#T_028bb58c_88c3_11ec_bdbb_96000040dfb6row3_col12,#T_028bb58c_88c3_11ec_bdbb_96000040dfb6row3_col13,#T_028bb58c_88c3_11ec_bdbb_96000040dfb6row3_col16,#T_028bb58c_88c3_11ec_bdbb_96000040dfb6row3_col17,#T_028bb58c_88c3_11ec_bdbb_96000040dfb6row5_col10,#T_028bb58c_88c3_11ec_bdbb_96000040dfb6row6_col8,#T_028bb58c_88c3_11ec_bdbb_96000040dfb6row7_col2,#T_028bb58c_88c3_11ec_bdbb_96000040dfb6row7_col14,#T_028bb58c_88c3_11ec_bdbb_96000040dfb6row8_col3,#T_028bb58c_88c3_11ec_bdbb_96000040dfb6row8_col11,#T_028bb58c_88c3_11ec_bdbb_96000040dfb6row10_col5,#T_028bb58c_88c3_11ec_bdbb_96000040dfb6row11_col4,#T_028bb58c_88c3_11ec_bdbb_96000040dfb6row12_col7{\n",
       "            background-color:  #ffff66;\n",
       "            color:  #000000;\n",
       "        }#T_028bb58c_88c3_11ec_bdbb_96000040dfb6row1_col11{\n",
       "            background-color:  #f2f866;\n",
       "            color:  #000000;\n",
       "        }#T_028bb58c_88c3_11ec_bdbb_96000040dfb6row1_col13{\n",
       "            background-color:  #cae466;\n",
       "            color:  #000000;\n",
       "        }#T_028bb58c_88c3_11ec_bdbb_96000040dfb6row1_col17{\n",
       "            background-color:  #b3d966;\n",
       "            color:  #000000;\n",
       "        }#T_028bb58c_88c3_11ec_bdbb_96000040dfb6row3_col1,#T_028bb58c_88c3_11ec_bdbb_96000040dfb6row5_col1,#T_028bb58c_88c3_11ec_bdbb_96000040dfb6row6_col1,#T_028bb58c_88c3_11ec_bdbb_96000040dfb6row7_col1,#T_028bb58c_88c3_11ec_bdbb_96000040dfb6row8_col1,#T_028bb58c_88c3_11ec_bdbb_96000040dfb6row9_col1,#T_028bb58c_88c3_11ec_bdbb_96000040dfb6row10_col1,#T_028bb58c_88c3_11ec_bdbb_96000040dfb6row11_col1,#T_028bb58c_88c3_11ec_bdbb_96000040dfb6row12_col1,#T_028bb58c_88c3_11ec_bdbb_96000040dfb6row13_col1,#T_028bb58c_88c3_11ec_bdbb_96000040dfb6row17_col1,#T_028bb58c_88c3_11ec_bdbb_96000040dfb6row18_col1,#T_028bb58c_88c3_11ec_bdbb_96000040dfb6row19_col1,#T_028bb58c_88c3_11ec_bdbb_96000040dfb6row21_col1{\n",
       "            background-color:  #018066;\n",
       "            color:  #f1f1f1;\n",
       "        }#T_028bb58c_88c3_11ec_bdbb_96000040dfb6row3_col2{\n",
       "            background-color:  #359a66;\n",
       "            color:  #000000;\n",
       "        }#T_028bb58c_88c3_11ec_bdbb_96000040dfb6row3_col3,#T_028bb58c_88c3_11ec_bdbb_96000040dfb6row7_col12{\n",
       "            background-color:  #259266;\n",
       "            color:  #000000;\n",
       "        }#T_028bb58c_88c3_11ec_bdbb_96000040dfb6row3_col4,#T_028bb58c_88c3_11ec_bdbb_96000040dfb6row7_col3{\n",
       "            background-color:  #edf666;\n",
       "            color:  #000000;\n",
       "        }#T_028bb58c_88c3_11ec_bdbb_96000040dfb6row3_col5{\n",
       "            background-color:  #0d8666;\n",
       "            color:  #000000;\n",
       "        }#T_028bb58c_88c3_11ec_bdbb_96000040dfb6row3_col7{\n",
       "            background-color:  #50a866;\n",
       "            color:  #000000;\n",
       "        }#T_028bb58c_88c3_11ec_bdbb_96000040dfb6row3_col8,#T_028bb58c_88c3_11ec_bdbb_96000040dfb6row15_col6{\n",
       "            background-color:  #1c8e66;\n",
       "            color:  #000000;\n",
       "        }#T_028bb58c_88c3_11ec_bdbb_96000040dfb6row3_col10,#T_028bb58c_88c3_11ec_bdbb_96000040dfb6row17_col3{\n",
       "            background-color:  #99cc66;\n",
       "            color:  #000000;\n",
       "        }#T_028bb58c_88c3_11ec_bdbb_96000040dfb6row3_col11{\n",
       "            background-color:  #bbdd66;\n",
       "            color:  #000000;\n",
       "        }#T_028bb58c_88c3_11ec_bdbb_96000040dfb6row3_col14{\n",
       "            background-color:  #78bc66;\n",
       "            color:  #000000;\n",
       "        }#T_028bb58c_88c3_11ec_bdbb_96000040dfb6row3_col15,#T_028bb58c_88c3_11ec_bdbb_96000040dfb6row12_col6{\n",
       "            background-color:  #49a466;\n",
       "            color:  #000000;\n",
       "        }#T_028bb58c_88c3_11ec_bdbb_96000040dfb6row4_col2{\n",
       "            background-color:  #0e8666;\n",
       "            color:  #000000;\n",
       "        }#T_028bb58c_88c3_11ec_bdbb_96000040dfb6row4_col3{\n",
       "            background-color:  #42a066;\n",
       "            color:  #000000;\n",
       "        }#T_028bb58c_88c3_11ec_bdbb_96000040dfb6row4_col4{\n",
       "            background-color:  #e7f366;\n",
       "            color:  #000000;\n",
       "        }#T_028bb58c_88c3_11ec_bdbb_96000040dfb6row4_col6{\n",
       "            background-color:  #3f9f66;\n",
       "            color:  #000000;\n",
       "        }#T_028bb58c_88c3_11ec_bdbb_96000040dfb6row4_col7{\n",
       "            background-color:  #6cb666;\n",
       "            color:  #000000;\n",
       "        }#T_028bb58c_88c3_11ec_bdbb_96000040dfb6row4_col8,#T_028bb58c_88c3_11ec_bdbb_96000040dfb6row17_col4{\n",
       "            background-color:  #048266;\n",
       "            color:  #f1f1f1;\n",
       "        }#T_028bb58c_88c3_11ec_bdbb_96000040dfb6row4_col9,#T_028bb58c_88c3_11ec_bdbb_96000040dfb6row5_col14,#T_028bb58c_88c3_11ec_bdbb_96000040dfb6row15_col4{\n",
       "            background-color:  #9bcd66;\n",
       "            color:  #000000;\n",
       "        }#T_028bb58c_88c3_11ec_bdbb_96000040dfb6row4_col11,#T_028bb58c_88c3_11ec_bdbb_96000040dfb6row5_col3{\n",
       "            background-color:  #c8e366;\n",
       "            color:  #000000;\n",
       "        }#T_028bb58c_88c3_11ec_bdbb_96000040dfb6row4_col12,#T_028bb58c_88c3_11ec_bdbb_96000040dfb6row19_col2{\n",
       "            background-color:  #1e8e66;\n",
       "            color:  #000000;\n",
       "        }#T_028bb58c_88c3_11ec_bdbb_96000040dfb6row4_col13{\n",
       "            background-color:  #5aac66;\n",
       "            color:  #000000;\n",
       "        }#T_028bb58c_88c3_11ec_bdbb_96000040dfb6row4_col14,#T_028bb58c_88c3_11ec_bdbb_96000040dfb6row12_col2{\n",
       "            background-color:  #45a266;\n",
       "            color:  #000000;\n",
       "        }#T_028bb58c_88c3_11ec_bdbb_96000040dfb6row4_col17,#T_028bb58c_88c3_11ec_bdbb_96000040dfb6row9_col8{\n",
       "            background-color:  #4da666;\n",
       "            color:  #000000;\n",
       "        }#T_028bb58c_88c3_11ec_bdbb_96000040dfb6row5_col2,#T_028bb58c_88c3_11ec_bdbb_96000040dfb6row9_col10{\n",
       "            background-color:  #72b866;\n",
       "            color:  #000000;\n",
       "        }#T_028bb58c_88c3_11ec_bdbb_96000040dfb6row5_col4,#T_028bb58c_88c3_11ec_bdbb_96000040dfb6row10_col7{\n",
       "            background-color:  #b1d866;\n",
       "            color:  #000000;\n",
       "        }#T_028bb58c_88c3_11ec_bdbb_96000040dfb6row5_col5,#T_028bb58c_88c3_11ec_bdbb_96000040dfb6row13_col5{\n",
       "            background-color:  #178b66;\n",
       "            color:  #000000;\n",
       "        }#T_028bb58c_88c3_11ec_bdbb_96000040dfb6row5_col6,#T_028bb58c_88c3_11ec_bdbb_96000040dfb6row8_col8{\n",
       "            background-color:  #108866;\n",
       "            color:  #000000;\n",
       "        }#T_028bb58c_88c3_11ec_bdbb_96000040dfb6row5_col7{\n",
       "            background-color:  #d3e966;\n",
       "            color:  #000000;\n",
       "        }#T_028bb58c_88c3_11ec_bdbb_96000040dfb6row5_col8{\n",
       "            background-color:  #d4ea66;\n",
       "            color:  #000000;\n",
       "        }#T_028bb58c_88c3_11ec_bdbb_96000040dfb6row5_col9{\n",
       "            background-color:  #2a9466;\n",
       "            color:  #000000;\n",
       "        }#T_028bb58c_88c3_11ec_bdbb_96000040dfb6row5_col11{\n",
       "            background-color:  #4aa466;\n",
       "            color:  #000000;\n",
       "        }#T_028bb58c_88c3_11ec_bdbb_96000040dfb6row5_col12,#T_028bb58c_88c3_11ec_bdbb_96000040dfb6row5_col13,#T_028bb58c_88c3_11ec_bdbb_96000040dfb6row14_col5{\n",
       "            background-color:  #319866;\n",
       "            color:  #000000;\n",
       "        }#T_028bb58c_88c3_11ec_bdbb_96000040dfb6row5_col15,#T_028bb58c_88c3_11ec_bdbb_96000040dfb6row7_col10,#T_028bb58c_88c3_11ec_bdbb_96000040dfb6row16_col2{\n",
       "            background-color:  #9dce66;\n",
       "            color:  #000000;\n",
       "        }#T_028bb58c_88c3_11ec_bdbb_96000040dfb6row5_col16{\n",
       "            background-color:  #158a66;\n",
       "            color:  #000000;\n",
       "        }#T_028bb58c_88c3_11ec_bdbb_96000040dfb6row6_col3,#T_028bb58c_88c3_11ec_bdbb_96000040dfb6row18_col2{\n",
       "            background-color:  #41a066;\n",
       "            color:  #000000;\n",
       "        }#T_028bb58c_88c3_11ec_bdbb_96000040dfb6row6_col4{\n",
       "            background-color:  #69b466;\n",
       "            color:  #000000;\n",
       "        }#T_028bb58c_88c3_11ec_bdbb_96000040dfb6row6_col5{\n",
       "            background-color:  #59ac66;\n",
       "            color:  #000000;\n",
       "        }#T_028bb58c_88c3_11ec_bdbb_96000040dfb6row6_col6{\n",
       "            background-color:  #84c266;\n",
       "            color:  #000000;\n",
       "        }#T_028bb58c_88c3_11ec_bdbb_96000040dfb6row6_col7{\n",
       "            background-color:  #afd766;\n",
       "            color:  #000000;\n",
       "        }#T_028bb58c_88c3_11ec_bdbb_96000040dfb6row6_col9,#T_028bb58c_88c3_11ec_bdbb_96000040dfb6row17_col2{\n",
       "            background-color:  #62b066;\n",
       "            color:  #000000;\n",
       "        }#T_028bb58c_88c3_11ec_bdbb_96000040dfb6row6_col10{\n",
       "            background-color:  #60b066;\n",
       "            color:  #000000;\n",
       "        }#T_028bb58c_88c3_11ec_bdbb_96000040dfb6row6_col11{\n",
       "            background-color:  #0c8666;\n",
       "            color:  #000000;\n",
       "        }#T_028bb58c_88c3_11ec_bdbb_96000040dfb6row6_col15,#T_028bb58c_88c3_11ec_bdbb_96000040dfb6row15_col5{\n",
       "            background-color:  #1a8c66;\n",
       "            color:  #000000;\n",
       "        }#T_028bb58c_88c3_11ec_bdbb_96000040dfb6row6_col16,#T_028bb58c_88c3_11ec_bdbb_96000040dfb6row8_col6,#T_028bb58c_88c3_11ec_bdbb_96000040dfb6row10_col3{\n",
       "            background-color:  #87c366;\n",
       "            color:  #000000;\n",
       "        }#T_028bb58c_88c3_11ec_bdbb_96000040dfb6row7_col4,#T_028bb58c_88c3_11ec_bdbb_96000040dfb6row8_col5{\n",
       "            background-color:  #92c866;\n",
       "            color:  #000000;\n",
       "        }#T_028bb58c_88c3_11ec_bdbb_96000040dfb6row7_col5{\n",
       "            background-color:  #89c466;\n",
       "            color:  #000000;\n",
       "        }#T_028bb58c_88c3_11ec_bdbb_96000040dfb6row7_col6{\n",
       "            background-color:  #b0d866;\n",
       "            color:  #000000;\n",
       "        }#T_028bb58c_88c3_11ec_bdbb_96000040dfb6row7_col7{\n",
       "            background-color:  #67b366;\n",
       "            color:  #000000;\n",
       "        }#T_028bb58c_88c3_11ec_bdbb_96000040dfb6row7_col8,#T_028bb58c_88c3_11ec_bdbb_96000040dfb6row7_col15{\n",
       "            background-color:  #98cc66;\n",
       "            color:  #000000;\n",
       "        }#T_028bb58c_88c3_11ec_bdbb_96000040dfb6row7_col9{\n",
       "            background-color:  #c9e466;\n",
       "            color:  #000000;\n",
       "        }#T_028bb58c_88c3_11ec_bdbb_96000040dfb6row7_col11{\n",
       "            background-color:  #f1f866;\n",
       "            color:  #000000;\n",
       "        }#T_028bb58c_88c3_11ec_bdbb_96000040dfb6row7_col13,#T_028bb58c_88c3_11ec_bdbb_96000040dfb6row10_col8{\n",
       "            background-color:  #088466;\n",
       "            color:  #f1f1f1;\n",
       "        }#T_028bb58c_88c3_11ec_bdbb_96000040dfb6row8_col2{\n",
       "            background-color:  #77bb66;\n",
       "            color:  #000000;\n",
       "        }#T_028bb58c_88c3_11ec_bdbb_96000040dfb6row8_col4{\n",
       "            background-color:  #65b266;\n",
       "            color:  #000000;\n",
       "        }#T_028bb58c_88c3_11ec_bdbb_96000040dfb6row8_col7,#T_028bb58c_88c3_11ec_bdbb_96000040dfb6row8_col9{\n",
       "            background-color:  #93c966;\n",
       "            color:  #000000;\n",
       "        }#T_028bb58c_88c3_11ec_bdbb_96000040dfb6row8_col10{\n",
       "            background-color:  #c2e066;\n",
       "            color:  #000000;\n",
       "        }#T_028bb58c_88c3_11ec_bdbb_96000040dfb6row8_col12{\n",
       "            background-color:  #198c66;\n",
       "            color:  #000000;\n",
       "        }#T_028bb58c_88c3_11ec_bdbb_96000040dfb6row8_col13{\n",
       "            background-color:  #3a9c66;\n",
       "            color:  #000000;\n",
       "        }#T_028bb58c_88c3_11ec_bdbb_96000040dfb6row8_col14{\n",
       "            background-color:  #f5fa66;\n",
       "            color:  #000000;\n",
       "        }#T_028bb58c_88c3_11ec_bdbb_96000040dfb6row9_col2{\n",
       "            background-color:  #56ab66;\n",
       "            color:  #000000;\n",
       "        }#T_028bb58c_88c3_11ec_bdbb_96000040dfb6row9_col3,#T_028bb58c_88c3_11ec_bdbb_96000040dfb6row10_col9,#T_028bb58c_88c3_11ec_bdbb_96000040dfb6row11_col5{\n",
       "            background-color:  #5dae66;\n",
       "            color:  #000000;\n",
       "        }#T_028bb58c_88c3_11ec_bdbb_96000040dfb6row9_col4,#T_028bb58c_88c3_11ec_bdbb_96000040dfb6row12_col8{\n",
       "            background-color:  #aed666;\n",
       "            color:  #000000;\n",
       "        }#T_028bb58c_88c3_11ec_bdbb_96000040dfb6row9_col5{\n",
       "            background-color:  #299466;\n",
       "            color:  #000000;\n",
       "        }#T_028bb58c_88c3_11ec_bdbb_96000040dfb6row9_col6{\n",
       "            background-color:  #70b866;\n",
       "            color:  #000000;\n",
       "        }#T_028bb58c_88c3_11ec_bdbb_96000040dfb6row9_col7{\n",
       "            background-color:  #369a66;\n",
       "            color:  #000000;\n",
       "        }#T_028bb58c_88c3_11ec_bdbb_96000040dfb6row9_col9{\n",
       "            background-color:  #9ece66;\n",
       "            color:  #000000;\n",
       "        }#T_028bb58c_88c3_11ec_bdbb_96000040dfb6row9_col11,#T_028bb58c_88c3_11ec_bdbb_96000040dfb6row11_col8{\n",
       "            background-color:  #ddee66;\n",
       "            color:  #000000;\n",
       "        }#T_028bb58c_88c3_11ec_bdbb_96000040dfb6row9_col12{\n",
       "            background-color:  #0f8766;\n",
       "            color:  #000000;\n",
       "        }#T_028bb58c_88c3_11ec_bdbb_96000040dfb6row9_col13{\n",
       "            background-color:  #96cb66;\n",
       "            color:  #000000;\n",
       "        }#T_028bb58c_88c3_11ec_bdbb_96000040dfb6row10_col4{\n",
       "            background-color:  #d2e866;\n",
       "            color:  #000000;\n",
       "        }#T_028bb58c_88c3_11ec_bdbb_96000040dfb6row10_col6{\n",
       "            background-color:  #52a866;\n",
       "            color:  #000000;\n",
       "        }#T_028bb58c_88c3_11ec_bdbb_96000040dfb6row10_col10{\n",
       "            background-color:  #75ba66;\n",
       "            color:  #000000;\n",
       "        }#T_028bb58c_88c3_11ec_bdbb_96000040dfb6row10_col11{\n",
       "            background-color:  #57ab66;\n",
       "            color:  #000000;\n",
       "        }#T_028bb58c_88c3_11ec_bdbb_96000040dfb6row10_col12{\n",
       "            background-color:  #138966;\n",
       "            color:  #000000;\n",
       "        }#T_028bb58c_88c3_11ec_bdbb_96000040dfb6row11_col2{\n",
       "            background-color:  #eef666;\n",
       "            color:  #000000;\n",
       "        }#T_028bb58c_88c3_11ec_bdbb_96000040dfb6row11_col3{\n",
       "            background-color:  #c3e166;\n",
       "            color:  #000000;\n",
       "        }#T_028bb58c_88c3_11ec_bdbb_96000040dfb6row11_col6{\n",
       "            background-color:  #379b66;\n",
       "            color:  #000000;\n",
       "        }#T_028bb58c_88c3_11ec_bdbb_96000040dfb6row11_col7{\n",
       "            background-color:  #8ec666;\n",
       "            color:  #000000;\n",
       "        }#T_028bb58c_88c3_11ec_bdbb_96000040dfb6row11_col9,#T_028bb58c_88c3_11ec_bdbb_96000040dfb6row14_col4{\n",
       "            background-color:  #5faf66;\n",
       "            color:  #000000;\n",
       "        }#T_028bb58c_88c3_11ec_bdbb_96000040dfb6row11_col10{\n",
       "            background-color:  #8fc766;\n",
       "            color:  #000000;\n",
       "        }#T_028bb58c_88c3_11ec_bdbb_96000040dfb6row12_col4{\n",
       "            background-color:  #4ca666;\n",
       "            color:  #000000;\n",
       "        }#T_028bb58c_88c3_11ec_bdbb_96000040dfb6row12_col5{\n",
       "            background-color:  #289366;\n",
       "            color:  #000000;\n",
       "        }#T_028bb58c_88c3_11ec_bdbb_96000040dfb6row12_col9{\n",
       "            background-color:  #80c066;\n",
       "            color:  #000000;\n",
       "        }#T_028bb58c_88c3_11ec_bdbb_96000040dfb6row12_col10{\n",
       "            background-color:  #54aa66;\n",
       "            color:  #000000;\n",
       "        }#T_028bb58c_88c3_11ec_bdbb_96000040dfb6row13_col2{\n",
       "            background-color:  #90c866;\n",
       "            color:  #000000;\n",
       "        }#T_028bb58c_88c3_11ec_bdbb_96000040dfb6row13_col3,#T_028bb58c_88c3_11ec_bdbb_96000040dfb6row13_col4{\n",
       "            background-color:  #329866;\n",
       "            color:  #000000;\n",
       "        }#T_028bb58c_88c3_11ec_bdbb_96000040dfb6row13_col7{\n",
       "            background-color:  #7dbe66;\n",
       "            color:  #000000;\n",
       "        }#T_028bb58c_88c3_11ec_bdbb_96000040dfb6row14_col2{\n",
       "            background-color:  #2c9666;\n",
       "            color:  #000000;\n",
       "        }#T_028bb58c_88c3_11ec_bdbb_96000040dfb6row14_col3{\n",
       "            background-color:  #b4da66;\n",
       "            color:  #000000;\n",
       "        }#T_028bb58c_88c3_11ec_bdbb_96000040dfb6row14_col6{\n",
       "            background-color:  #148a66;\n",
       "            color:  #000000;\n",
       "        }#T_028bb58c_88c3_11ec_bdbb_96000040dfb6row14_col8{\n",
       "            background-color:  #6eb666;\n",
       "            color:  #000000;\n",
       "        }#T_028bb58c_88c3_11ec_bdbb_96000040dfb6row15_col2{\n",
       "            background-color:  #9acc66;\n",
       "            color:  #000000;\n",
       "        }#T_028bb58c_88c3_11ec_bdbb_96000040dfb6row15_col3{\n",
       "            background-color:  #9cce66;\n",
       "            color:  #000000;\n",
       "        }#T_028bb58c_88c3_11ec_bdbb_96000040dfb6row15_col7{\n",
       "            background-color:  #8dc666;\n",
       "            color:  #000000;\n",
       "        }#T_028bb58c_88c3_11ec_bdbb_96000040dfb6row16_col3{\n",
       "            background-color:  #97cb66;\n",
       "            color:  #000000;\n",
       "        }#T_028bb58c_88c3_11ec_bdbb_96000040dfb6row16_col4{\n",
       "            background-color:  #6fb766;\n",
       "            color:  #000000;\n",
       "        }#T_028bb58c_88c3_11ec_bdbb_96000040dfb6row16_col5{\n",
       "            background-color:  #239166;\n",
       "            color:  #000000;\n",
       "        }#T_028bb58c_88c3_11ec_bdbb_96000040dfb6row16_col6{\n",
       "            background-color:  #389c66;\n",
       "            color:  #000000;\n",
       "        }#T_028bb58c_88c3_11ec_bdbb_96000040dfb6row17_col5{\n",
       "            background-color:  #078366;\n",
       "            color:  #f1f1f1;\n",
       "        }#T_028bb58c_88c3_11ec_bdbb_96000040dfb6row18_col3{\n",
       "            background-color:  #79bc66;\n",
       "            color:  #000000;\n",
       "        }#T_028bb58c_88c3_11ec_bdbb_96000040dfb6row19_col3{\n",
       "            background-color:  #5bad66;\n",
       "            color:  #000000;\n",
       "        }#T_028bb58c_88c3_11ec_bdbb_96000040dfb6row20_col2{\n",
       "            background-color:  #309866;\n",
       "            color:  #000000;\n",
       "        }</style><table id=\"T_028bb58c_88c3_11ec_bdbb_96000040dfb6\" ><caption>User retention by cohort</caption><thead>    <tr>        <th class=\"index_name level0\" >period_number</th>        <th class=\"col_heading level0 col0\" >0</th>        <th class=\"col_heading level0 col1\" >1</th>        <th class=\"col_heading level0 col2\" >2</th>        <th class=\"col_heading level0 col3\" >3</th>        <th class=\"col_heading level0 col4\" >4</th>        <th class=\"col_heading level0 col5\" >5</th>        <th class=\"col_heading level0 col6\" >6</th>        <th class=\"col_heading level0 col7\" >7</th>        <th class=\"col_heading level0 col8\" >8</th>        <th class=\"col_heading level0 col9\" >9</th>        <th class=\"col_heading level0 col10\" >10</th>        <th class=\"col_heading level0 col11\" >11</th>        <th class=\"col_heading level0 col12\" >12</th>        <th class=\"col_heading level0 col13\" >13</th>        <th class=\"col_heading level0 col14\" >14</th>        <th class=\"col_heading level0 col15\" >15</th>        <th class=\"col_heading level0 col16\" >16</th>        <th class=\"col_heading level0 col17\" >17</th>        <th class=\"col_heading level0 col18\" >19</th>        <th class=\"col_heading level0 col19\" >20</th>    </tr>    <tr>        <th class=\"index_name level0\" >cohort</th>        <th class=\"blank\" ></th>        <th class=\"blank\" ></th>        <th class=\"blank\" ></th>        <th class=\"blank\" ></th>        <th class=\"blank\" ></th>        <th class=\"blank\" ></th>        <th class=\"blank\" ></th>        <th class=\"blank\" ></th>        <th class=\"blank\" ></th>        <th class=\"blank\" ></th>        <th class=\"blank\" ></th>        <th class=\"blank\" ></th>        <th class=\"blank\" ></th>        <th class=\"blank\" ></th>        <th class=\"blank\" ></th>        <th class=\"blank\" ></th>        <th class=\"blank\" ></th>        <th class=\"blank\" ></th>        <th class=\"blank\" ></th>        <th class=\"blank\" ></th>    </tr></thead><tbody>\n",
       "                <tr>\n",
       "                        <th id=\"T_028bb58c_88c3_11ec_bdbb_96000040dfb6level0_row0\" class=\"row_heading level0 row0\" >2016-09</th>\n",
       "                        <td id=\"T_028bb58c_88c3_11ec_bdbb_96000040dfb6row0_col0\" class=\"data row0 col0\" >100.00%</td>\n",
       "                        <td id=\"T_028bb58c_88c3_11ec_bdbb_96000040dfb6row0_col1\" class=\"data row0 col1\" ></td>\n",
       "                        <td id=\"T_028bb58c_88c3_11ec_bdbb_96000040dfb6row0_col2\" class=\"data row0 col2\" ></td>\n",
       "                        <td id=\"T_028bb58c_88c3_11ec_bdbb_96000040dfb6row0_col3\" class=\"data row0 col3\" ></td>\n",
       "                        <td id=\"T_028bb58c_88c3_11ec_bdbb_96000040dfb6row0_col4\" class=\"data row0 col4\" ></td>\n",
       "                        <td id=\"T_028bb58c_88c3_11ec_bdbb_96000040dfb6row0_col5\" class=\"data row0 col5\" ></td>\n",
       "                        <td id=\"T_028bb58c_88c3_11ec_bdbb_96000040dfb6row0_col6\" class=\"data row0 col6\" ></td>\n",
       "                        <td id=\"T_028bb58c_88c3_11ec_bdbb_96000040dfb6row0_col7\" class=\"data row0 col7\" ></td>\n",
       "                        <td id=\"T_028bb58c_88c3_11ec_bdbb_96000040dfb6row0_col8\" class=\"data row0 col8\" ></td>\n",
       "                        <td id=\"T_028bb58c_88c3_11ec_bdbb_96000040dfb6row0_col9\" class=\"data row0 col9\" ></td>\n",
       "                        <td id=\"T_028bb58c_88c3_11ec_bdbb_96000040dfb6row0_col10\" class=\"data row0 col10\" ></td>\n",
       "                        <td id=\"T_028bb58c_88c3_11ec_bdbb_96000040dfb6row0_col11\" class=\"data row0 col11\" ></td>\n",
       "                        <td id=\"T_028bb58c_88c3_11ec_bdbb_96000040dfb6row0_col12\" class=\"data row0 col12\" ></td>\n",
       "                        <td id=\"T_028bb58c_88c3_11ec_bdbb_96000040dfb6row0_col13\" class=\"data row0 col13\" ></td>\n",
       "                        <td id=\"T_028bb58c_88c3_11ec_bdbb_96000040dfb6row0_col14\" class=\"data row0 col14\" ></td>\n",
       "                        <td id=\"T_028bb58c_88c3_11ec_bdbb_96000040dfb6row0_col15\" class=\"data row0 col15\" ></td>\n",
       "                        <td id=\"T_028bb58c_88c3_11ec_bdbb_96000040dfb6row0_col16\" class=\"data row0 col16\" ></td>\n",
       "                        <td id=\"T_028bb58c_88c3_11ec_bdbb_96000040dfb6row0_col17\" class=\"data row0 col17\" ></td>\n",
       "                        <td id=\"T_028bb58c_88c3_11ec_bdbb_96000040dfb6row0_col18\" class=\"data row0 col18\" ></td>\n",
       "                        <td id=\"T_028bb58c_88c3_11ec_bdbb_96000040dfb6row0_col19\" class=\"data row0 col19\" ></td>\n",
       "            </tr>\n",
       "            <tr>\n",
       "                        <th id=\"T_028bb58c_88c3_11ec_bdbb_96000040dfb6level0_row1\" class=\"row_heading level0 row1\" >2016-10</th>\n",
       "                        <td id=\"T_028bb58c_88c3_11ec_bdbb_96000040dfb6row1_col0\" class=\"data row1 col0\" >100.00%</td>\n",
       "                        <td id=\"T_028bb58c_88c3_11ec_bdbb_96000040dfb6row1_col1\" class=\"data row1 col1\" ></td>\n",
       "                        <td id=\"T_028bb58c_88c3_11ec_bdbb_96000040dfb6row1_col2\" class=\"data row1 col2\" ></td>\n",
       "                        <td id=\"T_028bb58c_88c3_11ec_bdbb_96000040dfb6row1_col3\" class=\"data row1 col3\" ></td>\n",
       "                        <td id=\"T_028bb58c_88c3_11ec_bdbb_96000040dfb6row1_col4\" class=\"data row1 col4\" ></td>\n",
       "                        <td id=\"T_028bb58c_88c3_11ec_bdbb_96000040dfb6row1_col5\" class=\"data row1 col5\" ></td>\n",
       "                        <td id=\"T_028bb58c_88c3_11ec_bdbb_96000040dfb6row1_col6\" class=\"data row1 col6\" >0.34%</td>\n",
       "                        <td id=\"T_028bb58c_88c3_11ec_bdbb_96000040dfb6row1_col7\" class=\"data row1 col7\" ></td>\n",
       "                        <td id=\"T_028bb58c_88c3_11ec_bdbb_96000040dfb6row1_col8\" class=\"data row1 col8\" ></td>\n",
       "                        <td id=\"T_028bb58c_88c3_11ec_bdbb_96000040dfb6row1_col9\" class=\"data row1 col9\" >0.34%</td>\n",
       "                        <td id=\"T_028bb58c_88c3_11ec_bdbb_96000040dfb6row1_col10\" class=\"data row1 col10\" ></td>\n",
       "                        <td id=\"T_028bb58c_88c3_11ec_bdbb_96000040dfb6row1_col11\" class=\"data row1 col11\" >0.34%</td>\n",
       "                        <td id=\"T_028bb58c_88c3_11ec_bdbb_96000040dfb6row1_col12\" class=\"data row1 col12\" ></td>\n",
       "                        <td id=\"T_028bb58c_88c3_11ec_bdbb_96000040dfb6row1_col13\" class=\"data row1 col13\" >0.34%</td>\n",
       "                        <td id=\"T_028bb58c_88c3_11ec_bdbb_96000040dfb6row1_col14\" class=\"data row1 col14\" ></td>\n",
       "                        <td id=\"T_028bb58c_88c3_11ec_bdbb_96000040dfb6row1_col15\" class=\"data row1 col15\" >0.34%</td>\n",
       "                        <td id=\"T_028bb58c_88c3_11ec_bdbb_96000040dfb6row1_col16\" class=\"data row1 col16\" ></td>\n",
       "                        <td id=\"T_028bb58c_88c3_11ec_bdbb_96000040dfb6row1_col17\" class=\"data row1 col17\" >0.34%</td>\n",
       "                        <td id=\"T_028bb58c_88c3_11ec_bdbb_96000040dfb6row1_col18\" class=\"data row1 col18\" >0.67%</td>\n",
       "                        <td id=\"T_028bb58c_88c3_11ec_bdbb_96000040dfb6row1_col19\" class=\"data row1 col19\" >0.67%</td>\n",
       "            </tr>\n",
       "            <tr>\n",
       "                        <th id=\"T_028bb58c_88c3_11ec_bdbb_96000040dfb6level0_row2\" class=\"row_heading level0 row2\" >2016-12</th>\n",
       "                        <td id=\"T_028bb58c_88c3_11ec_bdbb_96000040dfb6row2_col0\" class=\"data row2 col0\" >100.00%</td>\n",
       "                        <td id=\"T_028bb58c_88c3_11ec_bdbb_96000040dfb6row2_col1\" class=\"data row2 col1\" >100.00%</td>\n",
       "                        <td id=\"T_028bb58c_88c3_11ec_bdbb_96000040dfb6row2_col2\" class=\"data row2 col2\" ></td>\n",
       "                        <td id=\"T_028bb58c_88c3_11ec_bdbb_96000040dfb6row2_col3\" class=\"data row2 col3\" ></td>\n",
       "                        <td id=\"T_028bb58c_88c3_11ec_bdbb_96000040dfb6row2_col4\" class=\"data row2 col4\" ></td>\n",
       "                        <td id=\"T_028bb58c_88c3_11ec_bdbb_96000040dfb6row2_col5\" class=\"data row2 col5\" ></td>\n",
       "                        <td id=\"T_028bb58c_88c3_11ec_bdbb_96000040dfb6row2_col6\" class=\"data row2 col6\" ></td>\n",
       "                        <td id=\"T_028bb58c_88c3_11ec_bdbb_96000040dfb6row2_col7\" class=\"data row2 col7\" ></td>\n",
       "                        <td id=\"T_028bb58c_88c3_11ec_bdbb_96000040dfb6row2_col8\" class=\"data row2 col8\" ></td>\n",
       "                        <td id=\"T_028bb58c_88c3_11ec_bdbb_96000040dfb6row2_col9\" class=\"data row2 col9\" ></td>\n",
       "                        <td id=\"T_028bb58c_88c3_11ec_bdbb_96000040dfb6row2_col10\" class=\"data row2 col10\" ></td>\n",
       "                        <td id=\"T_028bb58c_88c3_11ec_bdbb_96000040dfb6row2_col11\" class=\"data row2 col11\" ></td>\n",
       "                        <td id=\"T_028bb58c_88c3_11ec_bdbb_96000040dfb6row2_col12\" class=\"data row2 col12\" ></td>\n",
       "                        <td id=\"T_028bb58c_88c3_11ec_bdbb_96000040dfb6row2_col13\" class=\"data row2 col13\" ></td>\n",
       "                        <td id=\"T_028bb58c_88c3_11ec_bdbb_96000040dfb6row2_col14\" class=\"data row2 col14\" ></td>\n",
       "                        <td id=\"T_028bb58c_88c3_11ec_bdbb_96000040dfb6row2_col15\" class=\"data row2 col15\" ></td>\n",
       "                        <td id=\"T_028bb58c_88c3_11ec_bdbb_96000040dfb6row2_col16\" class=\"data row2 col16\" ></td>\n",
       "                        <td id=\"T_028bb58c_88c3_11ec_bdbb_96000040dfb6row2_col17\" class=\"data row2 col17\" ></td>\n",
       "                        <td id=\"T_028bb58c_88c3_11ec_bdbb_96000040dfb6row2_col18\" class=\"data row2 col18\" ></td>\n",
       "                        <td id=\"T_028bb58c_88c3_11ec_bdbb_96000040dfb6row2_col19\" class=\"data row2 col19\" ></td>\n",
       "            </tr>\n",
       "            <tr>\n",
       "                        <th id=\"T_028bb58c_88c3_11ec_bdbb_96000040dfb6level0_row3\" class=\"row_heading level0 row3\" >2017-01</th>\n",
       "                        <td id=\"T_028bb58c_88c3_11ec_bdbb_96000040dfb6row3_col0\" class=\"data row3 col0\" >100.00%</td>\n",
       "                        <td id=\"T_028bb58c_88c3_11ec_bdbb_96000040dfb6row3_col1\" class=\"data row3 col1\" >0.55%</td>\n",
       "                        <td id=\"T_028bb58c_88c3_11ec_bdbb_96000040dfb6row3_col2\" class=\"data row3 col2\" >0.28%</td>\n",
       "                        <td id=\"T_028bb58c_88c3_11ec_bdbb_96000040dfb6row3_col3\" class=\"data row3 col3\" >0.14%</td>\n",
       "                        <td id=\"T_028bb58c_88c3_11ec_bdbb_96000040dfb6row3_col4\" class=\"data row3 col4\" >0.41%</td>\n",
       "                        <td id=\"T_028bb58c_88c3_11ec_bdbb_96000040dfb6row3_col5\" class=\"data row3 col5\" >0.14%</td>\n",
       "                        <td id=\"T_028bb58c_88c3_11ec_bdbb_96000040dfb6row3_col6\" class=\"data row3 col6\" >0.55%</td>\n",
       "                        <td id=\"T_028bb58c_88c3_11ec_bdbb_96000040dfb6row3_col7\" class=\"data row3 col7\" >0.14%</td>\n",
       "                        <td id=\"T_028bb58c_88c3_11ec_bdbb_96000040dfb6row3_col8\" class=\"data row3 col8\" >0.14%</td>\n",
       "                        <td id=\"T_028bb58c_88c3_11ec_bdbb_96000040dfb6row3_col9\" class=\"data row3 col9\" ></td>\n",
       "                        <td id=\"T_028bb58c_88c3_11ec_bdbb_96000040dfb6row3_col10\" class=\"data row3 col10\" >0.28%</td>\n",
       "                        <td id=\"T_028bb58c_88c3_11ec_bdbb_96000040dfb6row3_col11\" class=\"data row3 col11\" >0.28%</td>\n",
       "                        <td id=\"T_028bb58c_88c3_11ec_bdbb_96000040dfb6row3_col12\" class=\"data row3 col12\" >0.83%</td>\n",
       "                        <td id=\"T_028bb58c_88c3_11ec_bdbb_96000040dfb6row3_col13\" class=\"data row3 col13\" >0.41%</td>\n",
       "                        <td id=\"T_028bb58c_88c3_11ec_bdbb_96000040dfb6row3_col14\" class=\"data row3 col14\" >0.14%</td>\n",
       "                        <td id=\"T_028bb58c_88c3_11ec_bdbb_96000040dfb6row3_col15\" class=\"data row3 col15\" >0.14%</td>\n",
       "                        <td id=\"T_028bb58c_88c3_11ec_bdbb_96000040dfb6row3_col16\" class=\"data row3 col16\" >0.28%</td>\n",
       "                        <td id=\"T_028bb58c_88c3_11ec_bdbb_96000040dfb6row3_col17\" class=\"data row3 col17\" >0.41%</td>\n",
       "                        <td id=\"T_028bb58c_88c3_11ec_bdbb_96000040dfb6row3_col18\" class=\"data row3 col18\" >0.14%</td>\n",
       "                        <td id=\"T_028bb58c_88c3_11ec_bdbb_96000040dfb6row3_col19\" class=\"data row3 col19\" ></td>\n",
       "            </tr>\n",
       "            <tr>\n",
       "                        <th id=\"T_028bb58c_88c3_11ec_bdbb_96000040dfb6level0_row4\" class=\"row_heading level0 row4\" >2017-02</th>\n",
       "                        <td id=\"T_028bb58c_88c3_11ec_bdbb_96000040dfb6row4_col0\" class=\"data row4 col0\" >100.00%</td>\n",
       "                        <td id=\"T_028bb58c_88c3_11ec_bdbb_96000040dfb6row4_col1\" class=\"data row4 col1\" >0.23%</td>\n",
       "                        <td id=\"T_028bb58c_88c3_11ec_bdbb_96000040dfb6row4_col2\" class=\"data row4 col2\" >0.23%</td>\n",
       "                        <td id=\"T_028bb58c_88c3_11ec_bdbb_96000040dfb6row4_col3\" class=\"data row4 col3\" >0.17%</td>\n",
       "                        <td id=\"T_028bb58c_88c3_11ec_bdbb_96000040dfb6row4_col4\" class=\"data row4 col4\" >0.41%</td>\n",
       "                        <td id=\"T_028bb58c_88c3_11ec_bdbb_96000040dfb6row4_col5\" class=\"data row4 col5\" >0.12%</td>\n",
       "                        <td id=\"T_028bb58c_88c3_11ec_bdbb_96000040dfb6row4_col6\" class=\"data row4 col6\" >0.23%</td>\n",
       "                        <td id=\"T_028bb58c_88c3_11ec_bdbb_96000040dfb6row4_col7\" class=\"data row4 col7\" >0.17%</td>\n",
       "                        <td id=\"T_028bb58c_88c3_11ec_bdbb_96000040dfb6row4_col8\" class=\"data row4 col8\" >0.12%</td>\n",
       "                        <td id=\"T_028bb58c_88c3_11ec_bdbb_96000040dfb6row4_col9\" class=\"data row4 col9\" >0.23%</td>\n",
       "                        <td id=\"T_028bb58c_88c3_11ec_bdbb_96000040dfb6row4_col10\" class=\"data row4 col10\" >0.12%</td>\n",
       "                        <td id=\"T_028bb58c_88c3_11ec_bdbb_96000040dfb6row4_col11\" class=\"data row4 col11\" >0.29%</td>\n",
       "                        <td id=\"T_028bb58c_88c3_11ec_bdbb_96000040dfb6row4_col12\" class=\"data row4 col12\" >0.17%</td>\n",
       "                        <td id=\"T_028bb58c_88c3_11ec_bdbb_96000040dfb6row4_col13\" class=\"data row4 col13\" >0.17%</td>\n",
       "                        <td id=\"T_028bb58c_88c3_11ec_bdbb_96000040dfb6row4_col14\" class=\"data row4 col14\" >0.12%</td>\n",
       "                        <td id=\"T_028bb58c_88c3_11ec_bdbb_96000040dfb6row4_col15\" class=\"data row4 col15\" >0.06%</td>\n",
       "                        <td id=\"T_028bb58c_88c3_11ec_bdbb_96000040dfb6row4_col16\" class=\"data row4 col16\" >0.06%</td>\n",
       "                        <td id=\"T_028bb58c_88c3_11ec_bdbb_96000040dfb6row4_col17\" class=\"data row4 col17\" >0.23%</td>\n",
       "                        <td id=\"T_028bb58c_88c3_11ec_bdbb_96000040dfb6row4_col18\" class=\"data row4 col18\" ></td>\n",
       "                        <td id=\"T_028bb58c_88c3_11ec_bdbb_96000040dfb6row4_col19\" class=\"data row4 col19\" ></td>\n",
       "            </tr>\n",
       "            <tr>\n",
       "                        <th id=\"T_028bb58c_88c3_11ec_bdbb_96000040dfb6level0_row5\" class=\"row_heading level0 row5\" >2017-03</th>\n",
       "                        <td id=\"T_028bb58c_88c3_11ec_bdbb_96000040dfb6row5_col0\" class=\"data row5 col0\" >100.00%</td>\n",
       "                        <td id=\"T_028bb58c_88c3_11ec_bdbb_96000040dfb6row5_col1\" class=\"data row5 col1\" >0.50%</td>\n",
       "                        <td id=\"T_028bb58c_88c3_11ec_bdbb_96000040dfb6row5_col2\" class=\"data row5 col2\" >0.34%</td>\n",
       "                        <td id=\"T_028bb58c_88c3_11ec_bdbb_96000040dfb6row5_col3\" class=\"data row5 col3\" >0.34%</td>\n",
       "                        <td id=\"T_028bb58c_88c3_11ec_bdbb_96000040dfb6row5_col4\" class=\"data row5 col4\" >0.34%</td>\n",
       "                        <td id=\"T_028bb58c_88c3_11ec_bdbb_96000040dfb6row5_col5\" class=\"data row5 col5\" >0.15%</td>\n",
       "                        <td id=\"T_028bb58c_88c3_11ec_bdbb_96000040dfb6row5_col6\" class=\"data row5 col6\" >0.15%</td>\n",
       "                        <td id=\"T_028bb58c_88c3_11ec_bdbb_96000040dfb6row5_col7\" class=\"data row5 col7\" >0.31%</td>\n",
       "                        <td id=\"T_028bb58c_88c3_11ec_bdbb_96000040dfb6row5_col8\" class=\"data row5 col8\" >0.31%</td>\n",
       "                        <td id=\"T_028bb58c_88c3_11ec_bdbb_96000040dfb6row5_col9\" class=\"data row5 col9\" >0.11%</td>\n",
       "                        <td id=\"T_028bb58c_88c3_11ec_bdbb_96000040dfb6row5_col10\" class=\"data row5 col10\" >0.38%</td>\n",
       "                        <td id=\"T_028bb58c_88c3_11ec_bdbb_96000040dfb6row5_col11\" class=\"data row5 col11\" >0.15%</td>\n",
       "                        <td id=\"T_028bb58c_88c3_11ec_bdbb_96000040dfb6row5_col12\" class=\"data row5 col12\" >0.23%</td>\n",
       "                        <td id=\"T_028bb58c_88c3_11ec_bdbb_96000040dfb6row5_col13\" class=\"data row5 col13\" >0.11%</td>\n",
       "                        <td id=\"T_028bb58c_88c3_11ec_bdbb_96000040dfb6row5_col14\" class=\"data row5 col14\" >0.15%</td>\n",
       "                        <td id=\"T_028bb58c_88c3_11ec_bdbb_96000040dfb6row5_col15\" class=\"data row5 col15\" >0.23%</td>\n",
       "                        <td id=\"T_028bb58c_88c3_11ec_bdbb_96000040dfb6row5_col16\" class=\"data row5 col16\" >0.08%</td>\n",
       "                        <td id=\"T_028bb58c_88c3_11ec_bdbb_96000040dfb6row5_col17\" class=\"data row5 col17\" >0.15%</td>\n",
       "                        <td id=\"T_028bb58c_88c3_11ec_bdbb_96000040dfb6row5_col18\" class=\"data row5 col18\" ></td>\n",
       "                        <td id=\"T_028bb58c_88c3_11ec_bdbb_96000040dfb6row5_col19\" class=\"data row5 col19\" ></td>\n",
       "            </tr>\n",
       "            <tr>\n",
       "                        <th id=\"T_028bb58c_88c3_11ec_bdbb_96000040dfb6level0_row6\" class=\"row_heading level0 row6\" >2017-04</th>\n",
       "                        <td id=\"T_028bb58c_88c3_11ec_bdbb_96000040dfb6row6_col0\" class=\"data row6 col0\" >100.00%</td>\n",
       "                        <td id=\"T_028bb58c_88c3_11ec_bdbb_96000040dfb6row6_col1\" class=\"data row6 col1\" >0.61%</td>\n",
       "                        <td id=\"T_028bb58c_88c3_11ec_bdbb_96000040dfb6row6_col2\" class=\"data row6 col2\" >0.22%</td>\n",
       "                        <td id=\"T_028bb58c_88c3_11ec_bdbb_96000040dfb6row6_col3\" class=\"data row6 col3\" >0.17%</td>\n",
       "                        <td id=\"T_028bb58c_88c3_11ec_bdbb_96000040dfb6row6_col4\" class=\"data row6 col4\" >0.26%</td>\n",
       "                        <td id=\"T_028bb58c_88c3_11ec_bdbb_96000040dfb6row6_col5\" class=\"data row6 col5\" >0.26%</td>\n",
       "                        <td id=\"T_028bb58c_88c3_11ec_bdbb_96000040dfb6row6_col6\" class=\"data row6 col6\" >0.35%</td>\n",
       "                        <td id=\"T_028bb58c_88c3_11ec_bdbb_96000040dfb6row6_col7\" class=\"data row6 col7\" >0.26%</td>\n",
       "                        <td id=\"T_028bb58c_88c3_11ec_bdbb_96000040dfb6row6_col8\" class=\"data row6 col8\" >0.35%</td>\n",
       "                        <td id=\"T_028bb58c_88c3_11ec_bdbb_96000040dfb6row6_col9\" class=\"data row6 col9\" >0.17%</td>\n",
       "                        <td id=\"T_028bb58c_88c3_11ec_bdbb_96000040dfb6row6_col10\" class=\"data row6 col10\" >0.22%</td>\n",
       "                        <td id=\"T_028bb58c_88c3_11ec_bdbb_96000040dfb6row6_col11\" class=\"data row6 col11\" >0.09%</td>\n",
       "                        <td id=\"T_028bb58c_88c3_11ec_bdbb_96000040dfb6row6_col12\" class=\"data row6 col12\" >0.09%</td>\n",
       "                        <td id=\"T_028bb58c_88c3_11ec_bdbb_96000040dfb6row6_col13\" class=\"data row6 col13\" >0.04%</td>\n",
       "                        <td id=\"T_028bb58c_88c3_11ec_bdbb_96000040dfb6row6_col14\" class=\"data row6 col14\" >0.09%</td>\n",
       "                        <td id=\"T_028bb58c_88c3_11ec_bdbb_96000040dfb6row6_col15\" class=\"data row6 col15\" >0.09%</td>\n",
       "                        <td id=\"T_028bb58c_88c3_11ec_bdbb_96000040dfb6row6_col16\" class=\"data row6 col16\" >0.17%</td>\n",
       "                        <td id=\"T_028bb58c_88c3_11ec_bdbb_96000040dfb6row6_col17\" class=\"data row6 col17\" ></td>\n",
       "                        <td id=\"T_028bb58c_88c3_11ec_bdbb_96000040dfb6row6_col18\" class=\"data row6 col18\" ></td>\n",
       "                        <td id=\"T_028bb58c_88c3_11ec_bdbb_96000040dfb6row6_col19\" class=\"data row6 col19\" ></td>\n",
       "            </tr>\n",
       "            <tr>\n",
       "                        <th id=\"T_028bb58c_88c3_11ec_bdbb_96000040dfb6level0_row7\" class=\"row_heading level0 row7\" >2017-05</th>\n",
       "                        <td id=\"T_028bb58c_88c3_11ec_bdbb_96000040dfb6row7_col0\" class=\"data row7 col0\" >100.00%</td>\n",
       "                        <td id=\"T_028bb58c_88c3_11ec_bdbb_96000040dfb6row7_col1\" class=\"data row7 col1\" >0.53%</td>\n",
       "                        <td id=\"T_028bb58c_88c3_11ec_bdbb_96000040dfb6row7_col2\" class=\"data row7 col2\" >0.50%</td>\n",
       "                        <td id=\"T_028bb58c_88c3_11ec_bdbb_96000040dfb6row7_col3\" class=\"data row7 col3\" >0.39%</td>\n",
       "                        <td id=\"T_028bb58c_88c3_11ec_bdbb_96000040dfb6row7_col4\" class=\"data row7 col4\" >0.31%</td>\n",
       "                        <td id=\"T_028bb58c_88c3_11ec_bdbb_96000040dfb6row7_col5\" class=\"data row7 col5\" >0.34%</td>\n",
       "                        <td id=\"T_028bb58c_88c3_11ec_bdbb_96000040dfb6row7_col6\" class=\"data row7 col6\" >0.42%</td>\n",
       "                        <td id=\"T_028bb58c_88c3_11ec_bdbb_96000040dfb6row7_col7\" class=\"data row7 col7\" >0.17%</td>\n",
       "                        <td id=\"T_028bb58c_88c3_11ec_bdbb_96000040dfb6row7_col8\" class=\"data row7 col8\" >0.25%</td>\n",
       "                        <td id=\"T_028bb58c_88c3_11ec_bdbb_96000040dfb6row7_col9\" class=\"data row7 col9\" >0.28%</td>\n",
       "                        <td id=\"T_028bb58c_88c3_11ec_bdbb_96000040dfb6row7_col10\" class=\"data row7 col10\" >0.28%</td>\n",
       "                        <td id=\"T_028bb58c_88c3_11ec_bdbb_96000040dfb6row7_col11\" class=\"data row7 col11\" >0.34%</td>\n",
       "                        <td id=\"T_028bb58c_88c3_11ec_bdbb_96000040dfb6row7_col12\" class=\"data row7 col12\" >0.20%</td>\n",
       "                        <td id=\"T_028bb58c_88c3_11ec_bdbb_96000040dfb6row7_col13\" class=\"data row7 col13\" >0.06%</td>\n",
       "                        <td id=\"T_028bb58c_88c3_11ec_bdbb_96000040dfb6row7_col14\" class=\"data row7 col14\" >0.20%</td>\n",
       "                        <td id=\"T_028bb58c_88c3_11ec_bdbb_96000040dfb6row7_col15\" class=\"data row7 col15\" >0.22%</td>\n",
       "                        <td id=\"T_028bb58c_88c3_11ec_bdbb_96000040dfb6row7_col16\" class=\"data row7 col16\" ></td>\n",
       "                        <td id=\"T_028bb58c_88c3_11ec_bdbb_96000040dfb6row7_col17\" class=\"data row7 col17\" ></td>\n",
       "                        <td id=\"T_028bb58c_88c3_11ec_bdbb_96000040dfb6row7_col18\" class=\"data row7 col18\" ></td>\n",
       "                        <td id=\"T_028bb58c_88c3_11ec_bdbb_96000040dfb6row7_col19\" class=\"data row7 col19\" ></td>\n",
       "            </tr>\n",
       "            <tr>\n",
       "                        <th id=\"T_028bb58c_88c3_11ec_bdbb_96000040dfb6level0_row8\" class=\"row_heading level0 row8\" >2017-06</th>\n",
       "                        <td id=\"T_028bb58c_88c3_11ec_bdbb_96000040dfb6row8_col0\" class=\"data row8 col0\" >100.00%</td>\n",
       "                        <td id=\"T_028bb58c_88c3_11ec_bdbb_96000040dfb6row8_col1\" class=\"data row8 col1\" >0.45%</td>\n",
       "                        <td id=\"T_028bb58c_88c3_11ec_bdbb_96000040dfb6row8_col2\" class=\"data row8 col2\" >0.35%</td>\n",
       "                        <td id=\"T_028bb58c_88c3_11ec_bdbb_96000040dfb6row8_col3\" class=\"data row8 col3\" >0.41%</td>\n",
       "                        <td id=\"T_028bb58c_88c3_11ec_bdbb_96000040dfb6row8_col4\" class=\"data row8 col4\" >0.26%</td>\n",
       "                        <td id=\"T_028bb58c_88c3_11ec_bdbb_96000040dfb6row8_col5\" class=\"data row8 col5\" >0.35%</td>\n",
       "                        <td id=\"T_028bb58c_88c3_11ec_bdbb_96000040dfb6row8_col6\" class=\"data row8 col6\" >0.35%</td>\n",
       "                        <td id=\"T_028bb58c_88c3_11ec_bdbb_96000040dfb6row8_col7\" class=\"data row8 col7\" >0.22%</td>\n",
       "                        <td id=\"T_028bb58c_88c3_11ec_bdbb_96000040dfb6row8_col8\" class=\"data row8 col8\" >0.13%</td>\n",
       "                        <td id=\"T_028bb58c_88c3_11ec_bdbb_96000040dfb6row8_col9\" class=\"data row8 col9\" >0.22%</td>\n",
       "                        <td id=\"T_028bb58c_88c3_11ec_bdbb_96000040dfb6row8_col10\" class=\"data row8 col10\" >0.32%</td>\n",
       "                        <td id=\"T_028bb58c_88c3_11ec_bdbb_96000040dfb6row8_col11\" class=\"data row8 col11\" >0.35%</td>\n",
       "                        <td id=\"T_028bb58c_88c3_11ec_bdbb_96000040dfb6row8_col12\" class=\"data row8 col12\" >0.16%</td>\n",
       "                        <td id=\"T_028bb58c_88c3_11ec_bdbb_96000040dfb6row8_col13\" class=\"data row8 col13\" >0.13%</td>\n",
       "                        <td id=\"T_028bb58c_88c3_11ec_bdbb_96000040dfb6row8_col14\" class=\"data row8 col14\" >0.19%</td>\n",
       "                        <td id=\"T_028bb58c_88c3_11ec_bdbb_96000040dfb6row8_col15\" class=\"data row8 col15\" ></td>\n",
       "                        <td id=\"T_028bb58c_88c3_11ec_bdbb_96000040dfb6row8_col16\" class=\"data row8 col16\" ></td>\n",
       "                        <td id=\"T_028bb58c_88c3_11ec_bdbb_96000040dfb6row8_col17\" class=\"data row8 col17\" ></td>\n",
       "                        <td id=\"T_028bb58c_88c3_11ec_bdbb_96000040dfb6row8_col18\" class=\"data row8 col18\" ></td>\n",
       "                        <td id=\"T_028bb58c_88c3_11ec_bdbb_96000040dfb6row8_col19\" class=\"data row8 col19\" ></td>\n",
       "            </tr>\n",
       "            <tr>\n",
       "                        <th id=\"T_028bb58c_88c3_11ec_bdbb_96000040dfb6level0_row9\" class=\"row_heading level0 row9\" >2017-07</th>\n",
       "                        <td id=\"T_028bb58c_88c3_11ec_bdbb_96000040dfb6row9_col0\" class=\"data row9 col0\" >100.00%</td>\n",
       "                        <td id=\"T_028bb58c_88c3_11ec_bdbb_96000040dfb6row9_col1\" class=\"data row9 col1\" >0.52%</td>\n",
       "                        <td id=\"T_028bb58c_88c3_11ec_bdbb_96000040dfb6row9_col2\" class=\"data row9 col2\" >0.31%</td>\n",
       "                        <td id=\"T_028bb58c_88c3_11ec_bdbb_96000040dfb6row9_col3\" class=\"data row9 col3\" >0.21%</td>\n",
       "                        <td id=\"T_028bb58c_88c3_11ec_bdbb_96000040dfb6row9_col4\" class=\"data row9 col4\" >0.34%</td>\n",
       "                        <td id=\"T_028bb58c_88c3_11ec_bdbb_96000040dfb6row9_col5\" class=\"data row9 col5\" >0.18%</td>\n",
       "                        <td id=\"T_028bb58c_88c3_11ec_bdbb_96000040dfb6row9_col6\" class=\"data row9 col6\" >0.31%</td>\n",
       "                        <td id=\"T_028bb58c_88c3_11ec_bdbb_96000040dfb6row9_col7\" class=\"data row9 col7\" >0.10%</td>\n",
       "                        <td id=\"T_028bb58c_88c3_11ec_bdbb_96000040dfb6row9_col8\" class=\"data row9 col8\" >0.18%</td>\n",
       "                        <td id=\"T_028bb58c_88c3_11ec_bdbb_96000040dfb6row9_col9\" class=\"data row9 col9\" >0.24%</td>\n",
       "                        <td id=\"T_028bb58c_88c3_11ec_bdbb_96000040dfb6row9_col10\" class=\"data row9 col10\" >0.24%</td>\n",
       "                        <td id=\"T_028bb58c_88c3_11ec_bdbb_96000040dfb6row9_col11\" class=\"data row9 col11\" >0.31%</td>\n",
       "                        <td id=\"T_028bb58c_88c3_11ec_bdbb_96000040dfb6row9_col12\" class=\"data row9 col12\" >0.13%</td>\n",
       "                        <td id=\"T_028bb58c_88c3_11ec_bdbb_96000040dfb6row9_col13\" class=\"data row9 col13\" >0.26%</td>\n",
       "                        <td id=\"T_028bb58c_88c3_11ec_bdbb_96000040dfb6row9_col14\" class=\"data row9 col14\" ></td>\n",
       "                        <td id=\"T_028bb58c_88c3_11ec_bdbb_96000040dfb6row9_col15\" class=\"data row9 col15\" ></td>\n",
       "                        <td id=\"T_028bb58c_88c3_11ec_bdbb_96000040dfb6row9_col16\" class=\"data row9 col16\" ></td>\n",
       "                        <td id=\"T_028bb58c_88c3_11ec_bdbb_96000040dfb6row9_col17\" class=\"data row9 col17\" ></td>\n",
       "                        <td id=\"T_028bb58c_88c3_11ec_bdbb_96000040dfb6row9_col18\" class=\"data row9 col18\" ></td>\n",
       "                        <td id=\"T_028bb58c_88c3_11ec_bdbb_96000040dfb6row9_col19\" class=\"data row9 col19\" ></td>\n",
       "            </tr>\n",
       "            <tr>\n",
       "                        <th id=\"T_028bb58c_88c3_11ec_bdbb_96000040dfb6level0_row10\" class=\"row_heading level0 row10\" >2017-08</th>\n",
       "                        <td id=\"T_028bb58c_88c3_11ec_bdbb_96000040dfb6row10_col0\" class=\"data row10 col0\" >100.00%</td>\n",
       "                        <td id=\"T_028bb58c_88c3_11ec_bdbb_96000040dfb6row10_col1\" class=\"data row10 col1\" >0.67%</td>\n",
       "                        <td id=\"T_028bb58c_88c3_11ec_bdbb_96000040dfb6row10_col2\" class=\"data row10 col2\" >0.36%</td>\n",
       "                        <td id=\"T_028bb58c_88c3_11ec_bdbb_96000040dfb6row10_col3\" class=\"data row10 col3\" >0.26%</td>\n",
       "                        <td id=\"T_028bb58c_88c3_11ec_bdbb_96000040dfb6row10_col4\" class=\"data row10 col4\" >0.38%</td>\n",
       "                        <td id=\"T_028bb58c_88c3_11ec_bdbb_96000040dfb6row10_col5\" class=\"data row10 col5\" >0.53%</td>\n",
       "                        <td id=\"T_028bb58c_88c3_11ec_bdbb_96000040dfb6row10_col6\" class=\"data row10 col6\" >0.26%</td>\n",
       "                        <td id=\"T_028bb58c_88c3_11ec_bdbb_96000040dfb6row10_col7\" class=\"data row10 col7\" >0.26%</td>\n",
       "                        <td id=\"T_028bb58c_88c3_11ec_bdbb_96000040dfb6row10_col8\" class=\"data row10 col8\" >0.12%</td>\n",
       "                        <td id=\"T_028bb58c_88c3_11ec_bdbb_96000040dfb6row10_col9\" class=\"data row10 col9\" >0.17%</td>\n",
       "                        <td id=\"T_028bb58c_88c3_11ec_bdbb_96000040dfb6row10_col10\" class=\"data row10 col10\" >0.24%</td>\n",
       "                        <td id=\"T_028bb58c_88c3_11ec_bdbb_96000040dfb6row10_col11\" class=\"data row10 col11\" >0.17%</td>\n",
       "                        <td id=\"T_028bb58c_88c3_11ec_bdbb_96000040dfb6row10_col12\" class=\"data row10 col12\" >0.14%</td>\n",
       "                        <td id=\"T_028bb58c_88c3_11ec_bdbb_96000040dfb6row10_col13\" class=\"data row10 col13\" ></td>\n",
       "                        <td id=\"T_028bb58c_88c3_11ec_bdbb_96000040dfb6row10_col14\" class=\"data row10 col14\" ></td>\n",
       "                        <td id=\"T_028bb58c_88c3_11ec_bdbb_96000040dfb6row10_col15\" class=\"data row10 col15\" ></td>\n",
       "                        <td id=\"T_028bb58c_88c3_11ec_bdbb_96000040dfb6row10_col16\" class=\"data row10 col16\" ></td>\n",
       "                        <td id=\"T_028bb58c_88c3_11ec_bdbb_96000040dfb6row10_col17\" class=\"data row10 col17\" ></td>\n",
       "                        <td id=\"T_028bb58c_88c3_11ec_bdbb_96000040dfb6row10_col18\" class=\"data row10 col18\" ></td>\n",
       "                        <td id=\"T_028bb58c_88c3_11ec_bdbb_96000040dfb6row10_col19\" class=\"data row10 col19\" ></td>\n",
       "            </tr>\n",
       "            <tr>\n",
       "                        <th id=\"T_028bb58c_88c3_11ec_bdbb_96000040dfb6level0_row11\" class=\"row_heading level0 row11\" >2017-09</th>\n",
       "                        <td id=\"T_028bb58c_88c3_11ec_bdbb_96000040dfb6row11_col0\" class=\"data row11 col0\" >100.00%</td>\n",
       "                        <td id=\"T_028bb58c_88c3_11ec_bdbb_96000040dfb6row11_col1\" class=\"data row11 col1\" >0.65%</td>\n",
       "                        <td id=\"T_028bb58c_88c3_11ec_bdbb_96000040dfb6row11_col2\" class=\"data row11 col2\" >0.48%</td>\n",
       "                        <td id=\"T_028bb58c_88c3_11ec_bdbb_96000040dfb6row11_col3\" class=\"data row11 col3\" >0.34%</td>\n",
       "                        <td id=\"T_028bb58c_88c3_11ec_bdbb_96000040dfb6row11_col4\" class=\"data row11 col4\" >0.44%</td>\n",
       "                        <td id=\"T_028bb58c_88c3_11ec_bdbb_96000040dfb6row11_col5\" class=\"data row11 col5\" >0.27%</td>\n",
       "                        <td id=\"T_028bb58c_88c3_11ec_bdbb_96000040dfb6row11_col6\" class=\"data row11 col6\" >0.22%</td>\n",
       "                        <td id=\"T_028bb58c_88c3_11ec_bdbb_96000040dfb6row11_col7\" class=\"data row11 col7\" >0.22%</td>\n",
       "                        <td id=\"T_028bb58c_88c3_11ec_bdbb_96000040dfb6row11_col8\" class=\"data row11 col8\" >0.31%</td>\n",
       "                        <td id=\"T_028bb58c_88c3_11ec_bdbb_96000040dfb6row11_col9\" class=\"data row11 col9\" >0.17%</td>\n",
       "                        <td id=\"T_028bb58c_88c3_11ec_bdbb_96000040dfb6row11_col10\" class=\"data row11 col10\" >0.27%</td>\n",
       "                        <td id=\"T_028bb58c_88c3_11ec_bdbb_96000040dfb6row11_col11\" class=\"data row11 col11\" >0.07%</td>\n",
       "                        <td id=\"T_028bb58c_88c3_11ec_bdbb_96000040dfb6row11_col12\" class=\"data row11 col12\" ></td>\n",
       "                        <td id=\"T_028bb58c_88c3_11ec_bdbb_96000040dfb6row11_col13\" class=\"data row11 col13\" ></td>\n",
       "                        <td id=\"T_028bb58c_88c3_11ec_bdbb_96000040dfb6row11_col14\" class=\"data row11 col14\" ></td>\n",
       "                        <td id=\"T_028bb58c_88c3_11ec_bdbb_96000040dfb6row11_col15\" class=\"data row11 col15\" ></td>\n",
       "                        <td id=\"T_028bb58c_88c3_11ec_bdbb_96000040dfb6row11_col16\" class=\"data row11 col16\" ></td>\n",
       "                        <td id=\"T_028bb58c_88c3_11ec_bdbb_96000040dfb6row11_col17\" class=\"data row11 col17\" ></td>\n",
       "                        <td id=\"T_028bb58c_88c3_11ec_bdbb_96000040dfb6row11_col18\" class=\"data row11 col18\" ></td>\n",
       "                        <td id=\"T_028bb58c_88c3_11ec_bdbb_96000040dfb6row11_col19\" class=\"data row11 col19\" ></td>\n",
       "            </tr>\n",
       "            <tr>\n",
       "                        <th id=\"T_028bb58c_88c3_11ec_bdbb_96000040dfb6level0_row12\" class=\"row_heading level0 row12\" >2017-10</th>\n",
       "                        <td id=\"T_028bb58c_88c3_11ec_bdbb_96000040dfb6row12_col0\" class=\"data row12 col0\" >100.00%</td>\n",
       "                        <td id=\"T_028bb58c_88c3_11ec_bdbb_96000040dfb6row12_col1\" class=\"data row12 col1\" >0.68%</td>\n",
       "                        <td id=\"T_028bb58c_88c3_11ec_bdbb_96000040dfb6row12_col2\" class=\"data row12 col2\" >0.29%</td>\n",
       "                        <td id=\"T_028bb58c_88c3_11ec_bdbb_96000040dfb6row12_col3\" class=\"data row12 col3\" >0.09%</td>\n",
       "                        <td id=\"T_028bb58c_88c3_11ec_bdbb_96000040dfb6row12_col4\" class=\"data row12 col4\" >0.23%</td>\n",
       "                        <td id=\"T_028bb58c_88c3_11ec_bdbb_96000040dfb6row12_col5\" class=\"data row12 col5\" >0.18%</td>\n",
       "                        <td id=\"T_028bb58c_88c3_11ec_bdbb_96000040dfb6row12_col6\" class=\"data row12 col6\" >0.25%</td>\n",
       "                        <td id=\"T_028bb58c_88c3_11ec_bdbb_96000040dfb6row12_col7\" class=\"data row12 col7\" >0.36%</td>\n",
       "                        <td id=\"T_028bb58c_88c3_11ec_bdbb_96000040dfb6row12_col8\" class=\"data row12 col8\" >0.27%</td>\n",
       "                        <td id=\"T_028bb58c_88c3_11ec_bdbb_96000040dfb6row12_col9\" class=\"data row12 col9\" >0.20%</td>\n",
       "                        <td id=\"T_028bb58c_88c3_11ec_bdbb_96000040dfb6row12_col10\" class=\"data row12 col10\" >0.20%</td>\n",
       "                        <td id=\"T_028bb58c_88c3_11ec_bdbb_96000040dfb6row12_col11\" class=\"data row12 col11\" ></td>\n",
       "                        <td id=\"T_028bb58c_88c3_11ec_bdbb_96000040dfb6row12_col12\" class=\"data row12 col12\" ></td>\n",
       "                        <td id=\"T_028bb58c_88c3_11ec_bdbb_96000040dfb6row12_col13\" class=\"data row12 col13\" ></td>\n",
       "                        <td id=\"T_028bb58c_88c3_11ec_bdbb_96000040dfb6row12_col14\" class=\"data row12 col14\" ></td>\n",
       "                        <td id=\"T_028bb58c_88c3_11ec_bdbb_96000040dfb6row12_col15\" class=\"data row12 col15\" ></td>\n",
       "                        <td id=\"T_028bb58c_88c3_11ec_bdbb_96000040dfb6row12_col16\" class=\"data row12 col16\" ></td>\n",
       "                        <td id=\"T_028bb58c_88c3_11ec_bdbb_96000040dfb6row12_col17\" class=\"data row12 col17\" ></td>\n",
       "                        <td id=\"T_028bb58c_88c3_11ec_bdbb_96000040dfb6row12_col18\" class=\"data row12 col18\" ></td>\n",
       "                        <td id=\"T_028bb58c_88c3_11ec_bdbb_96000040dfb6row12_col19\" class=\"data row12 col19\" ></td>\n",
       "            </tr>\n",
       "            <tr>\n",
       "                        <th id=\"T_028bb58c_88c3_11ec_bdbb_96000040dfb6level0_row13\" class=\"row_heading level0 row13\" >2017-11</th>\n",
       "                        <td id=\"T_028bb58c_88c3_11ec_bdbb_96000040dfb6row13_col0\" class=\"data row13 col0\" >100.00%</td>\n",
       "                        <td id=\"T_028bb58c_88c3_11ec_bdbb_96000040dfb6row13_col1\" class=\"data row13 col1\" >0.55%</td>\n",
       "                        <td id=\"T_028bb58c_88c3_11ec_bdbb_96000040dfb6row13_col2\" class=\"data row13 col2\" >0.38%</td>\n",
       "                        <td id=\"T_028bb58c_88c3_11ec_bdbb_96000040dfb6row13_col3\" class=\"data row13 col3\" >0.15%</td>\n",
       "                        <td id=\"T_028bb58c_88c3_11ec_bdbb_96000040dfb6row13_col4\" class=\"data row13 col4\" >0.20%</td>\n",
       "                        <td id=\"T_028bb58c_88c3_11ec_bdbb_96000040dfb6row13_col5\" class=\"data row13 col5\" >0.15%</td>\n",
       "                        <td id=\"T_028bb58c_88c3_11ec_bdbb_96000040dfb6row13_col6\" class=\"data row13 col6\" >0.13%</td>\n",
       "                        <td id=\"T_028bb58c_88c3_11ec_bdbb_96000040dfb6row13_col7\" class=\"data row13 col7\" >0.20%</td>\n",
       "                        <td id=\"T_028bb58c_88c3_11ec_bdbb_96000040dfb6row13_col8\" class=\"data row13 col8\" >0.11%</td>\n",
       "                        <td id=\"T_028bb58c_88c3_11ec_bdbb_96000040dfb6row13_col9\" class=\"data row13 col9\" >0.07%</td>\n",
       "                        <td id=\"T_028bb58c_88c3_11ec_bdbb_96000040dfb6row13_col10\" class=\"data row13 col10\" ></td>\n",
       "                        <td id=\"T_028bb58c_88c3_11ec_bdbb_96000040dfb6row13_col11\" class=\"data row13 col11\" ></td>\n",
       "                        <td id=\"T_028bb58c_88c3_11ec_bdbb_96000040dfb6row13_col12\" class=\"data row13 col12\" ></td>\n",
       "                        <td id=\"T_028bb58c_88c3_11ec_bdbb_96000040dfb6row13_col13\" class=\"data row13 col13\" ></td>\n",
       "                        <td id=\"T_028bb58c_88c3_11ec_bdbb_96000040dfb6row13_col14\" class=\"data row13 col14\" ></td>\n",
       "                        <td id=\"T_028bb58c_88c3_11ec_bdbb_96000040dfb6row13_col15\" class=\"data row13 col15\" ></td>\n",
       "                        <td id=\"T_028bb58c_88c3_11ec_bdbb_96000040dfb6row13_col16\" class=\"data row13 col16\" ></td>\n",
       "                        <td id=\"T_028bb58c_88c3_11ec_bdbb_96000040dfb6row13_col17\" class=\"data row13 col17\" ></td>\n",
       "                        <td id=\"T_028bb58c_88c3_11ec_bdbb_96000040dfb6row13_col18\" class=\"data row13 col18\" ></td>\n",
       "                        <td id=\"T_028bb58c_88c3_11ec_bdbb_96000040dfb6row13_col19\" class=\"data row13 col19\" ></td>\n",
       "            </tr>\n",
       "            <tr>\n",
       "                        <th id=\"T_028bb58c_88c3_11ec_bdbb_96000040dfb6level0_row14\" class=\"row_heading level0 row14\" >2017-12</th>\n",
       "                        <td id=\"T_028bb58c_88c3_11ec_bdbb_96000040dfb6row14_col0\" class=\"data row14 col0\" >100.00%</td>\n",
       "                        <td id=\"T_028bb58c_88c3_11ec_bdbb_96000040dfb6row14_col1\" class=\"data row14 col1\" >0.27%</td>\n",
       "                        <td id=\"T_028bb58c_88c3_11ec_bdbb_96000040dfb6row14_col2\" class=\"data row14 col2\" >0.27%</td>\n",
       "                        <td id=\"T_028bb58c_88c3_11ec_bdbb_96000040dfb6row14_col3\" class=\"data row14 col3\" >0.32%</td>\n",
       "                        <td id=\"T_028bb58c_88c3_11ec_bdbb_96000040dfb6row14_col4\" class=\"data row14 col4\" >0.25%</td>\n",
       "                        <td id=\"T_028bb58c_88c3_11ec_bdbb_96000040dfb6row14_col5\" class=\"data row14 col5\" >0.20%</td>\n",
       "                        <td id=\"T_028bb58c_88c3_11ec_bdbb_96000040dfb6row14_col6\" class=\"data row14 col6\" >0.16%</td>\n",
       "                        <td id=\"T_028bb58c_88c3_11ec_bdbb_96000040dfb6row14_col7\" class=\"data row14 col7\" >0.04%</td>\n",
       "                        <td id=\"T_028bb58c_88c3_11ec_bdbb_96000040dfb6row14_col8\" class=\"data row14 col8\" >0.21%</td>\n",
       "                        <td id=\"T_028bb58c_88c3_11ec_bdbb_96000040dfb6row14_col9\" class=\"data row14 col9\" ></td>\n",
       "                        <td id=\"T_028bb58c_88c3_11ec_bdbb_96000040dfb6row14_col10\" class=\"data row14 col10\" ></td>\n",
       "                        <td id=\"T_028bb58c_88c3_11ec_bdbb_96000040dfb6row14_col11\" class=\"data row14 col11\" ></td>\n",
       "                        <td id=\"T_028bb58c_88c3_11ec_bdbb_96000040dfb6row14_col12\" class=\"data row14 col12\" ></td>\n",
       "                        <td id=\"T_028bb58c_88c3_11ec_bdbb_96000040dfb6row14_col13\" class=\"data row14 col13\" ></td>\n",
       "                        <td id=\"T_028bb58c_88c3_11ec_bdbb_96000040dfb6row14_col14\" class=\"data row14 col14\" ></td>\n",
       "                        <td id=\"T_028bb58c_88c3_11ec_bdbb_96000040dfb6row14_col15\" class=\"data row14 col15\" ></td>\n",
       "                        <td id=\"T_028bb58c_88c3_11ec_bdbb_96000040dfb6row14_col16\" class=\"data row14 col16\" ></td>\n",
       "                        <td id=\"T_028bb58c_88c3_11ec_bdbb_96000040dfb6row14_col17\" class=\"data row14 col17\" ></td>\n",
       "                        <td id=\"T_028bb58c_88c3_11ec_bdbb_96000040dfb6row14_col18\" class=\"data row14 col18\" ></td>\n",
       "                        <td id=\"T_028bb58c_88c3_11ec_bdbb_96000040dfb6row14_col19\" class=\"data row14 col19\" ></td>\n",
       "            </tr>\n",
       "            <tr>\n",
       "                        <th id=\"T_028bb58c_88c3_11ec_bdbb_96000040dfb6level0_row15\" class=\"row_heading level0 row15\" >2018-01</th>\n",
       "                        <td id=\"T_028bb58c_88c3_11ec_bdbb_96000040dfb6row15_col0\" class=\"data row15 col0\" >100.00%</td>\n",
       "                        <td id=\"T_028bb58c_88c3_11ec_bdbb_96000040dfb6row15_col1\" class=\"data row15 col1\" >0.35%</td>\n",
       "                        <td id=\"T_028bb58c_88c3_11ec_bdbb_96000040dfb6row15_col2\" class=\"data row15 col2\" >0.39%</td>\n",
       "                        <td id=\"T_028bb58c_88c3_11ec_bdbb_96000040dfb6row15_col3\" class=\"data row15 col3\" >0.29%</td>\n",
       "                        <td id=\"T_028bb58c_88c3_11ec_bdbb_96000040dfb6row15_col4\" class=\"data row15 col4\" >0.32%</td>\n",
       "                        <td id=\"T_028bb58c_88c3_11ec_bdbb_96000040dfb6row15_col5\" class=\"data row15 col5\" >0.16%</td>\n",
       "                        <td id=\"T_028bb58c_88c3_11ec_bdbb_96000040dfb6row15_col6\" class=\"data row15 col6\" >0.17%</td>\n",
       "                        <td id=\"T_028bb58c_88c3_11ec_bdbb_96000040dfb6row15_col7\" class=\"data row15 col7\" >0.22%</td>\n",
       "                        <td id=\"T_028bb58c_88c3_11ec_bdbb_96000040dfb6row15_col8\" class=\"data row15 col8\" ></td>\n",
       "                        <td id=\"T_028bb58c_88c3_11ec_bdbb_96000040dfb6row15_col9\" class=\"data row15 col9\" ></td>\n",
       "                        <td id=\"T_028bb58c_88c3_11ec_bdbb_96000040dfb6row15_col10\" class=\"data row15 col10\" ></td>\n",
       "                        <td id=\"T_028bb58c_88c3_11ec_bdbb_96000040dfb6row15_col11\" class=\"data row15 col11\" ></td>\n",
       "                        <td id=\"T_028bb58c_88c3_11ec_bdbb_96000040dfb6row15_col12\" class=\"data row15 col12\" ></td>\n",
       "                        <td id=\"T_028bb58c_88c3_11ec_bdbb_96000040dfb6row15_col13\" class=\"data row15 col13\" ></td>\n",
       "                        <td id=\"T_028bb58c_88c3_11ec_bdbb_96000040dfb6row15_col14\" class=\"data row15 col14\" ></td>\n",
       "                        <td id=\"T_028bb58c_88c3_11ec_bdbb_96000040dfb6row15_col15\" class=\"data row15 col15\" ></td>\n",
       "                        <td id=\"T_028bb58c_88c3_11ec_bdbb_96000040dfb6row15_col16\" class=\"data row15 col16\" ></td>\n",
       "                        <td id=\"T_028bb58c_88c3_11ec_bdbb_96000040dfb6row15_col17\" class=\"data row15 col17\" ></td>\n",
       "                        <td id=\"T_028bb58c_88c3_11ec_bdbb_96000040dfb6row15_col18\" class=\"data row15 col18\" ></td>\n",
       "                        <td id=\"T_028bb58c_88c3_11ec_bdbb_96000040dfb6row15_col19\" class=\"data row15 col19\" ></td>\n",
       "            </tr>\n",
       "            <tr>\n",
       "                        <th id=\"T_028bb58c_88c3_11ec_bdbb_96000040dfb6level0_row16\" class=\"row_heading level0 row16\" >2018-02</th>\n",
       "                        <td id=\"T_028bb58c_88c3_11ec_bdbb_96000040dfb6row16_col0\" class=\"data row16 col0\" >100.00%</td>\n",
       "                        <td id=\"T_028bb58c_88c3_11ec_bdbb_96000040dfb6row16_col1\" class=\"data row16 col1\" >0.33%</td>\n",
       "                        <td id=\"T_028bb58c_88c3_11ec_bdbb_96000040dfb6row16_col2\" class=\"data row16 col2\" >0.39%</td>\n",
       "                        <td id=\"T_028bb58c_88c3_11ec_bdbb_96000040dfb6row16_col3\" class=\"data row16 col3\" >0.28%</td>\n",
       "                        <td id=\"T_028bb58c_88c3_11ec_bdbb_96000040dfb6row16_col4\" class=\"data row16 col4\" >0.27%</td>\n",
       "                        <td id=\"T_028bb58c_88c3_11ec_bdbb_96000040dfb6row16_col5\" class=\"data row16 col5\" >0.17%</td>\n",
       "                        <td id=\"T_028bb58c_88c3_11ec_bdbb_96000040dfb6row16_col6\" class=\"data row16 col6\" >0.22%</td>\n",
       "                        <td id=\"T_028bb58c_88c3_11ec_bdbb_96000040dfb6row16_col7\" class=\"data row16 col7\" ></td>\n",
       "                        <td id=\"T_028bb58c_88c3_11ec_bdbb_96000040dfb6row16_col8\" class=\"data row16 col8\" ></td>\n",
       "                        <td id=\"T_028bb58c_88c3_11ec_bdbb_96000040dfb6row16_col9\" class=\"data row16 col9\" ></td>\n",
       "                        <td id=\"T_028bb58c_88c3_11ec_bdbb_96000040dfb6row16_col10\" class=\"data row16 col10\" ></td>\n",
       "                        <td id=\"T_028bb58c_88c3_11ec_bdbb_96000040dfb6row16_col11\" class=\"data row16 col11\" ></td>\n",
       "                        <td id=\"T_028bb58c_88c3_11ec_bdbb_96000040dfb6row16_col12\" class=\"data row16 col12\" ></td>\n",
       "                        <td id=\"T_028bb58c_88c3_11ec_bdbb_96000040dfb6row16_col13\" class=\"data row16 col13\" ></td>\n",
       "                        <td id=\"T_028bb58c_88c3_11ec_bdbb_96000040dfb6row16_col14\" class=\"data row16 col14\" ></td>\n",
       "                        <td id=\"T_028bb58c_88c3_11ec_bdbb_96000040dfb6row16_col15\" class=\"data row16 col15\" ></td>\n",
       "                        <td id=\"T_028bb58c_88c3_11ec_bdbb_96000040dfb6row16_col16\" class=\"data row16 col16\" ></td>\n",
       "                        <td id=\"T_028bb58c_88c3_11ec_bdbb_96000040dfb6row16_col17\" class=\"data row16 col17\" ></td>\n",
       "                        <td id=\"T_028bb58c_88c3_11ec_bdbb_96000040dfb6row16_col18\" class=\"data row16 col18\" ></td>\n",
       "                        <td id=\"T_028bb58c_88c3_11ec_bdbb_96000040dfb6row16_col19\" class=\"data row16 col19\" ></td>\n",
       "            </tr>\n",
       "            <tr>\n",
       "                        <th id=\"T_028bb58c_88c3_11ec_bdbb_96000040dfb6level0_row17\" class=\"row_heading level0 row17\" >2018-03</th>\n",
       "                        <td id=\"T_028bb58c_88c3_11ec_bdbb_96000040dfb6row17_col0\" class=\"data row17 col0\" >100.00%</td>\n",
       "                        <td id=\"T_028bb58c_88c3_11ec_bdbb_96000040dfb6row17_col1\" class=\"data row17 col1\" >0.41%</td>\n",
       "                        <td id=\"T_028bb58c_88c3_11ec_bdbb_96000040dfb6row17_col2\" class=\"data row17 col2\" >0.33%</td>\n",
       "                        <td id=\"T_028bb58c_88c3_11ec_bdbb_96000040dfb6row17_col3\" class=\"data row17 col3\" >0.28%</td>\n",
       "                        <td id=\"T_028bb58c_88c3_11ec_bdbb_96000040dfb6row17_col4\" class=\"data row17 col4\" >0.14%</td>\n",
       "                        <td id=\"T_028bb58c_88c3_11ec_bdbb_96000040dfb6row17_col5\" class=\"data row17 col5\" >0.13%</td>\n",
       "                        <td id=\"T_028bb58c_88c3_11ec_bdbb_96000040dfb6row17_col6\" class=\"data row17 col6\" ></td>\n",
       "                        <td id=\"T_028bb58c_88c3_11ec_bdbb_96000040dfb6row17_col7\" class=\"data row17 col7\" ></td>\n",
       "                        <td id=\"T_028bb58c_88c3_11ec_bdbb_96000040dfb6row17_col8\" class=\"data row17 col8\" ></td>\n",
       "                        <td id=\"T_028bb58c_88c3_11ec_bdbb_96000040dfb6row17_col9\" class=\"data row17 col9\" ></td>\n",
       "                        <td id=\"T_028bb58c_88c3_11ec_bdbb_96000040dfb6row17_col10\" class=\"data row17 col10\" ></td>\n",
       "                        <td id=\"T_028bb58c_88c3_11ec_bdbb_96000040dfb6row17_col11\" class=\"data row17 col11\" ></td>\n",
       "                        <td id=\"T_028bb58c_88c3_11ec_bdbb_96000040dfb6row17_col12\" class=\"data row17 col12\" ></td>\n",
       "                        <td id=\"T_028bb58c_88c3_11ec_bdbb_96000040dfb6row17_col13\" class=\"data row17 col13\" ></td>\n",
       "                        <td id=\"T_028bb58c_88c3_11ec_bdbb_96000040dfb6row17_col14\" class=\"data row17 col14\" ></td>\n",
       "                        <td id=\"T_028bb58c_88c3_11ec_bdbb_96000040dfb6row17_col15\" class=\"data row17 col15\" ></td>\n",
       "                        <td id=\"T_028bb58c_88c3_11ec_bdbb_96000040dfb6row17_col16\" class=\"data row17 col16\" ></td>\n",
       "                        <td id=\"T_028bb58c_88c3_11ec_bdbb_96000040dfb6row17_col17\" class=\"data row17 col17\" ></td>\n",
       "                        <td id=\"T_028bb58c_88c3_11ec_bdbb_96000040dfb6row17_col18\" class=\"data row17 col18\" ></td>\n",
       "                        <td id=\"T_028bb58c_88c3_11ec_bdbb_96000040dfb6row17_col19\" class=\"data row17 col19\" ></td>\n",
       "            </tr>\n",
       "            <tr>\n",
       "                        <th id=\"T_028bb58c_88c3_11ec_bdbb_96000040dfb6level0_row18\" class=\"row_heading level0 row18\" >2018-04</th>\n",
       "                        <td id=\"T_028bb58c_88c3_11ec_bdbb_96000040dfb6row18_col0\" class=\"data row18 col0\" >100.00%</td>\n",
       "                        <td id=\"T_028bb58c_88c3_11ec_bdbb_96000040dfb6row18_col1\" class=\"data row18 col1\" >0.60%</td>\n",
       "                        <td id=\"T_028bb58c_88c3_11ec_bdbb_96000040dfb6row18_col2\" class=\"data row18 col2\" >0.29%</td>\n",
       "                        <td id=\"T_028bb58c_88c3_11ec_bdbb_96000040dfb6row18_col3\" class=\"data row18 col3\" >0.24%</td>\n",
       "                        <td id=\"T_028bb58c_88c3_11ec_bdbb_96000040dfb6row18_col4\" class=\"data row18 col4\" >0.14%</td>\n",
       "                        <td id=\"T_028bb58c_88c3_11ec_bdbb_96000040dfb6row18_col5\" class=\"data row18 col5\" ></td>\n",
       "                        <td id=\"T_028bb58c_88c3_11ec_bdbb_96000040dfb6row18_col6\" class=\"data row18 col6\" ></td>\n",
       "                        <td id=\"T_028bb58c_88c3_11ec_bdbb_96000040dfb6row18_col7\" class=\"data row18 col7\" ></td>\n",
       "                        <td id=\"T_028bb58c_88c3_11ec_bdbb_96000040dfb6row18_col8\" class=\"data row18 col8\" ></td>\n",
       "                        <td id=\"T_028bb58c_88c3_11ec_bdbb_96000040dfb6row18_col9\" class=\"data row18 col9\" ></td>\n",
       "                        <td id=\"T_028bb58c_88c3_11ec_bdbb_96000040dfb6row18_col10\" class=\"data row18 col10\" ></td>\n",
       "                        <td id=\"T_028bb58c_88c3_11ec_bdbb_96000040dfb6row18_col11\" class=\"data row18 col11\" ></td>\n",
       "                        <td id=\"T_028bb58c_88c3_11ec_bdbb_96000040dfb6row18_col12\" class=\"data row18 col12\" ></td>\n",
       "                        <td id=\"T_028bb58c_88c3_11ec_bdbb_96000040dfb6row18_col13\" class=\"data row18 col13\" ></td>\n",
       "                        <td id=\"T_028bb58c_88c3_11ec_bdbb_96000040dfb6row18_col14\" class=\"data row18 col14\" ></td>\n",
       "                        <td id=\"T_028bb58c_88c3_11ec_bdbb_96000040dfb6row18_col15\" class=\"data row18 col15\" ></td>\n",
       "                        <td id=\"T_028bb58c_88c3_11ec_bdbb_96000040dfb6row18_col16\" class=\"data row18 col16\" ></td>\n",
       "                        <td id=\"T_028bb58c_88c3_11ec_bdbb_96000040dfb6row18_col17\" class=\"data row18 col17\" ></td>\n",
       "                        <td id=\"T_028bb58c_88c3_11ec_bdbb_96000040dfb6row18_col18\" class=\"data row18 col18\" ></td>\n",
       "                        <td id=\"T_028bb58c_88c3_11ec_bdbb_96000040dfb6row18_col19\" class=\"data row18 col19\" ></td>\n",
       "            </tr>\n",
       "            <tr>\n",
       "                        <th id=\"T_028bb58c_88c3_11ec_bdbb_96000040dfb6level0_row19\" class=\"row_heading level0 row19\" >2018-05</th>\n",
       "                        <td id=\"T_028bb58c_88c3_11ec_bdbb_96000040dfb6row19_col0\" class=\"data row19 col0\" >100.00%</td>\n",
       "                        <td id=\"T_028bb58c_88c3_11ec_bdbb_96000040dfb6row19_col1\" class=\"data row19 col1\" >0.55%</td>\n",
       "                        <td id=\"T_028bb58c_88c3_11ec_bdbb_96000040dfb6row19_col2\" class=\"data row19 col2\" >0.25%</td>\n",
       "                        <td id=\"T_028bb58c_88c3_11ec_bdbb_96000040dfb6row19_col3\" class=\"data row19 col3\" >0.21%</td>\n",
       "                        <td id=\"T_028bb58c_88c3_11ec_bdbb_96000040dfb6row19_col4\" class=\"data row19 col4\" ></td>\n",
       "                        <td id=\"T_028bb58c_88c3_11ec_bdbb_96000040dfb6row19_col5\" class=\"data row19 col5\" ></td>\n",
       "                        <td id=\"T_028bb58c_88c3_11ec_bdbb_96000040dfb6row19_col6\" class=\"data row19 col6\" ></td>\n",
       "                        <td id=\"T_028bb58c_88c3_11ec_bdbb_96000040dfb6row19_col7\" class=\"data row19 col7\" ></td>\n",
       "                        <td id=\"T_028bb58c_88c3_11ec_bdbb_96000040dfb6row19_col8\" class=\"data row19 col8\" ></td>\n",
       "                        <td id=\"T_028bb58c_88c3_11ec_bdbb_96000040dfb6row19_col9\" class=\"data row19 col9\" ></td>\n",
       "                        <td id=\"T_028bb58c_88c3_11ec_bdbb_96000040dfb6row19_col10\" class=\"data row19 col10\" ></td>\n",
       "                        <td id=\"T_028bb58c_88c3_11ec_bdbb_96000040dfb6row19_col11\" class=\"data row19 col11\" ></td>\n",
       "                        <td id=\"T_028bb58c_88c3_11ec_bdbb_96000040dfb6row19_col12\" class=\"data row19 col12\" ></td>\n",
       "                        <td id=\"T_028bb58c_88c3_11ec_bdbb_96000040dfb6row19_col13\" class=\"data row19 col13\" ></td>\n",
       "                        <td id=\"T_028bb58c_88c3_11ec_bdbb_96000040dfb6row19_col14\" class=\"data row19 col14\" ></td>\n",
       "                        <td id=\"T_028bb58c_88c3_11ec_bdbb_96000040dfb6row19_col15\" class=\"data row19 col15\" ></td>\n",
       "                        <td id=\"T_028bb58c_88c3_11ec_bdbb_96000040dfb6row19_col16\" class=\"data row19 col16\" ></td>\n",
       "                        <td id=\"T_028bb58c_88c3_11ec_bdbb_96000040dfb6row19_col17\" class=\"data row19 col17\" ></td>\n",
       "                        <td id=\"T_028bb58c_88c3_11ec_bdbb_96000040dfb6row19_col18\" class=\"data row19 col18\" ></td>\n",
       "                        <td id=\"T_028bb58c_88c3_11ec_bdbb_96000040dfb6row19_col19\" class=\"data row19 col19\" ></td>\n",
       "            </tr>\n",
       "            <tr>\n",
       "                        <th id=\"T_028bb58c_88c3_11ec_bdbb_96000040dfb6level0_row20\" class=\"row_heading level0 row20\" >2018-06</th>\n",
       "                        <td id=\"T_028bb58c_88c3_11ec_bdbb_96000040dfb6row20_col0\" class=\"data row20 col0\" >100.00%</td>\n",
       "                        <td id=\"T_028bb58c_88c3_11ec_bdbb_96000040dfb6row20_col1\" class=\"data row20 col1\" >0.39%</td>\n",
       "                        <td id=\"T_028bb58c_88c3_11ec_bdbb_96000040dfb6row20_col2\" class=\"data row20 col2\" >0.27%</td>\n",
       "                        <td id=\"T_028bb58c_88c3_11ec_bdbb_96000040dfb6row20_col3\" class=\"data row20 col3\" ></td>\n",
       "                        <td id=\"T_028bb58c_88c3_11ec_bdbb_96000040dfb6row20_col4\" class=\"data row20 col4\" ></td>\n",
       "                        <td id=\"T_028bb58c_88c3_11ec_bdbb_96000040dfb6row20_col5\" class=\"data row20 col5\" ></td>\n",
       "                        <td id=\"T_028bb58c_88c3_11ec_bdbb_96000040dfb6row20_col6\" class=\"data row20 col6\" ></td>\n",
       "                        <td id=\"T_028bb58c_88c3_11ec_bdbb_96000040dfb6row20_col7\" class=\"data row20 col7\" ></td>\n",
       "                        <td id=\"T_028bb58c_88c3_11ec_bdbb_96000040dfb6row20_col8\" class=\"data row20 col8\" ></td>\n",
       "                        <td id=\"T_028bb58c_88c3_11ec_bdbb_96000040dfb6row20_col9\" class=\"data row20 col9\" ></td>\n",
       "                        <td id=\"T_028bb58c_88c3_11ec_bdbb_96000040dfb6row20_col10\" class=\"data row20 col10\" ></td>\n",
       "                        <td id=\"T_028bb58c_88c3_11ec_bdbb_96000040dfb6row20_col11\" class=\"data row20 col11\" ></td>\n",
       "                        <td id=\"T_028bb58c_88c3_11ec_bdbb_96000040dfb6row20_col12\" class=\"data row20 col12\" ></td>\n",
       "                        <td id=\"T_028bb58c_88c3_11ec_bdbb_96000040dfb6row20_col13\" class=\"data row20 col13\" ></td>\n",
       "                        <td id=\"T_028bb58c_88c3_11ec_bdbb_96000040dfb6row20_col14\" class=\"data row20 col14\" ></td>\n",
       "                        <td id=\"T_028bb58c_88c3_11ec_bdbb_96000040dfb6row20_col15\" class=\"data row20 col15\" ></td>\n",
       "                        <td id=\"T_028bb58c_88c3_11ec_bdbb_96000040dfb6row20_col16\" class=\"data row20 col16\" ></td>\n",
       "                        <td id=\"T_028bb58c_88c3_11ec_bdbb_96000040dfb6row20_col17\" class=\"data row20 col17\" ></td>\n",
       "                        <td id=\"T_028bb58c_88c3_11ec_bdbb_96000040dfb6row20_col18\" class=\"data row20 col18\" ></td>\n",
       "                        <td id=\"T_028bb58c_88c3_11ec_bdbb_96000040dfb6row20_col19\" class=\"data row20 col19\" ></td>\n",
       "            </tr>\n",
       "            <tr>\n",
       "                        <th id=\"T_028bb58c_88c3_11ec_bdbb_96000040dfb6level0_row21\" class=\"row_heading level0 row21\" >2018-07</th>\n",
       "                        <td id=\"T_028bb58c_88c3_11ec_bdbb_96000040dfb6row21_col0\" class=\"data row21 col0\" >100.00%</td>\n",
       "                        <td id=\"T_028bb58c_88c3_11ec_bdbb_96000040dfb6row21_col1\" class=\"data row21 col1\" >0.51%</td>\n",
       "                        <td id=\"T_028bb58c_88c3_11ec_bdbb_96000040dfb6row21_col2\" class=\"data row21 col2\" ></td>\n",
       "                        <td id=\"T_028bb58c_88c3_11ec_bdbb_96000040dfb6row21_col3\" class=\"data row21 col3\" ></td>\n",
       "                        <td id=\"T_028bb58c_88c3_11ec_bdbb_96000040dfb6row21_col4\" class=\"data row21 col4\" ></td>\n",
       "                        <td id=\"T_028bb58c_88c3_11ec_bdbb_96000040dfb6row21_col5\" class=\"data row21 col5\" ></td>\n",
       "                        <td id=\"T_028bb58c_88c3_11ec_bdbb_96000040dfb6row21_col6\" class=\"data row21 col6\" ></td>\n",
       "                        <td id=\"T_028bb58c_88c3_11ec_bdbb_96000040dfb6row21_col7\" class=\"data row21 col7\" ></td>\n",
       "                        <td id=\"T_028bb58c_88c3_11ec_bdbb_96000040dfb6row21_col8\" class=\"data row21 col8\" ></td>\n",
       "                        <td id=\"T_028bb58c_88c3_11ec_bdbb_96000040dfb6row21_col9\" class=\"data row21 col9\" ></td>\n",
       "                        <td id=\"T_028bb58c_88c3_11ec_bdbb_96000040dfb6row21_col10\" class=\"data row21 col10\" ></td>\n",
       "                        <td id=\"T_028bb58c_88c3_11ec_bdbb_96000040dfb6row21_col11\" class=\"data row21 col11\" ></td>\n",
       "                        <td id=\"T_028bb58c_88c3_11ec_bdbb_96000040dfb6row21_col12\" class=\"data row21 col12\" ></td>\n",
       "                        <td id=\"T_028bb58c_88c3_11ec_bdbb_96000040dfb6row21_col13\" class=\"data row21 col13\" ></td>\n",
       "                        <td id=\"T_028bb58c_88c3_11ec_bdbb_96000040dfb6row21_col14\" class=\"data row21 col14\" ></td>\n",
       "                        <td id=\"T_028bb58c_88c3_11ec_bdbb_96000040dfb6row21_col15\" class=\"data row21 col15\" ></td>\n",
       "                        <td id=\"T_028bb58c_88c3_11ec_bdbb_96000040dfb6row21_col16\" class=\"data row21 col16\" ></td>\n",
       "                        <td id=\"T_028bb58c_88c3_11ec_bdbb_96000040dfb6row21_col17\" class=\"data row21 col17\" ></td>\n",
       "                        <td id=\"T_028bb58c_88c3_11ec_bdbb_96000040dfb6row21_col18\" class=\"data row21 col18\" ></td>\n",
       "                        <td id=\"T_028bb58c_88c3_11ec_bdbb_96000040dfb6row21_col19\" class=\"data row21 col19\" ></td>\n",
       "            </tr>\n",
       "            <tr>\n",
       "                        <th id=\"T_028bb58c_88c3_11ec_bdbb_96000040dfb6level0_row22\" class=\"row_heading level0 row22\" >2018-08</th>\n",
       "                        <td id=\"T_028bb58c_88c3_11ec_bdbb_96000040dfb6row22_col0\" class=\"data row22 col0\" >100.00%</td>\n",
       "                        <td id=\"T_028bb58c_88c3_11ec_bdbb_96000040dfb6row22_col1\" class=\"data row22 col1\" >0.02%</td>\n",
       "                        <td id=\"T_028bb58c_88c3_11ec_bdbb_96000040dfb6row22_col2\" class=\"data row22 col2\" ></td>\n",
       "                        <td id=\"T_028bb58c_88c3_11ec_bdbb_96000040dfb6row22_col3\" class=\"data row22 col3\" ></td>\n",
       "                        <td id=\"T_028bb58c_88c3_11ec_bdbb_96000040dfb6row22_col4\" class=\"data row22 col4\" ></td>\n",
       "                        <td id=\"T_028bb58c_88c3_11ec_bdbb_96000040dfb6row22_col5\" class=\"data row22 col5\" ></td>\n",
       "                        <td id=\"T_028bb58c_88c3_11ec_bdbb_96000040dfb6row22_col6\" class=\"data row22 col6\" ></td>\n",
       "                        <td id=\"T_028bb58c_88c3_11ec_bdbb_96000040dfb6row22_col7\" class=\"data row22 col7\" ></td>\n",
       "                        <td id=\"T_028bb58c_88c3_11ec_bdbb_96000040dfb6row22_col8\" class=\"data row22 col8\" ></td>\n",
       "                        <td id=\"T_028bb58c_88c3_11ec_bdbb_96000040dfb6row22_col9\" class=\"data row22 col9\" ></td>\n",
       "                        <td id=\"T_028bb58c_88c3_11ec_bdbb_96000040dfb6row22_col10\" class=\"data row22 col10\" ></td>\n",
       "                        <td id=\"T_028bb58c_88c3_11ec_bdbb_96000040dfb6row22_col11\" class=\"data row22 col11\" ></td>\n",
       "                        <td id=\"T_028bb58c_88c3_11ec_bdbb_96000040dfb6row22_col12\" class=\"data row22 col12\" ></td>\n",
       "                        <td id=\"T_028bb58c_88c3_11ec_bdbb_96000040dfb6row22_col13\" class=\"data row22 col13\" ></td>\n",
       "                        <td id=\"T_028bb58c_88c3_11ec_bdbb_96000040dfb6row22_col14\" class=\"data row22 col14\" ></td>\n",
       "                        <td id=\"T_028bb58c_88c3_11ec_bdbb_96000040dfb6row22_col15\" class=\"data row22 col15\" ></td>\n",
       "                        <td id=\"T_028bb58c_88c3_11ec_bdbb_96000040dfb6row22_col16\" class=\"data row22 col16\" ></td>\n",
       "                        <td id=\"T_028bb58c_88c3_11ec_bdbb_96000040dfb6row22_col17\" class=\"data row22 col17\" ></td>\n",
       "                        <td id=\"T_028bb58c_88c3_11ec_bdbb_96000040dfb6row22_col18\" class=\"data row22 col18\" ></td>\n",
       "                        <td id=\"T_028bb58c_88c3_11ec_bdbb_96000040dfb6row22_col19\" class=\"data row22 col19\" ></td>\n",
       "            </tr>\n",
       "    </tbody></table>"
      ],
      "text/plain": [
       "<pandas.io.formats.style.Styler at 0x7fc05b311f28>"
      ]
     },
     "execution_count": 46,
     "metadata": {},
     "output_type": "execute_result"
    }
   ],
   "source": [
    "cohort_analysis(sales_df)"
   ]
  },
  {
   "cell_type": "markdown",
   "metadata": {},
   "source": [
    "### Вернемся к исходному условию задачи:\n",
    "**\"В период с января по декабрь выяви когорту с самым высоким retention на 3-й месяц.\"**\n",
    "\n",
    "\n",
    "Так как в получившейся матрице период такой длины присутствует только в среди когорт 2017 года, то можно интерпретировать, что требование о выявлении когорты с самым высоким retentoin на 3 месяц относится как раз к 2017 году.\n",
    "\n",
    "\n",
    "Проведя когортный анализ, можно заключить, что когорта с самым выским retention в период с января по декабрь 2017 года - когорта пользователей, совершивших первую покупку в июне 2017 (**2017-06**), ее retention на 3 месяц составляет **0,41%**."
   ]
  },
  {
   "cell_type": "markdown",
   "metadata": {},
   "source": [
    "# Задача 6\n",
    "Построй RFM-кластеры для пользователей. Выведи для каждого кластера средние значения метрик R, F, M (и опиши подробно, как были построены метрики R, F, M)."
   ]
  },
  {
   "cell_type": "code",
   "execution_count": 47,
   "metadata": {},
   "outputs": [],
   "source": [
    "# Объединение всех трех таблиц в 1\n",
    "recency_df = orders.merge(customers, how='left', on='customer_id')\n",
    "rfm_df = recency_df.merge(items, how='left', on='order_id')"
   ]
  },
  {
   "cell_type": "code",
   "execution_count": 48,
   "metadata": {},
   "outputs": [
    {
     "name": "stdout",
     "output_type": "stream",
     "text": [
      "<class 'pandas.core.frame.DataFrame'>\n",
      "Int64Index: 113425 entries, 0 to 113424\n",
      "Data columns (total 18 columns):\n",
      " #   Column                         Non-Null Count   Dtype         \n",
      "---  ------                         --------------   -----         \n",
      " 0   order_id                       113425 non-null  object        \n",
      " 1   customer_id                    113425 non-null  object        \n",
      " 2   order_status                   113425 non-null  object        \n",
      " 3   order_purchase_timestamp       113425 non-null  datetime64[ns]\n",
      " 4   order_approved_at              113264 non-null  datetime64[ns]\n",
      " 5   order_delivered_carrier_date   111457 non-null  datetime64[ns]\n",
      " 6   order_delivered_customer_date  110196 non-null  datetime64[ns]\n",
      " 7   order_estimated_delivery_date  113425 non-null  datetime64[ns]\n",
      " 8   customer_unique_id             113425 non-null  object        \n",
      " 9   customer_zip_code_prefix       113425 non-null  int64         \n",
      " 10  customer_city                  113425 non-null  object        \n",
      " 11  customer_state                 113425 non-null  object        \n",
      " 12  order_item_id                  112650 non-null  float64       \n",
      " 13  product_id                     112650 non-null  object        \n",
      " 14  seller_id                      112650 non-null  object        \n",
      " 15  shipping_limit_date            112650 non-null  datetime64[ns]\n",
      " 16  price                          112650 non-null  float64       \n",
      " 17  freight_value                  112650 non-null  float64       \n",
      "dtypes: datetime64[ns](6), float64(3), int64(1), object(8)\n",
      "memory usage: 16.4+ MB\n"
     ]
    }
   ],
   "source": [
    "rfm_df.info()"
   ]
  },
  {
   "cell_type": "markdown",
   "metadata": {},
   "source": [
    "Отфильтруем полученные данные, оставив только покупки за последний год наблюдений (покупки от августа 2017). Мы берем последний год наблюдений, потому что чем больший промежуток будет взят для анализа, тем меньше будет прикладная ценность анализа, так как наш интернет-магазин - динамичный продукт, который постоянно меняется, в связи с чем, совсем старые данные могут искажать полученные результаты, что грозит их некорректной интерпретацией.\n",
    "\n",
    "\n",
    "За \"покупку\" будем считать заказы с любым статусом заказа (**order_status**), кроме **created** и **canceled**, и заказы, которые имеют время подтверждения оплаты заказа (**approved_month**)."
   ]
  },
  {
   "cell_type": "code",
   "execution_count": 49,
   "metadata": {},
   "outputs": [],
   "source": [
    "filtered_rfm_df = rfm_df \\\n",
    "    .query(\"order_status != 'created' & \\\n",
    "            order_status != 'canceled' & \\\n",
    "            order_approved_at >= '2017-08-01' & \\\n",
    "            order_approved_at != 'NaN'\") \\\n",
    "    .fillna(0) \\"
   ]
  },
  {
   "cell_type": "code",
   "execution_count": 50,
   "metadata": {},
   "outputs": [
    {
     "data": {
      "text/plain": [
       "(91559, 18)"
      ]
     },
     "execution_count": 50,
     "metadata": {},
     "output_type": "execute_result"
    }
   ],
   "source": [
    "filtered_rfm_df.shape"
   ]
  },
  {
   "cell_type": "code",
   "execution_count": 51,
   "metadata": {},
   "outputs": [],
   "source": [
    "# Отберем в рабочую таблицу только интересующие нас колонки\n",
    "rfm_df_base = filtered_rfm_df[['order_id', 'customer_unique_id', 'order_approved_at', 'price']]"
   ]
  },
  {
   "cell_type": "markdown",
   "metadata": {},
   "source": [
    "**Для проведения RFM-анализа необходимо перегруппировать данные:**\n",
    "\n",
    "1. Сгрупприруем данные по покупателям (**customer_unique_id**);\n",
    "\n",
    "\n",
    "2. Рассчитаем для каждого общую сумму покупок по всем заказам (**order_value**);\n",
    "\n",
    "\n",
    "3. Рассчитаем для каждого количество заказов (**order_numbers**);\n",
    "\n",
    "\n",
    "4. В отдельную колонку запишем дату последней покупки (**last_order_date**)."
   ]
  },
  {
   "cell_type": "code",
   "execution_count": 52,
   "metadata": {},
   "outputs": [],
   "source": [
    "rfm_value = rfm_df_base \\\n",
    "    .groupby('customer_unique_id', as_index=False) \\\n",
    "    .agg({'price': 'sum',                 \n",
    "          'order_id': 'count',            \n",
    "          'order_approved_at': 'max'}) \\\n",
    "    .rename(columns={'price'   : 'order_value',                # сумма покупок\n",
    "                     'order_id': 'order_numbers',              # количество заказов\n",
    "                     'order_approved_at': 'last_order_date'})  # дата последней покупки"
   ]
  },
  {
   "cell_type": "markdown",
   "metadata": {},
   "source": [
    "### Расчет количества дней с даты последней покупки"
   ]
  },
  {
   "cell_type": "code",
   "execution_count": 53,
   "metadata": {},
   "outputs": [],
   "source": [
    "# \"Вернемся\" в 2018 год, так как у нас нет \"сегодняшних\" данных и прибавим дельту в 1 день к максимальной дате в таблице\n",
    "last_date = (max(rfm_df_base['order_approved_at']) + timedelta(days=1))\n",
    "\n",
    "# Вычтем из последней даты в данных дату последней покупки каждого пользователя\n",
    "rfm_value['days_since_last_order'] = rfm_value.last_order_date.apply(lambda x: last_date - x)\n",
    "\n",
    "# Преобразуем полученные значения в \"дни\" и в целочисленный формат\n",
    "rfm_value['days_since_last_order'] = rfm_value.days_since_last_order.dt.days.astype('int')"
   ]
  },
  {
   "cell_type": "code",
   "execution_count": 54,
   "metadata": {},
   "outputs": [
    {
     "data": {
      "text/html": [
       "<div>\n",
       "<style scoped>\n",
       "    .dataframe tbody tr th:only-of-type {\n",
       "        vertical-align: middle;\n",
       "    }\n",
       "\n",
       "    .dataframe tbody tr th {\n",
       "        vertical-align: top;\n",
       "    }\n",
       "\n",
       "    .dataframe thead th {\n",
       "        text-align: right;\n",
       "    }\n",
       "</style>\n",
       "<table border=\"1\" class=\"dataframe\">\n",
       "  <thead>\n",
       "    <tr style=\"text-align: right;\">\n",
       "      <th></th>\n",
       "      <th>customer_unique_id</th>\n",
       "      <th>order_value</th>\n",
       "      <th>order_numbers</th>\n",
       "      <th>last_order_date</th>\n",
       "      <th>days_since_last_order</th>\n",
       "    </tr>\n",
       "  </thead>\n",
       "  <tbody>\n",
       "    <tr>\n",
       "      <th>0</th>\n",
       "      <td>0000366f3b9a7992bf8c76cfdf3221e2</td>\n",
       "      <td>129.90</td>\n",
       "      <td>1</td>\n",
       "      <td>2018-05-10 11:11:18</td>\n",
       "      <td>117</td>\n",
       "    </tr>\n",
       "    <tr>\n",
       "      <th>1</th>\n",
       "      <td>0000b849f77a49e4a4ce2b2a4ca5be3f</td>\n",
       "      <td>18.90</td>\n",
       "      <td>1</td>\n",
       "      <td>2018-05-07 18:25:44</td>\n",
       "      <td>119</td>\n",
       "    </tr>\n",
       "    <tr>\n",
       "      <th>2</th>\n",
       "      <td>0000f6ccb0745a6a4b88665a16c9f078</td>\n",
       "      <td>25.99</td>\n",
       "      <td>1</td>\n",
       "      <td>2017-10-12 20:49:17</td>\n",
       "      <td>326</td>\n",
       "    </tr>\n",
       "    <tr>\n",
       "      <th>3</th>\n",
       "      <td>0004aac84e0df4da2b147fca70cf8255</td>\n",
       "      <td>180.00</td>\n",
       "      <td>1</td>\n",
       "      <td>2017-11-14 20:06:52</td>\n",
       "      <td>293</td>\n",
       "    </tr>\n",
       "    <tr>\n",
       "      <th>4</th>\n",
       "      <td>0004bd2a26a76fe21f786e4fbd80607f</td>\n",
       "      <td>154.00</td>\n",
       "      <td>1</td>\n",
       "      <td>2018-04-05 19:48:59</td>\n",
       "      <td>151</td>\n",
       "    </tr>\n",
       "  </tbody>\n",
       "</table>\n",
       "</div>"
      ],
      "text/plain": [
       "                 customer_unique_id  order_value  order_numbers  \\\n",
       "0  0000366f3b9a7992bf8c76cfdf3221e2       129.90              1   \n",
       "1  0000b849f77a49e4a4ce2b2a4ca5be3f        18.90              1   \n",
       "2  0000f6ccb0745a6a4b88665a16c9f078        25.99              1   \n",
       "3  0004aac84e0df4da2b147fca70cf8255       180.00              1   \n",
       "4  0004bd2a26a76fe21f786e4fbd80607f       154.00              1   \n",
       "\n",
       "      last_order_date  days_since_last_order  \n",
       "0 2018-05-10 11:11:18                    117  \n",
       "1 2018-05-07 18:25:44                    119  \n",
       "2 2017-10-12 20:49:17                    326  \n",
       "3 2017-11-14 20:06:52                    293  \n",
       "4 2018-04-05 19:48:59                    151  "
      ]
     },
     "execution_count": 54,
     "metadata": {},
     "output_type": "execute_result"
    }
   ],
   "source": [
    "rfm_value.head()"
   ]
  },
  {
   "cell_type": "markdown",
   "metadata": {},
   "source": [
    "## Перейдем к построению метрик\n",
    "Идея RFM-анализа состоит в сегментировании пользователей по 3 метрикам:\n",
    "\n",
    "- Recency - давность заказа (**last_order_date**)\n",
    "- Frequency - частота покупок (**order_numbers**)\n",
    "- Monetary - общая сумма покупок (**order_value**)\n",
    "\n",
    "Каждая из метрик внутри себя имеет несколько значений, по которым и происходит сегментирование. В данном проекте каждая метрика будет иметь 3 уровня. Более подробное описание каждого из уровней внутри метрик представлено ниже. Уникальные сочетания значений трех метрик будут образовывать собой сегменты покупателей, с которыми в будущем можно более точечно работать, стараясь влиять на их покупательную активность и лояльность."
   ]
  },
  {
   "cell_type": "markdown",
   "metadata": {},
   "source": [
    "---"
   ]
  },
  {
   "cell_type": "markdown",
   "metadata": {},
   "source": [
    "## Recency"
   ]
  },
  {
   "cell_type": "code",
   "execution_count": 55,
   "metadata": {},
   "outputs": [
    {
     "data": {
      "text/plain": [
       "<seaborn.axisgrid.FacetGrid at 0x7fc05b337550>"
      ]
     },
     "execution_count": 55,
     "metadata": {},
     "output_type": "execute_result"
    },
    {
     "data": {
      "image/png": "[encoded data removed]",
      "text/plain": [
       "<Figure size 720x360 with 1 Axes>"
      ]
     },
     "metadata": {
      "needs_background": "light"
     },
     "output_type": "display_data"
    }
   ],
   "source": [
    "# Рассмотрим распределение recency\n",
    "sns.displot(data = rfm_value['days_since_last_order'], aspect=2, bins=100)"
   ]
  },
  {
   "cell_type": "markdown",
   "metadata": {},
   "source": [
    "Распределение не обладает явной ассиметрией на исследуемом промежутке времени. Схоже с равномерным распределением, имеющим редкие выбросы. Явные группы пользователей визуальным анализом выявить трудно, в связи с чем принимаю решение разделить метрику **Recency** на 3 группы по **33 и 66 квантилям распределения**:\n",
    "\n",
    "- **1** - больше 240 дней - давние клиенты.\n",
    "\n",
    "\n",
    "- **2** - в промежутке 127 и 240 дней - спящие.\n",
    "\n",
    "\n",
    "- **3** - меньше 127 дней - недавние."
   ]
  },
  {
   "cell_type": "code",
   "execution_count": 56,
   "metadata": {},
   "outputs": [],
   "source": [
    "# Значения метрики recency\n",
    "\n",
    "quantiles = rfm_value.days_since_last_order.quantile([.33, .66]).to_list()\n",
    "\n",
    "def recency_score(recency):\n",
    "    if recency <= quantiles[0]:\n",
    "        return 3\n",
    "    elif quantiles[0] <= recency <= quantiles[1]:\n",
    "        return 2\n",
    "    else:\n",
    "        return 1"
   ]
  },
  {
   "cell_type": "code",
   "execution_count": 57,
   "metadata": {},
   "outputs": [],
   "source": [
    "rfm_value['recency'] = rfm_value['days_since_last_order'].apply(recency_score)"
   ]
  },
  {
   "cell_type": "code",
   "execution_count": 58,
   "metadata": {},
   "outputs": [
    {
     "data": {
      "text/plain": [
       "<matplotlib.axes._subplots.AxesSubplot at 0x7fc04a4c4198>"
      ]
     },
     "execution_count": 58,
     "metadata": {},
     "output_type": "execute_result"
    },
    {
     "data": {
      "image/png": "[encoded data removed]",
      "text/plain": [
       "<Figure size 432x288 with 1 Axes>"
      ]
     },
     "metadata": {
      "needs_background": "light"
     },
     "output_type": "display_data"
    }
   ],
   "source": [
    "sns.countplot(x='recency', data=rfm_value)"
   ]
  },
  {
   "cell_type": "markdown",
   "metadata": {},
   "source": [
    "Как и было видно из исходного распределения, значения распределены довольно равномерно. Но набольшее колчиество пользователей находится в первой группе - давние клиенты, чья последняя покупка была более 240 дней назад."
   ]
  },
  {
   "cell_type": "markdown",
   "metadata": {},
   "source": [
    "---"
   ]
  },
  {
   "cell_type": "markdown",
   "metadata": {},
   "source": [
    "## Frequency"
   ]
  },
  {
   "cell_type": "code",
   "execution_count": 59,
   "metadata": {},
   "outputs": [
    {
     "data": {
      "text/plain": [
       "<seaborn.axisgrid.FacetGrid at 0x7fc09c52e400>"
      ]
     },
     "execution_count": 59,
     "metadata": {},
     "output_type": "execute_result"
    },
    {
     "data": {
      "image/png": "[encoded data removed]",
      "text/plain": [
       "<Figure size 720x360 with 1 Axes>"
      ]
     },
     "metadata": {
      "needs_background": "light"
     },
     "output_type": "display_data"
    }
   ],
   "source": [
    "# Рассмотрим распределение frequency\n",
    "sns.displot(data = rfm_value['order_numbers'], aspect=2, bins=100)"
   ]
  },
  {
   "cell_type": "markdown",
   "metadata": {},
   "source": [
    "Из распределения видно, что основная часть значений находится в диапазоне от 0 до 5 заказов, а также имеется очень \"длинный хвост\" из единичных незаметных выбросов. Посмотрим на данные ближе:"
   ]
  },
  {
   "cell_type": "code",
   "execution_count": 60,
   "metadata": {},
   "outputs": [
    {
     "data": {
      "text/plain": [
       "<seaborn.axisgrid.FacetGrid at 0x7fc09c3b9748>"
      ]
     },
     "execution_count": 60,
     "metadata": {},
     "output_type": "execute_result"
    },
    {
     "data": {
      "image/png": "[encoded data removed]",
      "text/plain": [
       "<Figure size 720x360 with 1 Axes>"
      ]
     },
     "metadata": {
      "needs_background": "light"
     },
     "output_type": "display_data"
    }
   ],
   "source": [
    "sns.displot(data = rfm_value[rfm_value['order_numbers'] < 5]['order_numbers'], aspect=2)"
   ]
  },
  {
   "cell_type": "markdown",
   "metadata": {},
   "source": [
    "Из приближенного распределения видно, что основная масса пользователей совершила 1 заказ. Следующая заметная группа совершила 2 заказа, а все значения от 3 заказов и выше похожи друг на друга и одинаково редки. В связи с данным наблюдением, метрика **Frequency** делится на 3 уровня следующим образом:\n",
    "\n",
    "- **1** - 1 заказ - покупает редко\n",
    "\n",
    "\n",
    "- **2** - 2 заказа - покупает нечасто\n",
    "\n",
    "\n",
    "- **3** - 3 и больше заказов - покупает часто"
   ]
  },
  {
   "cell_type": "code",
   "execution_count": 61,
   "metadata": {},
   "outputs": [],
   "source": [
    "# Значения метрики frequency\n",
    "def frequency_score(frequency):\n",
    "    if frequency >= 3:\n",
    "        return 3\n",
    "    elif frequency == 2:\n",
    "        return 2\n",
    "    else:\n",
    "        return 1"
   ]
  },
  {
   "cell_type": "code",
   "execution_count": 62,
   "metadata": {},
   "outputs": [],
   "source": [
    "rfm_value['frequency'] = rfm_value['order_numbers'].apply(frequency_score)"
   ]
  },
  {
   "cell_type": "code",
   "execution_count": 63,
   "metadata": {},
   "outputs": [
    {
     "data": {
      "text/plain": [
       "<matplotlib.axes._subplots.AxesSubplot at 0x7fc09c338ac8>"
      ]
     },
     "execution_count": 63,
     "metadata": {},
     "output_type": "execute_result"
    },
    {
     "data": {
      "image/png": "[encoded data removed]",
      "text/plain": [
       "<Figure size 432x288 with 1 Axes>"
      ]
     },
     "metadata": {
      "needs_background": "light"
     },
     "output_type": "display_data"
    }
   ],
   "source": [
    "sns.countplot(x='frequency', data=rfm_value)"
   ]
  },
  {
   "cell_type": "markdown",
   "metadata": {},
   "source": [
    "Преобладающая часть покупателей совершила в нашем магазине 1 заказ."
   ]
  },
  {
   "cell_type": "markdown",
   "metadata": {},
   "source": [
    "---"
   ]
  },
  {
   "cell_type": "markdown",
   "metadata": {},
   "source": [
    "## Monetary"
   ]
  },
  {
   "cell_type": "code",
   "execution_count": 64,
   "metadata": {},
   "outputs": [
    {
     "data": {
      "text/plain": [
       "<seaborn.axisgrid.FacetGrid at 0x7fc09c3002b0>"
      ]
     },
     "execution_count": 64,
     "metadata": {},
     "output_type": "execute_result"
    },
    {
     "data": {
      "image/png": "[encoded data removed]",
      "text/plain": [
       "<Figure size 720x360 with 1 Axes>"
      ]
     },
     "metadata": {
      "needs_background": "light"
     },
     "output_type": "display_data"
    }
   ],
   "source": [
    "# Рассмотрим распределение общих сумм покупок в подготовленной к анализу таблице\n",
    "sns.displot(data = rfm_value['order_value'], aspect=2, bins=100)"
   ]
  },
  {
   "cell_type": "markdown",
   "metadata": {},
   "source": [
    "Видно, что основная часть значений находится в диапазоне от 0 до 1000 долларов, а также имеется очень \"длинный хвост\" из единичных незаметных выбросов. Посмотрим на данные ближе:"
   ]
  },
  {
   "cell_type": "code",
   "execution_count": 65,
   "metadata": {
    "scrolled": false
   },
   "outputs": [
    {
     "data": {
      "text/plain": [
       "<seaborn.axisgrid.FacetGrid at 0x7fc09c163f28>"
      ]
     },
     "execution_count": 65,
     "metadata": {},
     "output_type": "execute_result"
    },
    {
     "data": {
      "image/png": "[encoded data removed]",
      "text/plain": [
       "<Figure size 720x360 with 1 Axes>"
      ]
     },
     "metadata": {
      "needs_background": "light"
     },
     "output_type": "display_data"
    }
   ],
   "source": [
    "sns.displot(data = rfm_value[rfm_value['order_value'] < 1000]['order_value'], aspect=2, bins=100)"
   ]
  },
  {
   "cell_type": "markdown",
   "metadata": {},
   "source": [
    "Из приближенного распределения видно, что основная масса пользователей совершили покупки до 200 долларов. Следующая заметная группа находится в диапазоне 200-400 долларов, а все значения выше 400 долларов похожи друг на друга и одинаково редки. В связи с данным наблюдением, метрика **Monetary** делится на 3 уровня следующим образом:\n",
    "\n",
    "- **1** - 0-200 - маленькая сумма покупок\n",
    "\n",
    "\n",
    "- **2** - 200-400 - средняя сумма покупок\n",
    "\n",
    "\n",
    "- **3** - больше 400 - большая сумма покупок"
   ]
  },
  {
   "cell_type": "code",
   "execution_count": 66,
   "metadata": {},
   "outputs": [],
   "source": [
    "# Значения метрики monetary\n",
    "def monetary_score(monetary):\n",
    "    if monetary > 400:\n",
    "        return 3\n",
    "    elif 200 < monetary <= 400:\n",
    "        return 2\n",
    "    else:\n",
    "        return 1"
   ]
  },
  {
   "cell_type": "code",
   "execution_count": 67,
   "metadata": {},
   "outputs": [],
   "source": [
    "rfm_value['monetary'] = rfm_value['order_value'].apply(monetary_score)"
   ]
  },
  {
   "cell_type": "code",
   "execution_count": 68,
   "metadata": {},
   "outputs": [
    {
     "data": {
      "text/plain": [
       "<matplotlib.axes._subplots.AxesSubplot at 0x7fc07974aa20>"
      ]
     },
     "execution_count": 68,
     "metadata": {},
     "output_type": "execute_result"
    },
    {
     "data": {
      "image/png": "[encoded data removed]",
      "text/plain": [
       "<Figure size 432x288 with 1 Axes>"
      ]
     },
     "metadata": {
      "needs_background": "light"
     },
     "output_type": "display_data"
    }
   ],
   "source": [
    "sns.countplot(x='monetary', data=rfm_value)"
   ]
  },
  {
   "cell_type": "markdown",
   "metadata": {},
   "source": [
    "Преобладающая часть покупателей совершила покупки на сумму до 200 долларов."
   ]
  },
  {
   "cell_type": "markdown",
   "metadata": {},
   "source": [
    "---"
   ]
  },
  {
   "cell_type": "markdown",
   "metadata": {},
   "source": [
    "## Перейдем к формированию сегментов"
   ]
  },
  {
   "cell_type": "code",
   "execution_count": 69,
   "metadata": {},
   "outputs": [
    {
     "data": {
      "text/html": [
       "<div>\n",
       "<style scoped>\n",
       "    .dataframe tbody tr th:only-of-type {\n",
       "        vertical-align: middle;\n",
       "    }\n",
       "\n",
       "    .dataframe tbody tr th {\n",
       "        vertical-align: top;\n",
       "    }\n",
       "\n",
       "    .dataframe thead th {\n",
       "        text-align: right;\n",
       "    }\n",
       "</style>\n",
       "<table border=\"1\" class=\"dataframe\">\n",
       "  <thead>\n",
       "    <tr style=\"text-align: right;\">\n",
       "      <th></th>\n",
       "      <th>customer_unique_id</th>\n",
       "      <th>order_value</th>\n",
       "      <th>order_numbers</th>\n",
       "      <th>last_order_date</th>\n",
       "      <th>days_since_last_order</th>\n",
       "      <th>recency</th>\n",
       "      <th>frequency</th>\n",
       "      <th>monetary</th>\n",
       "    </tr>\n",
       "  </thead>\n",
       "  <tbody>\n",
       "    <tr>\n",
       "      <th>0</th>\n",
       "      <td>0000366f3b9a7992bf8c76cfdf3221e2</td>\n",
       "      <td>129.90</td>\n",
       "      <td>1</td>\n",
       "      <td>2018-05-10 11:11:18</td>\n",
       "      <td>117</td>\n",
       "      <td>3</td>\n",
       "      <td>1</td>\n",
       "      <td>1</td>\n",
       "    </tr>\n",
       "    <tr>\n",
       "      <th>1</th>\n",
       "      <td>0000b849f77a49e4a4ce2b2a4ca5be3f</td>\n",
       "      <td>18.90</td>\n",
       "      <td>1</td>\n",
       "      <td>2018-05-07 18:25:44</td>\n",
       "      <td>119</td>\n",
       "      <td>3</td>\n",
       "      <td>1</td>\n",
       "      <td>1</td>\n",
       "    </tr>\n",
       "    <tr>\n",
       "      <th>2</th>\n",
       "      <td>0000f6ccb0745a6a4b88665a16c9f078</td>\n",
       "      <td>25.99</td>\n",
       "      <td>1</td>\n",
       "      <td>2017-10-12 20:49:17</td>\n",
       "      <td>326</td>\n",
       "      <td>1</td>\n",
       "      <td>1</td>\n",
       "      <td>1</td>\n",
       "    </tr>\n",
       "    <tr>\n",
       "      <th>3</th>\n",
       "      <td>0004aac84e0df4da2b147fca70cf8255</td>\n",
       "      <td>180.00</td>\n",
       "      <td>1</td>\n",
       "      <td>2017-11-14 20:06:52</td>\n",
       "      <td>293</td>\n",
       "      <td>1</td>\n",
       "      <td>1</td>\n",
       "      <td>1</td>\n",
       "    </tr>\n",
       "    <tr>\n",
       "      <th>4</th>\n",
       "      <td>0004bd2a26a76fe21f786e4fbd80607f</td>\n",
       "      <td>154.00</td>\n",
       "      <td>1</td>\n",
       "      <td>2018-04-05 19:48:59</td>\n",
       "      <td>151</td>\n",
       "      <td>2</td>\n",
       "      <td>1</td>\n",
       "      <td>1</td>\n",
       "    </tr>\n",
       "  </tbody>\n",
       "</table>\n",
       "</div>"
      ],
      "text/plain": [
       "                 customer_unique_id  order_value  order_numbers  \\\n",
       "0  0000366f3b9a7992bf8c76cfdf3221e2       129.90              1   \n",
       "1  0000b849f77a49e4a4ce2b2a4ca5be3f        18.90              1   \n",
       "2  0000f6ccb0745a6a4b88665a16c9f078        25.99              1   \n",
       "3  0004aac84e0df4da2b147fca70cf8255       180.00              1   \n",
       "4  0004bd2a26a76fe21f786e4fbd80607f       154.00              1   \n",
       "\n",
       "      last_order_date  days_since_last_order  recency  frequency  monetary  \n",
       "0 2018-05-10 11:11:18                    117        3          1         1  \n",
       "1 2018-05-07 18:25:44                    119        3          1         1  \n",
       "2 2017-10-12 20:49:17                    326        1          1         1  \n",
       "3 2017-11-14 20:06:52                    293        1          1         1  \n",
       "4 2018-04-05 19:48:59                    151        2          1         1  "
      ]
     },
     "execution_count": 69,
     "metadata": {},
     "output_type": "execute_result"
    }
   ],
   "source": [
    "# Итоговая таблица с метриками у каждого пользователя\n",
    "rfm_value.head()"
   ]
  },
  {
   "cell_type": "markdown",
   "metadata": {},
   "source": [
    "Для организации сегментов пользователей, необходимо \"склеить\" значения метрик **recency, frequency, monetary** в одну строку"
   ]
  },
  {
   "cell_type": "code",
   "execution_count": 70,
   "metadata": {},
   "outputs": [],
   "source": [
    "# Создаем колонку с сегментами для каждого пользователя\n",
    "rfm_value['RFM_segment'] = rfm_value.apply(lambda x: str(x['recency'])+str(x['frequency'])+str(x['monetary']), axis=1)"
   ]
  },
  {
   "cell_type": "markdown",
   "metadata": {},
   "source": [
    "Так как исходное задание требовало вывести среднее значение метрик для каждого сегмента, проведем группировку данных по полученным кластерам и для каждой метрики рассчитаем среднее значение в сегменте."
   ]
  },
  {
   "cell_type": "code",
   "execution_count": 71,
   "metadata": {},
   "outputs": [],
   "source": [
    "RFM_segments = rfm_value \\\n",
    "    .groupby('RFM_segment', as_index=False) \\\n",
    "    .agg({'days_since_last_order': 'mean', \n",
    "          'order_numbers'        : 'mean', \n",
    "          'order_value'          : 'mean'}) \\\n",
    "    .rename(columns={'days_since_last_order': 'R_mean', \n",
    "                     'order_numbers'        : 'F_mean', \n",
    "                     'order_value'          : 'M_mean'})"
   ]
  },
  {
   "cell_type": "code",
   "execution_count": 72,
   "metadata": {},
   "outputs": [
    {
     "data": {
      "text/html": [
       "<div>\n",
       "<style scoped>\n",
       "    .dataframe tbody tr th:only-of-type {\n",
       "        vertical-align: middle;\n",
       "    }\n",
       "\n",
       "    .dataframe tbody tr th {\n",
       "        vertical-align: top;\n",
       "    }\n",
       "\n",
       "    .dataframe thead th {\n",
       "        text-align: right;\n",
       "    }\n",
       "</style>\n",
       "<table border=\"1\" class=\"dataframe\">\n",
       "  <thead>\n",
       "    <tr style=\"text-align: right;\">\n",
       "      <th></th>\n",
       "      <th>RFM_segment</th>\n",
       "      <th>R_mean</th>\n",
       "      <th>F_mean</th>\n",
       "      <th>M_mean</th>\n",
       "    </tr>\n",
       "  </thead>\n",
       "  <tbody>\n",
       "    <tr>\n",
       "      <th>0</th>\n",
       "      <td>111</td>\n",
       "      <td>312.059463</td>\n",
       "      <td>1.000000</td>\n",
       "      <td>78.690199</td>\n",
       "    </tr>\n",
       "    <tr>\n",
       "      <th>1</th>\n",
       "      <td>112</td>\n",
       "      <td>311.064015</td>\n",
       "      <td>1.000000</td>\n",
       "      <td>281.703512</td>\n",
       "    </tr>\n",
       "    <tr>\n",
       "      <th>2</th>\n",
       "      <td>113</td>\n",
       "      <td>316.464886</td>\n",
       "      <td>1.000000</td>\n",
       "      <td>799.279456</td>\n",
       "    </tr>\n",
       "    <tr>\n",
       "      <th>3</th>\n",
       "      <td>121</td>\n",
       "      <td>312.128339</td>\n",
       "      <td>2.000000</td>\n",
       "      <td>103.141156</td>\n",
       "    </tr>\n",
       "    <tr>\n",
       "      <th>4</th>\n",
       "      <td>122</td>\n",
       "      <td>307.487059</td>\n",
       "      <td>2.000000</td>\n",
       "      <td>286.319318</td>\n",
       "    </tr>\n",
       "    <tr>\n",
       "      <th>5</th>\n",
       "      <td>123</td>\n",
       "      <td>312.701754</td>\n",
       "      <td>2.000000</td>\n",
       "      <td>774.087953</td>\n",
       "    </tr>\n",
       "    <tr>\n",
       "      <th>6</th>\n",
       "      <td>131</td>\n",
       "      <td>312.959620</td>\n",
       "      <td>3.453682</td>\n",
       "      <td>120.691781</td>\n",
       "    </tr>\n",
       "    <tr>\n",
       "      <th>7</th>\n",
       "      <td>132</td>\n",
       "      <td>309.509615</td>\n",
       "      <td>3.677885</td>\n",
       "      <td>284.790385</td>\n",
       "    </tr>\n",
       "    <tr>\n",
       "      <th>8</th>\n",
       "      <td>133</td>\n",
       "      <td>319.302013</td>\n",
       "      <td>4.671141</td>\n",
       "      <td>898.097584</td>\n",
       "    </tr>\n",
       "    <tr>\n",
       "      <th>9</th>\n",
       "      <td>211</td>\n",
       "      <td>184.644918</td>\n",
       "      <td>1.000000</td>\n",
       "      <td>79.714927</td>\n",
       "    </tr>\n",
       "    <tr>\n",
       "      <th>10</th>\n",
       "      <td>212</td>\n",
       "      <td>183.251642</td>\n",
       "      <td>1.000000</td>\n",
       "      <td>280.323416</td>\n",
       "    </tr>\n",
       "    <tr>\n",
       "      <th>11</th>\n",
       "      <td>213</td>\n",
       "      <td>180.936571</td>\n",
       "      <td>1.000000</td>\n",
       "      <td>783.711179</td>\n",
       "    </tr>\n",
       "    <tr>\n",
       "      <th>12</th>\n",
       "      <td>221</td>\n",
       "      <td>184.509038</td>\n",
       "      <td>2.000000</td>\n",
       "      <td>105.577644</td>\n",
       "    </tr>\n",
       "    <tr>\n",
       "      <th>13</th>\n",
       "      <td>222</td>\n",
       "      <td>184.974757</td>\n",
       "      <td>2.000000</td>\n",
       "      <td>282.199262</td>\n",
       "    </tr>\n",
       "    <tr>\n",
       "      <th>14</th>\n",
       "      <td>223</td>\n",
       "      <td>188.048276</td>\n",
       "      <td>2.000000</td>\n",
       "      <td>709.612621</td>\n",
       "    </tr>\n",
       "    <tr>\n",
       "      <th>15</th>\n",
       "      <td>231</td>\n",
       "      <td>180.357746</td>\n",
       "      <td>3.552113</td>\n",
       "      <td>117.941070</td>\n",
       "    </tr>\n",
       "    <tr>\n",
       "      <th>16</th>\n",
       "      <td>232</td>\n",
       "      <td>184.744589</td>\n",
       "      <td>3.787879</td>\n",
       "      <td>286.099567</td>\n",
       "    </tr>\n",
       "    <tr>\n",
       "      <th>17</th>\n",
       "      <td>233</td>\n",
       "      <td>180.994186</td>\n",
       "      <td>5.023256</td>\n",
       "      <td>702.941628</td>\n",
       "    </tr>\n",
       "    <tr>\n",
       "      <th>18</th>\n",
       "      <td>311</td>\n",
       "      <td>66.654441</td>\n",
       "      <td>1.000000</td>\n",
       "      <td>80.602932</td>\n",
       "    </tr>\n",
       "    <tr>\n",
       "      <th>19</th>\n",
       "      <td>312</td>\n",
       "      <td>67.331590</td>\n",
       "      <td>1.000000</td>\n",
       "      <td>282.089069</td>\n",
       "    </tr>\n",
       "    <tr>\n",
       "      <th>20</th>\n",
       "      <td>313</td>\n",
       "      <td>68.322266</td>\n",
       "      <td>1.000000</td>\n",
       "      <td>840.453896</td>\n",
       "    </tr>\n",
       "    <tr>\n",
       "      <th>21</th>\n",
       "      <td>321</td>\n",
       "      <td>68.916867</td>\n",
       "      <td>2.000000</td>\n",
       "      <td>102.844747</td>\n",
       "    </tr>\n",
       "    <tr>\n",
       "      <th>22</th>\n",
       "      <td>322</td>\n",
       "      <td>67.148746</td>\n",
       "      <td>2.000000</td>\n",
       "      <td>275.774731</td>\n",
       "    </tr>\n",
       "    <tr>\n",
       "      <th>23</th>\n",
       "      <td>323</td>\n",
       "      <td>75.686813</td>\n",
       "      <td>2.000000</td>\n",
       "      <td>759.819451</td>\n",
       "    </tr>\n",
       "    <tr>\n",
       "      <th>24</th>\n",
       "      <td>331</td>\n",
       "      <td>69.000000</td>\n",
       "      <td>3.554667</td>\n",
       "      <td>117.955493</td>\n",
       "    </tr>\n",
       "    <tr>\n",
       "      <th>25</th>\n",
       "      <td>332</td>\n",
       "      <td>68.695455</td>\n",
       "      <td>3.945455</td>\n",
       "      <td>281.485818</td>\n",
       "    </tr>\n",
       "    <tr>\n",
       "      <th>26</th>\n",
       "      <td>333</td>\n",
       "      <td>74.305085</td>\n",
       "      <td>4.632768</td>\n",
       "      <td>842.525706</td>\n",
       "    </tr>\n",
       "  </tbody>\n",
       "</table>\n",
       "</div>"
      ],
      "text/plain": [
       "   RFM_segment      R_mean    F_mean      M_mean\n",
       "0          111  312.059463  1.000000   78.690199\n",
       "1          112  311.064015  1.000000  281.703512\n",
       "2          113  316.464886  1.000000  799.279456\n",
       "3          121  312.128339  2.000000  103.141156\n",
       "4          122  307.487059  2.000000  286.319318\n",
       "5          123  312.701754  2.000000  774.087953\n",
       "6          131  312.959620  3.453682  120.691781\n",
       "7          132  309.509615  3.677885  284.790385\n",
       "8          133  319.302013  4.671141  898.097584\n",
       "9          211  184.644918  1.000000   79.714927\n",
       "10         212  183.251642  1.000000  280.323416\n",
       "11         213  180.936571  1.000000  783.711179\n",
       "12         221  184.509038  2.000000  105.577644\n",
       "13         222  184.974757  2.000000  282.199262\n",
       "14         223  188.048276  2.000000  709.612621\n",
       "15         231  180.357746  3.552113  117.941070\n",
       "16         232  184.744589  3.787879  286.099567\n",
       "17         233  180.994186  5.023256  702.941628\n",
       "18         311   66.654441  1.000000   80.602932\n",
       "19         312   67.331590  1.000000  282.089069\n",
       "20         313   68.322266  1.000000  840.453896\n",
       "21         321   68.916867  2.000000  102.844747\n",
       "22         322   67.148746  2.000000  275.774731\n",
       "23         323   75.686813  2.000000  759.819451\n",
       "24         331   69.000000  3.554667  117.955493\n",
       "25         332   68.695455  3.945455  281.485818\n",
       "26         333   74.305085  4.632768  842.525706"
      ]
     },
     "execution_count": 72,
     "metadata": {},
     "output_type": "execute_result"
    }
   ],
   "source": [
    "# Итоговая таблица со средними значениями метрик\n",
    "RFM_segments"
   ]
  }
 ],
 "metadata": {
  "kernelspec": {
   "display_name": "Python 3",
   "language": "python",
   "name": "python3"
  },
  "language_info": {
   "codemirror_mode": {
    "name": "ipython",
    "version": 3
   },
   "file_extension": ".py",
   "mimetype": "text/x-python",
   "name": "python",
   "nbconvert_exporter": "python",
   "pygments_lexer": "ipython3",
   "version": "3.7.3"
  }
 },
 "nbformat": 4,
 "nbformat_minor": 4
}
