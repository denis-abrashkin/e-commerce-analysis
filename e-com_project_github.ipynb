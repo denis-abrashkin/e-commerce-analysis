{
 "cells": [
  {
   "cell_type": "code",
   "execution_count": 1,
   "metadata": {},
   "outputs": [],
   "source": [
    "import pandas as pd\n",
    "import numpy as np\n",
    "from datetime import datetime, timedelta\n",
    "import seaborn as sns\n",
    "import matplotlib.pyplot as plt\n",
    "from operator import attrgetter\n",
    "%matplotlib inline"
   ]
  },
  {
   "cell_type": "code",
   "execution_count": 2,
   "metadata": {},
   "outputs": [],
   "source": [
    "# Загрузка исходных данных\n",
    "customers = pd.read_csv('https://getfile.dokpub.com/yandex/get/https://disk.yandex.ru/d/FUi5uSd6BfG_ig')\n",
    "orders    = pd.read_csv('https://getfile.dokpub.com/yandex/get/https://disk.yandex.ru/d/t9Li4JOfgxuUrg')\n",
    "items     = pd.read_csv('https://getfile.dokpub.com/yandex/get/https://disk.yandex.ru/d/Gbt-yAcQrOe3Pw')"
   ]
  },
  {
   "cell_type": "markdown",
   "metadata": {},
   "source": [
    "### Описание данных таблицы customers\n",
    "- customer_id — позаказный идентификатор пользователя (аналог номера паспорта)\n",
    "- customer_unique_id —  уникальный идентификатор пользователя\n",
    "- customer_zip_code_prefix —  почтовый индекс пользователя\n",
    "- customer_city —  город доставки пользователя\n",
    "- customer_state —  штат доставки пользователя"
   ]
  },
  {
   "cell_type": "code",
   "execution_count": 3,
   "metadata": {},
   "outputs": [
    {
     "name": "stdout",
     "output_type": "stream",
     "text": [
      "<class 'pandas.core.frame.DataFrame'>\n",
      "RangeIndex: 99441 entries, 0 to 99440\n",
      "Data columns (total 5 columns):\n",
      " #   Column                    Non-Null Count  Dtype \n",
      "---  ------                    --------------  ----- \n",
      " 0   customer_id               99441 non-null  object\n",
      " 1   customer_unique_id        99441 non-null  object\n",
      " 2   customer_zip_code_prefix  99441 non-null  int64 \n",
      " 3   customer_city             99441 non-null  object\n",
      " 4   customer_state            99441 non-null  object\n",
      "dtypes: int64(1), object(4)\n",
      "memory usage: 3.8+ MB\n"
     ]
    }
   ],
   "source": [
    "# Описание струкутры данных таблицы с с уникальными идентификаторами пользователей\n",
    "customers.info()"
   ]
  },
  {
   "cell_type": "markdown",
   "metadata": {},
   "source": [
    "Стоит отметить, что никаких явных проблем с данными нет, пропущенные значения отсутствуют, типы данных не требуют изменений"
   ]
  },
  {
   "cell_type": "markdown",
   "metadata": {},
   "source": [
    "### Описание данных таблицы orders\n",
    "- order_id —  уникальный идентификатор заказа (номер чека)\n",
    "- customer_id —  позаказный идентификатор пользователя (аналог номера паспорта)\n",
    "- order_status —  статус заказа\n",
    "- order_purchase_timestamp —  время создания заказа\n",
    "- order_approved_at —  время подтверждения оплаты заказа\n",
    "- order_delivered_carrier_date —  время передачи заказа в логистическую службу\n",
    "- order_delivered_customer_date —  время доставки заказа\n",
    "- order_estimated_delivery_date —  обещанная дата доставки"
   ]
  },
  {
   "cell_type": "code",
   "execution_count": 4,
   "metadata": {},
   "outputs": [
    {
     "name": "stdout",
     "output_type": "stream",
     "text": [
      "<class 'pandas.core.frame.DataFrame'>\n",
      "RangeIndex: 99441 entries, 0 to 99440\n",
      "Data columns (total 8 columns):\n",
      " #   Column                         Non-Null Count  Dtype \n",
      "---  ------                         --------------  ----- \n",
      " 0   order_id                       99441 non-null  object\n",
      " 1   customer_id                    99441 non-null  object\n",
      " 2   order_status                   99441 non-null  object\n",
      " 3   order_purchase_timestamp       99441 non-null  object\n",
      " 4   order_approved_at              99281 non-null  object\n",
      " 5   order_delivered_carrier_date   97658 non-null  object\n",
      " 6   order_delivered_customer_date  96476 non-null  object\n",
      " 7   order_estimated_delivery_date  99441 non-null  object\n",
      "dtypes: object(8)\n",
      "memory usage: 6.1+ MB\n"
     ]
    }
   ],
   "source": [
    "# Описание струкутры данных таблицы заказов\n",
    "orders.info()"
   ]
  },
  {
   "cell_type": "markdown",
   "metadata": {},
   "source": [
    "- В данной таблице заметны пропущенные значения в колонках с датами, которые могут быть связаны с особенностями работы магазина и формирования цепочки исполнения заказа.\n",
    "- Явно заметна проблема с типами данных, большинство колонок хранят в себе данные о времени, но представлены в строковом типе данных."
   ]
  },
  {
   "cell_type": "code",
   "execution_count": 5,
   "metadata": {},
   "outputs": [],
   "source": [
    "# Перевод необходимых колонок к временному типу данных\n",
    "orders['order_purchase_timestamp']      = pd.to_datetime(orders.order_purchase_timestamp)\n",
    "orders['order_approved_at']             = pd.to_datetime(orders.order_approved_at)\n",
    "orders['order_delivered_carrier_date']  = pd.to_datetime(orders.order_delivered_carrier_date)\n",
    "orders['order_delivered_customer_date'] = pd.to_datetime(orders.order_delivered_customer_date)\n",
    "orders['order_estimated_delivery_date'] = pd.to_datetime(orders.order_estimated_delivery_date)"
   ]
  },
  {
   "cell_type": "code",
   "execution_count": 6,
   "metadata": {},
   "outputs": [
    {
     "data": {
      "text/plain": [
       "order_id                                 object\n",
       "customer_id                              object\n",
       "order_status                             object\n",
       "order_purchase_timestamp         datetime64[ns]\n",
       "order_approved_at                datetime64[ns]\n",
       "order_delivered_carrier_date     datetime64[ns]\n",
       "order_delivered_customer_date    datetime64[ns]\n",
       "order_estimated_delivery_date    datetime64[ns]\n",
       "dtype: object"
      ]
     },
     "execution_count": 6,
     "metadata": {},
     "output_type": "execute_result"
    }
   ],
   "source": [
    "# Самопроверка\n",
    "orders.dtypes"
   ]
  },
  {
   "cell_type": "markdown",
   "metadata": {},
   "source": [
    "### Описание данных таблицы items\n",
    "- order_id —  уникальный идентификатор заказа (номер чека)\n",
    "- order_item_id —  идентификатор товара внутри одного заказа\n",
    "- product_id —  ид товара (аналог штрихкода)\n",
    "- seller_id — ид производителя товара\n",
    "- shipping_limit_date —  максимальная дата доставки продавцом для передачи заказа партнеру по логистике\n",
    "- price —  цена за единицу товара\n",
    "- freight_value —  вес товара"
   ]
  },
  {
   "cell_type": "code",
   "execution_count": 7,
   "metadata": {},
   "outputs": [
    {
     "name": "stdout",
     "output_type": "stream",
     "text": [
      "<class 'pandas.core.frame.DataFrame'>\n",
      "RangeIndex: 112650 entries, 0 to 112649\n",
      "Data columns (total 7 columns):\n",
      " #   Column               Non-Null Count   Dtype  \n",
      "---  ------               --------------   -----  \n",
      " 0   order_id             112650 non-null  object \n",
      " 1   order_item_id        112650 non-null  int64  \n",
      " 2   product_id           112650 non-null  object \n",
      " 3   seller_id            112650 non-null  object \n",
      " 4   shipping_limit_date  112650 non-null  object \n",
      " 5   price                112650 non-null  float64\n",
      " 6   freight_value        112650 non-null  float64\n",
      "dtypes: float64(2), int64(1), object(4)\n",
      "memory usage: 6.0+ MB\n"
     ]
    }
   ],
   "source": [
    "# Описание струкутры данных таблицы товарных позиций, входящих в заказы\n",
    "items.info()"
   ]
  },
  {
   "cell_type": "markdown",
   "metadata": {},
   "source": [
    "Стоит отметить, что никаких явных проблем с данными нет, пропущенные значения отсутствуют, только одна колонка требует изменение типа данных - shipping_limit_date, так как она отражает собой дату."
   ]
  },
  {
   "cell_type": "code",
   "execution_count": 8,
   "metadata": {},
   "outputs": [],
   "source": [
    "# Перевод необходимой колонки к временному типу данных\n",
    "items['shipping_limit_date'] = pd.to_datetime(items.shipping_limit_date)"
   ]
  },
  {
   "cell_type": "code",
   "execution_count": 9,
   "metadata": {},
   "outputs": [
    {
     "data": {
      "text/plain": [
       "order_id                       object\n",
       "order_item_id                   int64\n",
       "product_id                     object\n",
       "seller_id                      object\n",
       "shipping_limit_date    datetime64[ns]\n",
       "price                         float64\n",
       "freight_value                 float64\n",
       "dtype: object"
      ]
     },
     "execution_count": 9,
     "metadata": {},
     "output_type": "execute_result"
    }
   ],
   "source": [
    "# Самопроверка\n",
    "items.dtypes"
   ]
  },
  {
   "cell_type": "markdown",
   "metadata": {},
   "source": [
    "# Задание 1\n",
    "Сколько у нас пользователей, которые совершили покупку только один раз?"
   ]
  },
  {
   "cell_type": "markdown",
   "metadata": {},
   "source": [
    "Для анализа покупок пользователей нам необходимо связать таблицы **customers** и **orders**, чтобы иметь доступ к **уникального id клиента**. Для реализации данной цели воспользуемся методом **merge**."
   ]
  },
  {
   "cell_type": "code",
   "execution_count": 10,
   "metadata": {},
   "outputs": [],
   "source": [
    "# left join датафреймов с помощью метода merge\n",
    "customers_orders_df = orders.merge(customers, how='left', on='customer_id')"
   ]
  },
  {
   "cell_type": "markdown",
   "metadata": {},
   "source": [
    "### Анализ проблемы\n",
    "Для решения поставленной задачи сперва необходимо понять, что можно считать за \"покупку\". Интерпретировать данную категорию в нашем случае можно несколькими способами:\n",
    "1. Мы считаем за покупку все заказы, которые имеют любой статус (**order_status**), кроме **\"unavailable\"** и **\"canceled\"**. \n",
    "    - **Unavailable** можно интерпретировать как \"пропавший заказ\" или заказ, с которым произошла ошибка в цепочке исполнения заказа. \n",
    "    - **Canceled** говорит нам о том, что заказ был отменен. Как правило, заказ возможно отменить на любой стадии его исполнения, также, если отменить его после оплаты, то магазин вернет деньги клиенту, что позволяет нам не считать отмененные заказы за покупку.\n",
    "\n",
    "\n",
    "2. Мы считаем за покупку все заказы, которые имеют любой статус (**order_status**), кроме **\"created\"**, **\"unavailable\"** и **\"canceled\"**. Логика исключения **created** состоит в том, что заказы с таким статусом не оплачены, соответственно нет смысла считать их за покупку.\n",
    "\n",
    "\n",
    "3. Мы считаем за покупку все заказы, которые имеют время подтверждения оплаты заказа (**order_approved_at**). Логика проста: если нам поступили деньги за заказ, то покупка совершена.\n",
    "\n",
    "Проверим целесообразность вышеописанных методов, проведя исследовательский анализ данных с точки зрения статусов заказа (**order_status**)."
   ]
  },
  {
   "cell_type": "code",
   "execution_count": 11,
   "metadata": {},
   "outputs": [
    {
     "data": {
      "text/plain": [
       "order_id                            0\n",
       "customer_id                         0\n",
       "order_status                        0\n",
       "order_purchase_timestamp            0\n",
       "order_approved_at                 160\n",
       "order_delivered_carrier_date     1783\n",
       "order_delivered_customer_date    2965\n",
       "order_estimated_delivery_date       0\n",
       "customer_unique_id                  0\n",
       "customer_zip_code_prefix            0\n",
       "customer_city                       0\n",
       "customer_state                      0\n",
       "dtype: int64"
      ]
     },
     "execution_count": 11,
     "metadata": {},
     "output_type": "execute_result"
    }
   ],
   "source": [
    "# Общее количество пропущенных значений\n",
    "customers_orders_df.isna().sum()"
   ]
  },
  {
   "cell_type": "code",
   "execution_count": 12,
   "metadata": {},
   "outputs": [
    {
     "data": {
      "text/plain": [
       "order_id                           0\n",
       "customer_id                        0\n",
       "order_status                       0\n",
       "order_purchase_timestamp           0\n",
       "order_approved_at                  0\n",
       "order_delivered_carrier_date     609\n",
       "order_delivered_customer_date    609\n",
       "order_estimated_delivery_date      0\n",
       "customer_unique_id                 0\n",
       "customer_zip_code_prefix           0\n",
       "customer_city                      0\n",
       "customer_state                     0\n",
       "dtype: int64"
      ]
     },
     "execution_count": 12,
     "metadata": {},
     "output_type": "execute_result"
    }
   ],
   "source": [
    "# Расмотрим заказы со статусом unavailable\n",
    "customers_orders_df.query(\"order_status == 'unavailable'\").isna().sum()"
   ]
  },
  {
   "cell_type": "markdown",
   "metadata": {},
   "source": [
    "**Выводы**: все заказы оплачены, но ни один не поступил в логистическую службу, следовательно данные заказы мы можем считать за покупку."
   ]
  },
  {
   "cell_type": "code",
   "execution_count": 13,
   "metadata": {},
   "outputs": [
    {
     "data": {
      "text/plain": [
       "order_id                           0\n",
       "customer_id                        0\n",
       "order_status                       0\n",
       "order_purchase_timestamp           0\n",
       "order_approved_at                141\n",
       "order_delivered_carrier_date     550\n",
       "order_delivered_customer_date    619\n",
       "order_estimated_delivery_date      0\n",
       "customer_unique_id                 0\n",
       "customer_zip_code_prefix           0\n",
       "customer_city                      0\n",
       "customer_state                     0\n",
       "dtype: int64"
      ]
     },
     "execution_count": 13,
     "metadata": {},
     "output_type": "execute_result"
    }
   ],
   "source": [
    "# Расмотрим заказы со статусом canceled\n",
    "customers_orders_df.query(\"order_status == 'canceled'\").isna().sum()"
   ]
  },
  {
   "cell_type": "markdown",
   "metadata": {},
   "source": [
    "**Выводы**: мысль о том, что заказ возможно отменить на любой стадии его исполнения подтвердилась. Из информации о данных видно, что присутствуют заказы, которые были отменены до оплаты, после оплаты и даже после того, как покупатель получил заказ (то есть клиент оформил возврат). Так как отмена или возврат заказа на любом этапе предполагает возврат денег клиенту (если заказ был оплачен), то заказы со статусом **canceled** мы можем не считать за покупку."
   ]
  },
  {
   "cell_type": "code",
   "execution_count": 14,
   "metadata": {},
   "outputs": [
    {
     "data": {
      "text/plain": [
       "order_status         0\n",
       "order_approved_at    5\n",
       "dtype: int64"
      ]
     },
     "execution_count": 14,
     "metadata": {},
     "output_type": "execute_result"
    }
   ],
   "source": [
    "# Расмотрим заказы со статусом created\n",
    "customers_orders_df[['order_status', 'order_approved_at']].query(\"order_status == 'created'\").isna().sum()"
   ]
  },
  {
   "cell_type": "markdown",
   "metadata": {},
   "source": [
    "**Вывод**: все заказы со статусом **created** не оплачены, что позволяет нам не считать из за покупку."
   ]
  },
  {
   "cell_type": "code",
   "execution_count": 15,
   "metadata": {},
   "outputs": [
    {
     "data": {
      "text/plain": [
       "order_id                          0\n",
       "customer_id                       0\n",
       "order_status                      0\n",
       "order_purchase_timestamp          0\n",
       "order_approved_at                14\n",
       "order_delivered_carrier_date      2\n",
       "order_delivered_customer_date     8\n",
       "order_estimated_delivery_date     0\n",
       "customer_unique_id                0\n",
       "customer_zip_code_prefix          0\n",
       "customer_city                     0\n",
       "customer_state                    0\n",
       "dtype: int64"
      ]
     },
     "execution_count": 15,
     "metadata": {},
     "output_type": "execute_result"
    }
   ],
   "source": [
    "# Расмотрим заказы со статусом delivered\n",
    "customers_orders_df.query(\"order_status == 'delivered'\").isna().sum()"
   ]
  },
  {
   "cell_type": "markdown",
   "metadata": {},
   "source": [
    "**Вывод**: так как 14 заказов не имеют время подтверждения оплаты заказа (**order_approved_at**), 2 не имеют времени передачи заказа в логистическую службу (**order_delivered_carrier_date**), 8 не имеют подтвержденного времени доставки заказа (**order_delivered_customer_date**), разумно предположить, что статус **delivered** некоторым заказам был присвоен ошибочно."
   ]
  },
  {
   "cell_type": "markdown",
   "metadata": {},
   "source": [
    "### Локальное заключение\n",
    "Проведя исследовательский анализ данных можно утверждать, что за \"покупку\" разумно считать заказы с любым статусом заказа (**order_status**), кроме **created** и **canceled**, а так же заказы, которые имеют время подтверждения оплаты заказа (**order_approved_at**)."
   ]
  },
  {
   "cell_type": "markdown",
   "metadata": {},
   "source": [
    "### Замечание:\n",
    "Так как пропущенные значения имеют колонки с датами, то заполним пропуски нулями, для упрощения фильтрации данных."
   ]
  },
  {
   "cell_type": "code",
   "execution_count": 16,
   "metadata": {},
   "outputs": [],
   "source": [
    "# Заполнение пропусков\n",
    "customers_orders_df = customers_orders_df.fillna(0)"
   ]
  },
  {
   "cell_type": "code",
   "execution_count": 17,
   "metadata": {},
   "outputs": [],
   "source": [
    "# Посчитаем количество покупок, которое совершил каждый пользователь\n",
    "purchase_df = customers_orders_df \\\n",
    "    .query(\"order_status != 'created' & \\\n",
    "            order_status != 'canceled' & \\\n",
    "            order_approved_at != 0\") \\\n",
    "    .groupby('customer_unique_id', as_index = False) \\\n",
    "    .agg({'order_id': 'count'}) \\\n",
    "    .rename(columns={'order_id': 'purchases'})"
   ]
  },
  {
   "cell_type": "code",
   "execution_count": 18,
   "metadata": {
    "scrolled": true
   },
   "outputs": [
    {
     "data": {
      "text/plain": [
       "1     92621\n",
       "2      2686\n",
       "3       187\n",
       "4        30\n",
       "5         8\n",
       "6         6\n",
       "7         3\n",
       "17        1\n",
       "9         1\n",
       "Name: purchases, dtype: int64"
      ]
     },
     "execution_count": 18,
     "metadata": {},
     "output_type": "execute_result"
    }
   ],
   "source": [
    "purchase_df.purchases.value_counts()"
   ]
  },
  {
   "cell_type": "markdown",
   "metadata": {},
   "source": [
    "### Итог:\n",
    "У нас **92621** пользователей, которые совершили покупку только один раз."
   ]
  },
  {
   "cell_type": "markdown",
   "metadata": {},
   "source": [
    "# Задание 2\n",
    "Сколько заказов в месяц в среднем не доставляется по разным причинам (вывести детализацию по причинам)?"
   ]
  },
  {
   "cell_type": "markdown",
   "metadata": {},
   "source": [
    "Для анализа покупок пользователей нам необходимо связать таблицы **customers** и **orders**, чтобы иметь доступ к уникального id клиента. Для реализации данной цели воспользуемся методом **merge**."
   ]
  },
  {
   "cell_type": "code",
   "execution_count": 19,
   "metadata": {},
   "outputs": [],
   "source": [
    "# left join датафреймов с помощью метода merge\n",
    "customers_orders_df_task_2 = orders.merge(customers, how='left', on='customer_id')"
   ]
  },
  {
   "cell_type": "code",
   "execution_count": 20,
   "metadata": {},
   "outputs": [
    {
     "data": {
      "text/html": [
       "<div>\n",
       "<style scoped>\n",
       "    .dataframe tbody tr th:only-of-type {\n",
       "        vertical-align: middle;\n",
       "    }\n",
       "\n",
       "    .dataframe tbody tr th {\n",
       "        vertical-align: top;\n",
       "    }\n",
       "\n",
       "    .dataframe thead th {\n",
       "        text-align: right;\n",
       "    }\n",
       "</style>\n",
       "<table border=\"1\" class=\"dataframe\">\n",
       "  <thead>\n",
       "    <tr style=\"text-align: right;\">\n",
       "      <th></th>\n",
       "      <th>order_id</th>\n",
       "      <th>customer_id</th>\n",
       "      <th>order_status</th>\n",
       "      <th>order_purchase_timestamp</th>\n",
       "      <th>order_approved_at</th>\n",
       "      <th>order_delivered_carrier_date</th>\n",
       "      <th>order_delivered_customer_date</th>\n",
       "      <th>order_estimated_delivery_date</th>\n",
       "      <th>customer_unique_id</th>\n",
       "      <th>customer_zip_code_prefix</th>\n",
       "      <th>customer_city</th>\n",
       "      <th>customer_state</th>\n",
       "    </tr>\n",
       "  </thead>\n",
       "  <tbody>\n",
       "    <tr>\n",
       "      <th>0</th>\n",
       "      <td>e481f51cbdc54678b7cc49136f2d6af7</td>\n",
       "      <td>9ef432eb6251297304e76186b10a928d</td>\n",
       "      <td>delivered</td>\n",
       "      <td>2017-10-02 10:56:33</td>\n",
       "      <td>2017-10-02 11:07:15</td>\n",
       "      <td>2017-10-04 19:55:00</td>\n",
       "      <td>2017-10-10 21:25:13</td>\n",
       "      <td>2017-10-18</td>\n",
       "      <td>7c396fd4830fd04220f754e42b4e5bff</td>\n",
       "      <td>3149</td>\n",
       "      <td>sao paulo</td>\n",
       "      <td>SP</td>\n",
       "    </tr>\n",
       "    <tr>\n",
       "      <th>1</th>\n",
       "      <td>53cdb2fc8bc7dce0b6741e2150273451</td>\n",
       "      <td>b0830fb4747a6c6d20dea0b8c802d7ef</td>\n",
       "      <td>delivered</td>\n",
       "      <td>2018-07-24 20:41:37</td>\n",
       "      <td>2018-07-26 03:24:27</td>\n",
       "      <td>2018-07-26 14:31:00</td>\n",
       "      <td>2018-08-07 15:27:45</td>\n",
       "      <td>2018-08-13</td>\n",
       "      <td>af07308b275d755c9edb36a90c618231</td>\n",
       "      <td>47813</td>\n",
       "      <td>barreiras</td>\n",
       "      <td>BA</td>\n",
       "    </tr>\n",
       "    <tr>\n",
       "      <th>2</th>\n",
       "      <td>47770eb9100c2d0c44946d9cf07ec65d</td>\n",
       "      <td>41ce2a54c0b03bf3443c3d931a367089</td>\n",
       "      <td>delivered</td>\n",
       "      <td>2018-08-08 08:38:49</td>\n",
       "      <td>2018-08-08 08:55:23</td>\n",
       "      <td>2018-08-08 13:50:00</td>\n",
       "      <td>2018-08-17 18:06:29</td>\n",
       "      <td>2018-09-04</td>\n",
       "      <td>3a653a41f6f9fc3d2a113cf8398680e8</td>\n",
       "      <td>75265</td>\n",
       "      <td>vianopolis</td>\n",
       "      <td>GO</td>\n",
       "    </tr>\n",
       "    <tr>\n",
       "      <th>3</th>\n",
       "      <td>949d5b44dbf5de918fe9c16f97b45f8a</td>\n",
       "      <td>f88197465ea7920adcdbec7375364d82</td>\n",
       "      <td>delivered</td>\n",
       "      <td>2017-11-18 19:28:06</td>\n",
       "      <td>2017-11-18 19:45:59</td>\n",
       "      <td>2017-11-22 13:39:59</td>\n",
       "      <td>2017-12-02 00:28:42</td>\n",
       "      <td>2017-12-15</td>\n",
       "      <td>7c142cf63193a1473d2e66489a9ae977</td>\n",
       "      <td>59296</td>\n",
       "      <td>sao goncalo do amarante</td>\n",
       "      <td>RN</td>\n",
       "    </tr>\n",
       "    <tr>\n",
       "      <th>4</th>\n",
       "      <td>ad21c59c0840e6cb83a9ceb5573f8159</td>\n",
       "      <td>8ab97904e6daea8866dbdbc4fb7aad2c</td>\n",
       "      <td>delivered</td>\n",
       "      <td>2018-02-13 21:18:39</td>\n",
       "      <td>2018-02-13 22:20:29</td>\n",
       "      <td>2018-02-14 19:46:34</td>\n",
       "      <td>2018-02-16 18:17:02</td>\n",
       "      <td>2018-02-26</td>\n",
       "      <td>72632f0f9dd73dfee390c9b22eb56dd6</td>\n",
       "      <td>9195</td>\n",
       "      <td>santo andre</td>\n",
       "      <td>SP</td>\n",
       "    </tr>\n",
       "  </tbody>\n",
       "</table>\n",
       "</div>"
      ],
      "text/plain": [
       "                           order_id                       customer_id  \\\n",
       "0  e481f51cbdc54678b7cc49136f2d6af7  9ef432eb6251297304e76186b10a928d   \n",
       "1  53cdb2fc8bc7dce0b6741e2150273451  b0830fb4747a6c6d20dea0b8c802d7ef   \n",
       "2  47770eb9100c2d0c44946d9cf07ec65d  41ce2a54c0b03bf3443c3d931a367089   \n",
       "3  949d5b44dbf5de918fe9c16f97b45f8a  f88197465ea7920adcdbec7375364d82   \n",
       "4  ad21c59c0840e6cb83a9ceb5573f8159  8ab97904e6daea8866dbdbc4fb7aad2c   \n",
       "\n",
       "  order_status order_purchase_timestamp   order_approved_at  \\\n",
       "0    delivered      2017-10-02 10:56:33 2017-10-02 11:07:15   \n",
       "1    delivered      2018-07-24 20:41:37 2018-07-26 03:24:27   \n",
       "2    delivered      2018-08-08 08:38:49 2018-08-08 08:55:23   \n",
       "3    delivered      2017-11-18 19:28:06 2017-11-18 19:45:59   \n",
       "4    delivered      2018-02-13 21:18:39 2018-02-13 22:20:29   \n",
       "\n",
       "  order_delivered_carrier_date order_delivered_customer_date  \\\n",
       "0          2017-10-04 19:55:00           2017-10-10 21:25:13   \n",
       "1          2018-07-26 14:31:00           2018-08-07 15:27:45   \n",
       "2          2018-08-08 13:50:00           2018-08-17 18:06:29   \n",
       "3          2017-11-22 13:39:59           2017-12-02 00:28:42   \n",
       "4          2018-02-14 19:46:34           2018-02-16 18:17:02   \n",
       "\n",
       "  order_estimated_delivery_date                customer_unique_id  \\\n",
       "0                    2017-10-18  7c396fd4830fd04220f754e42b4e5bff   \n",
       "1                    2018-08-13  af07308b275d755c9edb36a90c618231   \n",
       "2                    2018-09-04  3a653a41f6f9fc3d2a113cf8398680e8   \n",
       "3                    2017-12-15  7c142cf63193a1473d2e66489a9ae977   \n",
       "4                    2018-02-26  72632f0f9dd73dfee390c9b22eb56dd6   \n",
       "\n",
       "   customer_zip_code_prefix            customer_city customer_state  \n",
       "0                      3149                sao paulo             SP  \n",
       "1                     47813                barreiras             BA  \n",
       "2                     75265               vianopolis             GO  \n",
       "3                     59296  sao goncalo do amarante             RN  \n",
       "4                      9195              santo andre             SP  "
      ]
     },
     "execution_count": 20,
     "metadata": {},
     "output_type": "execute_result"
    }
   ],
   "source": [
    "customers_orders_df_task_2.head()"
   ]
  },
  {
   "cell_type": "code",
   "execution_count": 21,
   "metadata": {},
   "outputs": [
    {
     "name": "stdout",
     "output_type": "stream",
     "text": [
      "<class 'pandas.core.frame.DataFrame'>\n",
      "Int64Index: 99441 entries, 0 to 99440\n",
      "Data columns (total 12 columns):\n",
      " #   Column                         Non-Null Count  Dtype         \n",
      "---  ------                         --------------  -----         \n",
      " 0   order_id                       99441 non-null  object        \n",
      " 1   customer_id                    99441 non-null  object        \n",
      " 2   order_status                   99441 non-null  object        \n",
      " 3   order_purchase_timestamp       99441 non-null  datetime64[ns]\n",
      " 4   order_approved_at              99281 non-null  datetime64[ns]\n",
      " 5   order_delivered_carrier_date   97658 non-null  datetime64[ns]\n",
      " 6   order_delivered_customer_date  96476 non-null  datetime64[ns]\n",
      " 7   order_estimated_delivery_date  99441 non-null  datetime64[ns]\n",
      " 8   customer_unique_id             99441 non-null  object        \n",
      " 9   customer_zip_code_prefix       99441 non-null  int64         \n",
      " 10  customer_city                  99441 non-null  object        \n",
      " 11  customer_state                 99441 non-null  object        \n",
      "dtypes: datetime64[ns](5), int64(1), object(6)\n",
      "memory usage: 9.9+ MB\n"
     ]
    }
   ],
   "source": [
    "customers_orders_df_task_2.info()"
   ]
  },
  {
   "cell_type": "markdown",
   "metadata": {},
   "source": [
    "### Замечание:\n",
    "Так как пропущенные значения имеют колонки с датами, то заполним пропуски нулями, для упрощения фильтрации данных."
   ]
  },
  {
   "cell_type": "code",
   "execution_count": 22,
   "metadata": {},
   "outputs": [],
   "source": [
    "# Заполнение пропусков\n",
    "customers_orders_df_task_2 = customers_orders_df_task_2.fillna(0)"
   ]
  },
  {
   "cell_type": "markdown",
   "metadata": {},
   "source": [
    "### Порядок решения задачи:\n",
    "Для выполнения поставленной задачи необходимо перегруппировать данные: \n",
    "- Следует отфильтровать данные по статусу заказа, так как нас интересуют все статусы, кроме **delivered**;\n",
    "- При выполнении предыдущего задания мы выяснили, что статус **canceled** включает в себя как отмененные заказы, так и возвращенные, что позволяет нам отфильтровать данные также по колонке времени доставки заказа (**order_delivered_customer_date**). Нам интересны заказы, которые никогда не были доставлены;\n",
    "- Сгруппировать данные по времени создания заказа (**order_purchase_timestamp**) и по статусу заказа (**order_status**);\n",
    "- Провести аггрегацию по полю уникальный идентификатор заказа (**order_id**) и посчитать количество недоставленных заказов по кажому статусу за каждый месяц;\n",
    "- Имея готовое количество заказов по каждому месяцу и статусу, провести еще одну группировку по статусу заказа (**order_status**);\n",
    "- Провести аггрегацию по полю количество заказов (**count_orders**) и посчитать среднее (в месяц) количество недоставленных заказов по кажому статусу."
   ]
  },
  {
   "cell_type": "code",
   "execution_count": 23,
   "metadata": {},
   "outputs": [
    {
     "data": {
      "text/plain": [
       "210e60465099814a1d2c7635e4065153    1\n",
       "ef99f25a4dd935f92a388af905f868d1    1\n",
       "61d6fb5d839877cf9795ee80fd081935    1\n",
       "2cb5ebc8618b31204c46aab763a8ca88    1\n",
       "b2bd1f09c1b8a4a36940f6f6e49d5dec    1\n",
       "Name: order_id, dtype: int64"
      ]
     },
     "execution_count": 23,
     "metadata": {},
     "output_type": "execute_result"
    }
   ],
   "source": [
    "# Проверим факт того, что все айди заказов уникальные и не повторяются\n",
    "customers_orders_df_task_2.order_id.value_counts().sort_values(ascending=False).head()"
   ]
  },
  {
   "cell_type": "code",
   "execution_count": 24,
   "metadata": {},
   "outputs": [],
   "source": [
    "# Предварительно, для удобства, сократим интересующую нас дату к формату \"год-месяц\"\n",
    "customers_orders_df_task_2['order_purchase_timestamp'] = customers_orders_df_task_2.order_purchase_timestamp.dt.strftime(\"%Y-%m\")"
   ]
  },
  {
   "cell_type": "markdown",
   "metadata": {},
   "source": [
    "Организуем сводную таблицу недоставленных заказов (по статусам) с разбивкой по месяцам."
   ]
  },
  {
   "cell_type": "code",
   "execution_count": 25,
   "metadata": {},
   "outputs": [],
   "source": [
    "non_delivered_pivot = customers_orders_df_task_2 \\\n",
    "    .query(\"order_delivered_customer_date == 0 &\\\n",
    "            order_status != 'delivered'\") \\\n",
    "    .groupby(['order_purchase_timestamp', 'order_status'], as_index=False) \\\n",
    "    .agg({'order_id': 'count'}) \\\n",
    "    .rename(columns={'order_purchase_timestamp': 'order_date',\n",
    "                     'order_id': 'count_orders'}) \\\n",
    "    .pivot(index='order_date', columns='order_status', values='count_orders') \\\n",
    "    .fillna(0)"
   ]
  },
  {
   "cell_type": "markdown",
   "metadata": {},
   "source": [
    "### Детализация\n",
    "Так как данная задача требует детализации полученных данных, то возникает разумный вопрос: каким способом рациональнее всего представить отчет? Напрашивается 2 опции:\n",
    "\n",
    "1. Так как простая сводная таблица может быть некомфортна для восприятия, можно построить тепловую карту на ее основе, которая будет отражать в какие месяцы и на каком статусе возникли проблемы с доставкой.\n",
    "\n",
    "\n",
    "2. Сама задача требует детализации по среднемесячным значениям по каждому статусу, соответственно можно провести дополнительное преобразование данных для того, чтобы получить интересующую информацию."
   ]
  },
  {
   "cell_type": "code",
   "execution_count": 26,
   "metadata": {},
   "outputs": [
    {
     "data": {
      "text/plain": [
       "<matplotlib.axes._subplots.AxesSubplot at 0x7fc058a076d8>"
      ]
     },
     "execution_count": 26,
     "metadata": {},
     "output_type": "execute_result"
    },
    {
     "data": {
      "image/png": "[encoded data removed]",
      "text/plain": [
       "<Figure size 1080x720 with 2 Axes>"
      ]
     },
     "metadata": {
      "needs_background": "light"
     },
     "output_type": "display_data"
    }
   ],
   "source": [
    "# Оборачивание сводной таблицы в тепловую карту, которая позволяет более наглядно выявлять проблемные периоды и статусы\n",
    "\n",
    "fig, ax = plt.subplots(figsize=(15,10))         # Sample figsize in inches\n",
    "sns.heatmap(non_delivered_pivot, annot=True, cmap=\"Blues\")"
   ]
  },
  {
   "cell_type": "code",
   "execution_count": 27,
   "metadata": {},
   "outputs": [],
   "source": [
    "# Исходное требование задачи\n",
    "# Данным преобразованием мы узнаем сколько заказов в месяц в среднем не доставляется по разным причинам\n",
    "detalization = non_delivered_pivot.agg('mean').sort_values(ascending=False)"
   ]
  },
  {
   "cell_type": "code",
   "execution_count": 28,
   "metadata": {},
   "outputs": [
    {
     "data": {
      "text/plain": [
       "order_status\n",
       "shipped        46.125000\n",
       "canceled       25.791667\n",
       "unavailable    25.375000\n",
       "invoiced       13.083333\n",
       "processing     12.541667\n",
       "created         0.208333\n",
       "approved        0.083333\n",
       "dtype: float64"
      ]
     },
     "execution_count": 28,
     "metadata": {},
     "output_type": "execute_result"
    }
   ],
   "source": [
    "detalization"
   ]
  },
  {
   "cell_type": "markdown",
   "metadata": {},
   "source": [
    "# Задание 3\n",
    "По каждому товару определить, в какой день недели товар чаще всего покупается."
   ]
  },
  {
   "cell_type": "markdown",
   "metadata": {},
   "source": [
    "Для работы над данной задачей необходимо объеденить таблицы **items** и **orders**."
   ]
  },
  {
   "cell_type": "code",
   "execution_count": 29,
   "metadata": {},
   "outputs": [],
   "source": [
    "# left join датафреймов с помощью метода merge\n",
    "orders_items_df = orders.merge(items, how='left', on='order_id')"
   ]
  },
  {
   "cell_type": "code",
   "execution_count": 30,
   "metadata": {},
   "outputs": [
    {
     "name": "stdout",
     "output_type": "stream",
     "text": [
      "<class 'pandas.core.frame.DataFrame'>\n",
      "Int64Index: 113425 entries, 0 to 113424\n",
      "Data columns (total 14 columns):\n",
      " #   Column                         Non-Null Count   Dtype         \n",
      "---  ------                         --------------   -----         \n",
      " 0   order_id                       113425 non-null  object        \n",
      " 1   customer_id                    113425 non-null  object        \n",
      " 2   order_status                   113425 non-null  object        \n",
      " 3   order_purchase_timestamp       113425 non-null  datetime64[ns]\n",
      " 4   order_approved_at              113264 non-null  datetime64[ns]\n",
      " 5   order_delivered_carrier_date   111457 non-null  datetime64[ns]\n",
      " 6   order_delivered_customer_date  110196 non-null  datetime64[ns]\n",
      " 7   order_estimated_delivery_date  113425 non-null  datetime64[ns]\n",
      " 8   order_item_id                  112650 non-null  float64       \n",
      " 9   product_id                     112650 non-null  object        \n",
      " 10  seller_id                      112650 non-null  object        \n",
      " 11  shipping_limit_date            112650 non-null  datetime64[ns]\n",
      " 12  price                          112650 non-null  float64       \n",
      " 13  freight_value                  112650 non-null  float64       \n",
      "dtypes: datetime64[ns](6), float64(3), object(5)\n",
      "memory usage: 13.0+ MB\n"
     ]
    }
   ],
   "source": [
    "orders_items_df.info()"
   ]
  },
  {
   "cell_type": "markdown",
   "metadata": {},
   "source": [
    "### Дни недели\n",
    "В данном задании нам необходимо группировать данные по дням недели, чтобы узнать в какой из них было совершено максимальное количество покупок товара. Разумно ввести дополнительную колонку, которая будет хранить себе название дня недели определенной даты. Так как мы хотим узнать в какой день товар чаще всего покупается, то воспользуемся способом фильтрации данных из первого задания и день недели будем определять по времени подтверждения оплаты заказа (**order_approved_at**). "
   ]
  },
  {
   "cell_type": "code",
   "execution_count": 31,
   "metadata": {},
   "outputs": [],
   "source": [
    "# Создаем колонку, которая хранит в себе название дня из времени подтверждения оплаты заказа\n",
    "orders_items_df['approved_day'] = orders_items_df.order_approved_at.dt.day_name()"
   ]
  },
  {
   "cell_type": "markdown",
   "metadata": {},
   "source": [
    "Так как пропущенные значения имеют колонки с датами, то заполним пропуски нулями, для упрощения фильтрации данных."
   ]
  },
  {
   "cell_type": "code",
   "execution_count": 32,
   "metadata": {},
   "outputs": [],
   "source": [
    "# Заполнение пропусков\n",
    "orders_items_df = orders_items_df.fillna(0)"
   ]
  },
  {
   "cell_type": "markdown",
   "metadata": {},
   "source": [
    "### Порядок решения задачи:\n",
    "1. Как и в первом задании, за \"покупку\" будем считать заказы с любым статусом заказа (**order_status**), кроме **created** и **canceled**, а так же заказы, которые имеют время подтверждения оплаты заказа (**order_approved_at**).\n",
    "\n",
    "\n",
    "2. Сгруппируем данные по id товара (**product_id**) и по дням недели (**approved_day**), которые мы получили выше.\n",
    "\n",
    "\n",
    "3. Посчитаем количество покупок.\n",
    "\n",
    "\n",
    "4. Обернем полученный результат в сводную таблицу, строками которой будут id товаров (**product_id**), колонками - дни недели (**approved_day**), а значениями выступят посчитанные значения количества покупок для каждого товара (**purchases**)."
   ]
  },
  {
   "cell_type": "code",
   "execution_count": 33,
   "metadata": {},
   "outputs": [],
   "source": [
    "# Расчет сводной таблицы по описанному выше алгоритму\n",
    "day_pivot = orders_items_df \\\n",
    "    .query(\"order_status != 'created' & \\\n",
    "            order_status != 'canceled' & \\\n",
    "            order_approved_at != 0 & \\\n",
    "            product_id != 0\") \\\n",
    "    .groupby(['product_id', 'approved_day'], as_index=False) \\\n",
    "    .agg({'order_id': 'count'}) \\\n",
    "    .rename(columns={'order_id': 'purchases'}) \\\n",
    "    .pivot(index='product_id', columns='approved_day', values='purchases') \\\n",
    "    .fillna(0)"
   ]
  },
  {
   "cell_type": "markdown",
   "metadata": {},
   "source": [
    "### Детализация\n",
    "Так как нам требуется узнать день недели, в который товар чаще всего покупается, то разумно сконцентрировать внимание читателя на конкретном значении в таблице. Для этого можно использовать 2 опции:\n",
    "\n",
    "1. Создать дополнительную колонку, которая будет хранить в себе название дня недели, в который было совершено максимальное количество покупок товара.\n",
    "\n",
    "\n",
    "2. Так как максимальных значений может быть несколько у одного продукта (например, его купили по 2 раза во вт, ср и чт), то разумно выделить максимальные значения цветом.\n",
    "\n",
    "Реализация второй опции представлена ниже. Получившаяся таблица хранит в себе 30+K строк, оставлять ее полностью в ноутбуке не лучшая затея, так как она сильно замедляет скорость работы. Для проверки исполнения просто запустите датасет и немного подождите :)"
   ]
  },
  {
   "cell_type": "code",
   "execution_count": 34,
   "metadata": {},
   "outputs": [],
   "source": [
    "day_pivot = day_pivot.style.highlight_max(axis=1)"
   ]
  },
  {
   "cell_type": "code",
   "execution_count": null,
   "metadata": {},
   "outputs": [],
   "source": [
    "day_pivot"
   ]
  },
  {
   "cell_type": "markdown",
   "metadata": {},
   "source": [
    "# Задание 4\n",
    "Сколько у каждого из пользователей в среднем покупок в неделю (по месяцам)? Не стоит забывать, что внутри месяца может быть не целое количество недель. Например, в ноябре 2021 года 4,28 недели. И внутри метрики это нужно учесть."
   ]
  },
  {
   "cell_type": "markdown",
   "metadata": {},
   "source": [
    "Для решения данной задачи необходимо использовать данные из таблицы **orders** и **customers**, чтобы иметь доступ к уникальному id пользователя (**customer_unique_id**)."
   ]
  },
  {
   "cell_type": "code",
   "execution_count": 35,
   "metadata": {},
   "outputs": [],
   "source": [
    "# left join датафреймов с помощью метода merge\n",
    "customers_purchases_df = orders.merge(customers, how='left', on='customer_id')"
   ]
  },
  {
   "cell_type": "code",
   "execution_count": 36,
   "metadata": {},
   "outputs": [],
   "source": [
    "# Для упрощения группировки сократим интересующую нас дату покупки к формату \"год-месяц\", записав ее в новую колонку\n",
    "customers_purchases_df['approved_month'] = customers_purchases_df.order_approved_at.dt.strftime(\"%Y-%m\")"
   ]
  },
  {
   "cell_type": "code",
   "execution_count": 37,
   "metadata": {},
   "outputs": [
    {
     "name": "stdout",
     "output_type": "stream",
     "text": [
      "<class 'pandas.core.frame.DataFrame'>\n",
      "Int64Index: 99441 entries, 0 to 99440\n",
      "Data columns (total 13 columns):\n",
      " #   Column                         Non-Null Count  Dtype         \n",
      "---  ------                         --------------  -----         \n",
      " 0   order_id                       99441 non-null  object        \n",
      " 1   customer_id                    99441 non-null  object        \n",
      " 2   order_status                   99441 non-null  object        \n",
      " 3   order_purchase_timestamp       99441 non-null  datetime64[ns]\n",
      " 4   order_approved_at              99281 non-null  datetime64[ns]\n",
      " 5   order_delivered_carrier_date   97658 non-null  datetime64[ns]\n",
      " 6   order_delivered_customer_date  96476 non-null  datetime64[ns]\n",
      " 7   order_estimated_delivery_date  99441 non-null  datetime64[ns]\n",
      " 8   customer_unique_id             99441 non-null  object        \n",
      " 9   customer_zip_code_prefix       99441 non-null  int64         \n",
      " 10  customer_city                  99441 non-null  object        \n",
      " 11  customer_state                 99441 non-null  object        \n",
      " 12  approved_month                 99281 non-null  object        \n",
      "dtypes: datetime64[ns](5), int64(1), object(7)\n",
      "memory usage: 10.6+ MB\n"
     ]
    }
   ],
   "source": [
    "customers_purchases_df.info()"
   ]
  },
  {
   "cell_type": "markdown",
   "metadata": {},
   "source": [
    "### Порядок решения задачи:\n",
    "1. Так как пропущенные значения присутствуют только в колонках с датами, заполним их нулями, для упрощения фильтрации данных.\n",
    "\n",
    "\n",
    "2. Отфильтруем из исходной таблицы только покупки. Согласно методологии из первого задания за \"покупку\" будем считать заказы с любым статусом заказа (**order_status**), кроме created и canceled, а так же заказы, которые имеют время подтверждения оплаты заказа (**approved_month**).\n",
    "\n",
    "\n",
    "3. Сгруппируем данные по месяцу покупки (**approved_month**) и уникальному id пользователя (**customer_unique_id**).\n",
    "\n",
    "\n",
    "4. Посчитаем количество покупок у каждого пользователя в каждый месяц, проведя аггрегацию."
   ]
  },
  {
   "cell_type": "code",
   "execution_count": 38,
   "metadata": {},
   "outputs": [],
   "source": [
    "buying_by_month = customers_purchases_df \\\n",
    "    .fillna(0) \\\n",
    "    .query(\"order_status != 'created' & \\\n",
    "            order_status != 'canceled' & \\\n",
    "            approved_month != 0\") \\\n",
    "    .groupby(['approved_month', 'customer_unique_id'], as_index=False) \\\n",
    "    .agg({'order_id': 'count'})"
   ]
  },
  {
   "cell_type": "markdown",
   "metadata": {},
   "source": [
    "В получившуюся таблицу добавим вспомогательные колонки:\n",
    "1. Приведем тип данных колонки с датой покупки (**approved_month**) к временному типу.\n",
    "\n",
    "\n",
    "2. Посчитаем для каждого месяца количетво недель разделив количество дней в месяце на 7 (**week_in_month**).\n",
    "\n",
    "\n",
    "3. Рассчитаем у каждого из пользователей среднее количество покупок в неделю (по месяцам) (**avg_week_purchases**)."
   ]
  },
  {
   "cell_type": "code",
   "execution_count": 39,
   "metadata": {},
   "outputs": [],
   "source": [
    "buying_by_month['approved_month']     = pd.to_datetime(buying_by_month.approved_month)\n",
    "buying_by_month['week_in_month']      = (buying_by_month.approved_month.dt.daysinmonth / 7).round(2)\n",
    "buying_by_month['avg_week_purchases'] = (buying_by_month.order_id / buying_by_month.week_in_month).round(2)"
   ]
  },
  {
   "cell_type": "code",
   "execution_count": 40,
   "metadata": {},
   "outputs": [
    {
     "data": {
      "text/html": [
       "<div>\n",
       "<style scoped>\n",
       "    .dataframe tbody tr th:only-of-type {\n",
       "        vertical-align: middle;\n",
       "    }\n",
       "\n",
       "    .dataframe tbody tr th {\n",
       "        vertical-align: top;\n",
       "    }\n",
       "\n",
       "    .dataframe thead th {\n",
       "        text-align: right;\n",
       "    }\n",
       "</style>\n",
       "<table border=\"1\" class=\"dataframe\">\n",
       "  <thead>\n",
       "    <tr style=\"text-align: right;\">\n",
       "      <th></th>\n",
       "      <th>approved_month</th>\n",
       "      <th>customer_unique_id</th>\n",
       "      <th>order_id</th>\n",
       "      <th>week_in_month</th>\n",
       "      <th>avg_week_purchases</th>\n",
       "    </tr>\n",
       "  </thead>\n",
       "  <tbody>\n",
       "    <tr>\n",
       "      <th>0</th>\n",
       "      <td>2016-09-01</td>\n",
       "      <td>830d5b7aaa3b6f1e9ad63703bec97d23</td>\n",
       "      <td>1</td>\n",
       "      <td>4.29</td>\n",
       "      <td>0.23</td>\n",
       "    </tr>\n",
       "    <tr>\n",
       "      <th>1</th>\n",
       "      <td>2016-10-01</td>\n",
       "      <td>0032c76b20340da25249092a268ce66c</td>\n",
       "      <td>1</td>\n",
       "      <td>4.43</td>\n",
       "      <td>0.23</td>\n",
       "    </tr>\n",
       "    <tr>\n",
       "      <th>2</th>\n",
       "      <td>2016-10-01</td>\n",
       "      <td>01f156677184504063bd19739f924af1</td>\n",
       "      <td>1</td>\n",
       "      <td>4.43</td>\n",
       "      <td>0.23</td>\n",
       "    </tr>\n",
       "    <tr>\n",
       "      <th>3</th>\n",
       "      <td>2016-10-01</td>\n",
       "      <td>0313291a6f4f16df04dcf819d88c38ef</td>\n",
       "      <td>1</td>\n",
       "      <td>4.43</td>\n",
       "      <td>0.23</td>\n",
       "    </tr>\n",
       "    <tr>\n",
       "      <th>4</th>\n",
       "      <td>2016-10-01</td>\n",
       "      <td>0636d30c77f0f9cfad81f1c9b58c791f</td>\n",
       "      <td>1</td>\n",
       "      <td>4.43</td>\n",
       "      <td>0.23</td>\n",
       "    </tr>\n",
       "  </tbody>\n",
       "</table>\n",
       "</div>"
      ],
      "text/plain": [
       "  approved_month                customer_unique_id  order_id  week_in_month  \\\n",
       "0     2016-09-01  830d5b7aaa3b6f1e9ad63703bec97d23         1           4.29   \n",
       "1     2016-10-01  0032c76b20340da25249092a268ce66c         1           4.43   \n",
       "2     2016-10-01  01f156677184504063bd19739f924af1         1           4.43   \n",
       "3     2016-10-01  0313291a6f4f16df04dcf819d88c38ef         1           4.43   \n",
       "4     2016-10-01  0636d30c77f0f9cfad81f1c9b58c791f         1           4.43   \n",
       "\n",
       "   avg_week_purchases  \n",
       "0                0.23  \n",
       "1                0.23  \n",
       "2                0.23  \n",
       "3                0.23  \n",
       "4                0.23  "
      ]
     },
     "execution_count": 40,
     "metadata": {},
     "output_type": "execute_result"
    }
   ],
   "source": [
    "buying_by_month.head()"
   ]
  },
  {
   "cell_type": "markdown",
   "metadata": {},
   "source": [
    "Заключительным этапом обернем полученные данные в сводную таблицу, в строках которой будут id пользователей (**customer_unique_id**) колонками станут месяца (**approved_month**), а значениями будет среднее количество покупок в неделю (**avg_week_purchases**). Пропущенные значения заполним нулями."
   ]
  },
  {
   "cell_type": "code",
   "execution_count": 41,
   "metadata": {},
   "outputs": [],
   "source": [
    "avg_week_buying_by_users = buying_by_month \\\n",
    "    .pivot(index='customer_unique_id', columns='approved_month', values='avg_week_purchases') \\\n",
    "    .fillna(0)"
   ]
  },
  {
   "cell_type": "code",
   "execution_count": 42,
   "metadata": {},
   "outputs": [
    {
     "data": {
      "text/html": [
       "<div>\n",
       "<style scoped>\n",
       "    .dataframe tbody tr th:only-of-type {\n",
       "        vertical-align: middle;\n",
       "    }\n",
       "\n",
       "    .dataframe tbody tr th {\n",
       "        vertical-align: top;\n",
       "    }\n",
       "\n",
       "    .dataframe thead th {\n",
       "        text-align: right;\n",
       "    }\n",
       "</style>\n",
       "<table border=\"1\" class=\"dataframe\">\n",
       "  <thead>\n",
       "    <tr style=\"text-align: right;\">\n",
       "      <th>approved_month</th>\n",
       "      <th>2016-09-01</th>\n",
       "      <th>2016-10-01</th>\n",
       "      <th>2016-12-01</th>\n",
       "      <th>2017-01-01</th>\n",
       "      <th>2017-02-01</th>\n",
       "      <th>2017-03-01</th>\n",
       "      <th>2017-04-01</th>\n",
       "      <th>2017-05-01</th>\n",
       "      <th>2017-06-01</th>\n",
       "      <th>2017-07-01</th>\n",
       "      <th>...</th>\n",
       "      <th>2017-12-01</th>\n",
       "      <th>2018-01-01</th>\n",
       "      <th>2018-02-01</th>\n",
       "      <th>2018-03-01</th>\n",
       "      <th>2018-04-01</th>\n",
       "      <th>2018-05-01</th>\n",
       "      <th>2018-06-01</th>\n",
       "      <th>2018-07-01</th>\n",
       "      <th>2018-08-01</th>\n",
       "      <th>2018-09-01</th>\n",
       "    </tr>\n",
       "    <tr>\n",
       "      <th>customer_unique_id</th>\n",
       "      <th></th>\n",
       "      <th></th>\n",
       "      <th></th>\n",
       "      <th></th>\n",
       "      <th></th>\n",
       "      <th></th>\n",
       "      <th></th>\n",
       "      <th></th>\n",
       "      <th></th>\n",
       "      <th></th>\n",
       "      <th></th>\n",
       "      <th></th>\n",
       "      <th></th>\n",
       "      <th></th>\n",
       "      <th></th>\n",
       "      <th></th>\n",
       "      <th></th>\n",
       "      <th></th>\n",
       "      <th></th>\n",
       "      <th></th>\n",
       "      <th></th>\n",
       "    </tr>\n",
       "  </thead>\n",
       "  <tbody>\n",
       "    <tr>\n",
       "      <th>0000366f3b9a7992bf8c76cfdf3221e2</th>\n",
       "      <td>0.0</td>\n",
       "      <td>0.0</td>\n",
       "      <td>0.0</td>\n",
       "      <td>0.0</td>\n",
       "      <td>0.0</td>\n",
       "      <td>0.00</td>\n",
       "      <td>0.0</td>\n",
       "      <td>0.0</td>\n",
       "      <td>0.0</td>\n",
       "      <td>0.0</td>\n",
       "      <td>...</td>\n",
       "      <td>0.0</td>\n",
       "      <td>0.0</td>\n",
       "      <td>0.0</td>\n",
       "      <td>0.0</td>\n",
       "      <td>0.0</td>\n",
       "      <td>0.23</td>\n",
       "      <td>0.0</td>\n",
       "      <td>0.0</td>\n",
       "      <td>0.0</td>\n",
       "      <td>0.0</td>\n",
       "    </tr>\n",
       "    <tr>\n",
       "      <th>0000b849f77a49e4a4ce2b2a4ca5be3f</th>\n",
       "      <td>0.0</td>\n",
       "      <td>0.0</td>\n",
       "      <td>0.0</td>\n",
       "      <td>0.0</td>\n",
       "      <td>0.0</td>\n",
       "      <td>0.00</td>\n",
       "      <td>0.0</td>\n",
       "      <td>0.0</td>\n",
       "      <td>0.0</td>\n",
       "      <td>0.0</td>\n",
       "      <td>...</td>\n",
       "      <td>0.0</td>\n",
       "      <td>0.0</td>\n",
       "      <td>0.0</td>\n",
       "      <td>0.0</td>\n",
       "      <td>0.0</td>\n",
       "      <td>0.23</td>\n",
       "      <td>0.0</td>\n",
       "      <td>0.0</td>\n",
       "      <td>0.0</td>\n",
       "      <td>0.0</td>\n",
       "    </tr>\n",
       "    <tr>\n",
       "      <th>0000f46a3911fa3c0805444483337064</th>\n",
       "      <td>0.0</td>\n",
       "      <td>0.0</td>\n",
       "      <td>0.0</td>\n",
       "      <td>0.0</td>\n",
       "      <td>0.0</td>\n",
       "      <td>0.23</td>\n",
       "      <td>0.0</td>\n",
       "      <td>0.0</td>\n",
       "      <td>0.0</td>\n",
       "      <td>0.0</td>\n",
       "      <td>...</td>\n",
       "      <td>0.0</td>\n",
       "      <td>0.0</td>\n",
       "      <td>0.0</td>\n",
       "      <td>0.0</td>\n",
       "      <td>0.0</td>\n",
       "      <td>0.00</td>\n",
       "      <td>0.0</td>\n",
       "      <td>0.0</td>\n",
       "      <td>0.0</td>\n",
       "      <td>0.0</td>\n",
       "    </tr>\n",
       "    <tr>\n",
       "      <th>0000f6ccb0745a6a4b88665a16c9f078</th>\n",
       "      <td>0.0</td>\n",
       "      <td>0.0</td>\n",
       "      <td>0.0</td>\n",
       "      <td>0.0</td>\n",
       "      <td>0.0</td>\n",
       "      <td>0.00</td>\n",
       "      <td>0.0</td>\n",
       "      <td>0.0</td>\n",
       "      <td>0.0</td>\n",
       "      <td>0.0</td>\n",
       "      <td>...</td>\n",
       "      <td>0.0</td>\n",
       "      <td>0.0</td>\n",
       "      <td>0.0</td>\n",
       "      <td>0.0</td>\n",
       "      <td>0.0</td>\n",
       "      <td>0.00</td>\n",
       "      <td>0.0</td>\n",
       "      <td>0.0</td>\n",
       "      <td>0.0</td>\n",
       "      <td>0.0</td>\n",
       "    </tr>\n",
       "    <tr>\n",
       "      <th>0004aac84e0df4da2b147fca70cf8255</th>\n",
       "      <td>0.0</td>\n",
       "      <td>0.0</td>\n",
       "      <td>0.0</td>\n",
       "      <td>0.0</td>\n",
       "      <td>0.0</td>\n",
       "      <td>0.00</td>\n",
       "      <td>0.0</td>\n",
       "      <td>0.0</td>\n",
       "      <td>0.0</td>\n",
       "      <td>0.0</td>\n",
       "      <td>...</td>\n",
       "      <td>0.0</td>\n",
       "      <td>0.0</td>\n",
       "      <td>0.0</td>\n",
       "      <td>0.0</td>\n",
       "      <td>0.0</td>\n",
       "      <td>0.00</td>\n",
       "      <td>0.0</td>\n",
       "      <td>0.0</td>\n",
       "      <td>0.0</td>\n",
       "      <td>0.0</td>\n",
       "    </tr>\n",
       "  </tbody>\n",
       "</table>\n",
       "<p>5 rows × 24 columns</p>\n",
       "</div>"
      ],
      "text/plain": [
       "approved_month                    2016-09-01  2016-10-01  2016-12-01  \\\n",
       "customer_unique_id                                                     \n",
       "0000366f3b9a7992bf8c76cfdf3221e2         0.0         0.0         0.0   \n",
       "0000b849f77a49e4a4ce2b2a4ca5be3f         0.0         0.0         0.0   \n",
       "0000f46a3911fa3c0805444483337064         0.0         0.0         0.0   \n",
       "0000f6ccb0745a6a4b88665a16c9f078         0.0         0.0         0.0   \n",
       "0004aac84e0df4da2b147fca70cf8255         0.0         0.0         0.0   \n",
       "\n",
       "approved_month                    2017-01-01  2017-02-01  2017-03-01  \\\n",
       "customer_unique_id                                                     \n",
       "0000366f3b9a7992bf8c76cfdf3221e2         0.0         0.0        0.00   \n",
       "0000b849f77a49e4a4ce2b2a4ca5be3f         0.0         0.0        0.00   \n",
       "0000f46a3911fa3c0805444483337064         0.0         0.0        0.23   \n",
       "0000f6ccb0745a6a4b88665a16c9f078         0.0         0.0        0.00   \n",
       "0004aac84e0df4da2b147fca70cf8255         0.0         0.0        0.00   \n",
       "\n",
       "approved_month                    2017-04-01  2017-05-01  2017-06-01  \\\n",
       "customer_unique_id                                                     \n",
       "0000366f3b9a7992bf8c76cfdf3221e2         0.0         0.0         0.0   \n",
       "0000b849f77a49e4a4ce2b2a4ca5be3f         0.0         0.0         0.0   \n",
       "0000f46a3911fa3c0805444483337064         0.0         0.0         0.0   \n",
       "0000f6ccb0745a6a4b88665a16c9f078         0.0         0.0         0.0   \n",
       "0004aac84e0df4da2b147fca70cf8255         0.0         0.0         0.0   \n",
       "\n",
       "approved_month                    2017-07-01  ...  2017-12-01  2018-01-01  \\\n",
       "customer_unique_id                            ...                           \n",
       "0000366f3b9a7992bf8c76cfdf3221e2         0.0  ...         0.0         0.0   \n",
       "0000b849f77a49e4a4ce2b2a4ca5be3f         0.0  ...         0.0         0.0   \n",
       "0000f46a3911fa3c0805444483337064         0.0  ...         0.0         0.0   \n",
       "0000f6ccb0745a6a4b88665a16c9f078         0.0  ...         0.0         0.0   \n",
       "0004aac84e0df4da2b147fca70cf8255         0.0  ...         0.0         0.0   \n",
       "\n",
       "approved_month                    2018-02-01  2018-03-01  2018-04-01  \\\n",
       "customer_unique_id                                                     \n",
       "0000366f3b9a7992bf8c76cfdf3221e2         0.0         0.0         0.0   \n",
       "0000b849f77a49e4a4ce2b2a4ca5be3f         0.0         0.0         0.0   \n",
       "0000f46a3911fa3c0805444483337064         0.0         0.0         0.0   \n",
       "0000f6ccb0745a6a4b88665a16c9f078         0.0         0.0         0.0   \n",
       "0004aac84e0df4da2b147fca70cf8255         0.0         0.0         0.0   \n",
       "\n",
       "approved_month                    2018-05-01  2018-06-01  2018-07-01  \\\n",
       "customer_unique_id                                                     \n",
       "0000366f3b9a7992bf8c76cfdf3221e2        0.23         0.0         0.0   \n",
       "0000b849f77a49e4a4ce2b2a4ca5be3f        0.23         0.0         0.0   \n",
       "0000f46a3911fa3c0805444483337064        0.00         0.0         0.0   \n",
       "0000f6ccb0745a6a4b88665a16c9f078        0.00         0.0         0.0   \n",
       "0004aac84e0df4da2b147fca70cf8255        0.00         0.0         0.0   \n",
       "\n",
       "approved_month                    2018-08-01  2018-09-01  \n",
       "customer_unique_id                                        \n",
       "0000366f3b9a7992bf8c76cfdf3221e2         0.0         0.0  \n",
       "0000b849f77a49e4a4ce2b2a4ca5be3f         0.0         0.0  \n",
       "0000f46a3911fa3c0805444483337064         0.0         0.0  \n",
       "0000f6ccb0745a6a4b88665a16c9f078         0.0         0.0  \n",
       "0004aac84e0df4da2b147fca70cf8255         0.0         0.0  \n",
       "\n",
       "[5 rows x 24 columns]"
      ]
     },
     "execution_count": 42,
     "metadata": {},
     "output_type": "execute_result"
    }
   ],
   "source": [
    "avg_week_buying_by_users.head()"
   ]
  }
 ],
 "metadata": {
  "kernelspec": {
   "display_name": "Python 3",
   "language": "python",
   "name": "python3"
  },
  "language_info": {
   "codemirror_mode": {
    "name": "ipython",
    "version": 3
   },
   "file_extension": ".py",
   "mimetype": "text/x-python",
   "name": "python",
   "nbconvert_exporter": "python",
   "pygments_lexer": "ipython3",
   "version": "3.7.3"
  }
 },
 "nbformat": 4,
 "nbformat_minor": 4
}
