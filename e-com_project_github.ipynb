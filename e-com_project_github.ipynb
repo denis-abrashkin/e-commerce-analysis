{
 "cells": [
  {
   "cell_type": "code",
   "execution_count": 1,
   "metadata": {},
   "outputs": [],
   "source": [
    "import pandas as pd\n",
    "import numpy as np\n",
    "from datetime import datetime, timedelta\n",
    "import seaborn as sns\n",
    "import matplotlib.pyplot as plt\n",
    "from operator import attrgetter\n",
    "%matplotlib inline"
   ]
  },
  {
   "cell_type": "code",
   "execution_count": 2,
   "metadata": {},
   "outputs": [],
   "source": [
    "# Загрузка исходных данных\n",
    "customers = pd.read_csv('https://getfile.dokpub.com/yandex/get/https://disk.yandex.ru/d/FUi5uSd6BfG_ig')\n",
    "orders    = pd.read_csv('https://getfile.dokpub.com/yandex/get/https://disk.yandex.ru/d/t9Li4JOfgxuUrg')\n",
    "items     = pd.read_csv('https://getfile.dokpub.com/yandex/get/https://disk.yandex.ru/d/Gbt-yAcQrOe3Pw')"
   ]
  },
  {
   "cell_type": "markdown",
   "metadata": {},
   "source": [
    "### Описание данных таблицы customers\n",
    "- customer_id — позаказный идентификатор пользователя (аналог номера паспорта)\n",
    "- customer_unique_id —  уникальный идентификатор пользователя\n",
    "- customer_zip_code_prefix —  почтовый индекс пользователя\n",
    "- customer_city —  город доставки пользователя\n",
    "- customer_state —  штат доставки пользователя"
   ]
  },
  {
   "cell_type": "code",
   "execution_count": 3,
   "metadata": {},
   "outputs": [
    {
     "name": "stdout",
     "output_type": "stream",
     "text": [
      "<class 'pandas.core.frame.DataFrame'>\n",
      "RangeIndex: 99441 entries, 0 to 99440\n",
      "Data columns (total 5 columns):\n",
      " #   Column                    Non-Null Count  Dtype \n",
      "---  ------                    --------------  ----- \n",
      " 0   customer_id               99441 non-null  object\n",
      " 1   customer_unique_id        99441 non-null  object\n",
      " 2   customer_zip_code_prefix  99441 non-null  int64 \n",
      " 3   customer_city             99441 non-null  object\n",
      " 4   customer_state            99441 non-null  object\n",
      "dtypes: int64(1), object(4)\n",
      "memory usage: 3.8+ MB\n"
     ]
    }
   ],
   "source": [
    "# Описание струкутры данных таблицы с с уникальными идентификаторами пользователей\n",
    "customers.info()"
   ]
  },
  {
   "cell_type": "markdown",
   "metadata": {},
   "source": [
    "Стоит отметить, что никаких явных проблем с данными нет, пропущенные значения отсутствуют, типы данных не требуют изменений"
   ]
  },
  {
   "cell_type": "markdown",
   "metadata": {},
   "source": [
    "### Описание данных таблицы orders\n",
    "- order_id —  уникальный идентификатор заказа (номер чека)\n",
    "- customer_id —  позаказный идентификатор пользователя (аналог номера паспорта)\n",
    "- order_status —  статус заказа\n",
    "- order_purchase_timestamp —  время создания заказа\n",
    "- order_approved_at —  время подтверждения оплаты заказа\n",
    "- order_delivered_carrier_date —  время передачи заказа в логистическую службу\n",
    "- order_delivered_customer_date —  время доставки заказа\n",
    "- order_estimated_delivery_date —  обещанная дата доставки"
   ]
  },
  {
   "cell_type": "code",
   "execution_count": 4,
   "metadata": {},
   "outputs": [
    {
     "name": "stdout",
     "output_type": "stream",
     "text": [
      "<class 'pandas.core.frame.DataFrame'>\n",
      "RangeIndex: 99441 entries, 0 to 99440\n",
      "Data columns (total 8 columns):\n",
      " #   Column                         Non-Null Count  Dtype \n",
      "---  ------                         --------------  ----- \n",
      " 0   order_id                       99441 non-null  object\n",
      " 1   customer_id                    99441 non-null  object\n",
      " 2   order_status                   99441 non-null  object\n",
      " 3   order_purchase_timestamp       99441 non-null  object\n",
      " 4   order_approved_at              99281 non-null  object\n",
      " 5   order_delivered_carrier_date   97658 non-null  object\n",
      " 6   order_delivered_customer_date  96476 non-null  object\n",
      " 7   order_estimated_delivery_date  99441 non-null  object\n",
      "dtypes: object(8)\n",
      "memory usage: 6.1+ MB\n"
     ]
    }
   ],
   "source": [
    "# Описание струкутры данных таблицы заказов\n",
    "orders.info()"
   ]
  },
  {
   "cell_type": "markdown",
   "metadata": {},
   "source": [
    "- В данной таблице заметны пропущенные значения в колонках с датами, которые могут быть связаны с особенностями работы магазина и формирования цепочки исполнения заказа.\n",
    "- Явно заметна проблема с типами данных, большинство колонок хранят в себе данные о времени, но представлены в строковом типе данных."
   ]
  },
  {
   "cell_type": "code",
   "execution_count": 5,
   "metadata": {},
   "outputs": [],
   "source": [
    "# Перевод необходимых колонок к временному типу данных\n",
    "orders['order_purchase_timestamp']      = pd.to_datetime(orders.order_purchase_timestamp)\n",
    "orders['order_approved_at']             = pd.to_datetime(orders.order_approved_at)\n",
    "orders['order_delivered_carrier_date']  = pd.to_datetime(orders.order_delivered_carrier_date)\n",
    "orders['order_delivered_customer_date'] = pd.to_datetime(orders.order_delivered_customer_date)\n",
    "orders['order_estimated_delivery_date'] = pd.to_datetime(orders.order_estimated_delivery_date)"
   ]
  },
  {
   "cell_type": "code",
   "execution_count": 6,
   "metadata": {},
   "outputs": [
    {
     "data": {
      "text/plain": [
       "order_id                                 object\n",
       "customer_id                              object\n",
       "order_status                             object\n",
       "order_purchase_timestamp         datetime64[ns]\n",
       "order_approved_at                datetime64[ns]\n",
       "order_delivered_carrier_date     datetime64[ns]\n",
       "order_delivered_customer_date    datetime64[ns]\n",
       "order_estimated_delivery_date    datetime64[ns]\n",
       "dtype: object"
      ]
     },
     "execution_count": 6,
     "metadata": {},
     "output_type": "execute_result"
    }
   ],
   "source": [
    "# Самопроверка\n",
    "orders.dtypes"
   ]
  },
  {
   "cell_type": "markdown",
   "metadata": {},
   "source": [
    "### Описание данных таблицы items\n",
    "- order_id —  уникальный идентификатор заказа (номер чека)\n",
    "- order_item_id —  идентификатор товара внутри одного заказа\n",
    "- product_id —  ид товара (аналог штрихкода)\n",
    "- seller_id — ид производителя товара\n",
    "- shipping_limit_date —  максимальная дата доставки продавцом для передачи заказа партнеру по логистике\n",
    "- price —  цена за единицу товара\n",
    "- freight_value —  вес товара"
   ]
  },
  {
   "cell_type": "code",
   "execution_count": 7,
   "metadata": {},
   "outputs": [
    {
     "name": "stdout",
     "output_type": "stream",
     "text": [
      "<class 'pandas.core.frame.DataFrame'>\n",
      "RangeIndex: 112650 entries, 0 to 112649\n",
      "Data columns (total 7 columns):\n",
      " #   Column               Non-Null Count   Dtype  \n",
      "---  ------               --------------   -----  \n",
      " 0   order_id             112650 non-null  object \n",
      " 1   order_item_id        112650 non-null  int64  \n",
      " 2   product_id           112650 non-null  object \n",
      " 3   seller_id            112650 non-null  object \n",
      " 4   shipping_limit_date  112650 non-null  object \n",
      " 5   price                112650 non-null  float64\n",
      " 6   freight_value        112650 non-null  float64\n",
      "dtypes: float64(2), int64(1), object(4)\n",
      "memory usage: 6.0+ MB\n"
     ]
    }
   ],
   "source": [
    "# Описание струкутры данных таблицы товарных позиций, входящих в заказы\n",
    "items.info()"
   ]
  },
  {
   "cell_type": "markdown",
   "metadata": {},
   "source": [
    "Стоит отметить, что никаких явных проблем с данными нет, пропущенные значения отсутствуют, только одна колонка требует изменение типа данных - shipping_limit_date, так как она отражает собой дату."
   ]
  },
  {
   "cell_type": "code",
   "execution_count": 8,
   "metadata": {},
   "outputs": [],
   "source": [
    "# Перевод необходимой колонки к временному типу данных\n",
    "items['shipping_limit_date'] = pd.to_datetime(items.shipping_limit_date)"
   ]
  },
  {
   "cell_type": "code",
   "execution_count": 9,
   "metadata": {},
   "outputs": [
    {
     "data": {
      "text/plain": [
       "order_id                       object\n",
       "order_item_id                   int64\n",
       "product_id                     object\n",
       "seller_id                      object\n",
       "shipping_limit_date    datetime64[ns]\n",
       "price                         float64\n",
       "freight_value                 float64\n",
       "dtype: object"
      ]
     },
     "execution_count": 9,
     "metadata": {},
     "output_type": "execute_result"
    }
   ],
   "source": [
    "# Самопроверка\n",
    "items.dtypes"
   ]
  },
  {
   "cell_type": "markdown",
   "metadata": {},
   "source": [
    "# Задание 1\n",
    "Сколько у нас пользователей, которые совершили покупку только один раз?"
   ]
  },
  {
   "cell_type": "markdown",
   "metadata": {},
   "source": [
    "Для анализа покупок пользователей нам необходимо связать таблицы **customers** и **orders**, чтобы иметь доступ к **уникального id клиента**. Для реализации данной цели воспользуемся методом **merge**."
   ]
  },
  {
   "cell_type": "code",
   "execution_count": 10,
   "metadata": {},
   "outputs": [],
   "source": [
    "# left join датафреймов с помощью метода merge\n",
    "customers_orders_df = orders.merge(customers, how='left', on='customer_id')"
   ]
  },
  {
   "cell_type": "markdown",
   "metadata": {},
   "source": [
    "### Анализ проблемы\n",
    "Для решения поставленной задачи сперва необходимо понять, что можно считать за \"покупку\". Интерпретировать данную категорию в нашем случае можно несколькими способами:\n",
    "1. Мы считаем за покупку все заказы, которые имеют любой статус (**order_status**), кроме **\"unavailable\"** и **\"canceled\"**. \n",
    "    - **Unavailable** можно интерпретировать как \"пропавший заказ\" или заказ, с которым произошла ошибка в цепочке исполнения заказа. \n",
    "    - **Canceled** говорит нам о том, что заказ был отменен. Как правило, заказ возможно отменить на любой стадии его исполнения, также, если отменить его после оплаты, то магазин вернет деньги клиенту, что позволяет нам не считать отмененные заказы за покупку.\n",
    "\n",
    "\n",
    "2. Мы считаем за покупку все заказы, которые имеют любой статус (**order_status**), кроме **\"created\"**, **\"unavailable\"** и **\"canceled\"**. Логика исключения **created** состоит в том, что заказы с таким статусом не оплачены, соответственно нет смысла считать их за покупку.\n",
    "\n",
    "\n",
    "3. Мы считаем за покупку все заказы, которые имеют время подтверждения оплаты заказа (**order_approved_at**). Логика проста: если нам поступили деньги за заказ, то покупка совершена.\n",
    "\n",
    "Проверим целесообразность вышеописанных методов, проведя исследовательский анализ данных с точки зрения статусов заказа (**order_status**)."
   ]
  },
  {
   "cell_type": "code",
   "execution_count": 11,
   "metadata": {},
   "outputs": [
    {
     "data": {
      "text/plain": [
       "order_id                            0\n",
       "customer_id                         0\n",
       "order_status                        0\n",
       "order_purchase_timestamp            0\n",
       "order_approved_at                 160\n",
       "order_delivered_carrier_date     1783\n",
       "order_delivered_customer_date    2965\n",
       "order_estimated_delivery_date       0\n",
       "customer_unique_id                  0\n",
       "customer_zip_code_prefix            0\n",
       "customer_city                       0\n",
       "customer_state                      0\n",
       "dtype: int64"
      ]
     },
     "execution_count": 11,
     "metadata": {},
     "output_type": "execute_result"
    }
   ],
   "source": [
    "# Общее количество пропущенных значений\n",
    "customers_orders_df.isna().sum()"
   ]
  },
  {
   "cell_type": "code",
   "execution_count": 12,
   "metadata": {},
   "outputs": [
    {
     "data": {
      "text/plain": [
       "order_id                           0\n",
       "customer_id                        0\n",
       "order_status                       0\n",
       "order_purchase_timestamp           0\n",
       "order_approved_at                  0\n",
       "order_delivered_carrier_date     609\n",
       "order_delivered_customer_date    609\n",
       "order_estimated_delivery_date      0\n",
       "customer_unique_id                 0\n",
       "customer_zip_code_prefix           0\n",
       "customer_city                      0\n",
       "customer_state                     0\n",
       "dtype: int64"
      ]
     },
     "execution_count": 12,
     "metadata": {},
     "output_type": "execute_result"
    }
   ],
   "source": [
    "# Расмотрим заказы со статусом unavailable\n",
    "customers_orders_df.query(\"order_status == 'unavailable'\").isna().sum()"
   ]
  },
  {
   "cell_type": "markdown",
   "metadata": {},
   "source": [
    "**Выводы**: все заказы оплачены, но ни один не поступил в логистическую службу, следовательно данные заказы мы можем считать за покупку."
   ]
  },
  {
   "cell_type": "code",
   "execution_count": 13,
   "metadata": {},
   "outputs": [
    {
     "data": {
      "text/plain": [
       "order_id                           0\n",
       "customer_id                        0\n",
       "order_status                       0\n",
       "order_purchase_timestamp           0\n",
       "order_approved_at                141\n",
       "order_delivered_carrier_date     550\n",
       "order_delivered_customer_date    619\n",
       "order_estimated_delivery_date      0\n",
       "customer_unique_id                 0\n",
       "customer_zip_code_prefix           0\n",
       "customer_city                      0\n",
       "customer_state                     0\n",
       "dtype: int64"
      ]
     },
     "execution_count": 13,
     "metadata": {},
     "output_type": "execute_result"
    }
   ],
   "source": [
    "# Расмотрим заказы со статусом canceled\n",
    "customers_orders_df.query(\"order_status == 'canceled'\").isna().sum()"
   ]
  },
  {
   "cell_type": "markdown",
   "metadata": {},
   "source": [
    "**Выводы**: мысль о том, что заказ возможно отменить на любой стадии его исполнения подтвердилась. Из информации о данных видно, что присутствуют заказы, которые были отменены до оплаты, после оплаты и даже после того, как покупатель получил заказ (то есть клиент оформил возврат). Так как отмена или возврат заказа на любом этапе предполагает возврат денег клиенту (если заказ был оплачен), то заказы со статусом **canceled** мы можем не считать за покупку."
   ]
  },
  {
   "cell_type": "code",
   "execution_count": 14,
   "metadata": {},
   "outputs": [
    {
     "data": {
      "text/plain": [
       "order_status         0\n",
       "order_approved_at    5\n",
       "dtype: int64"
      ]
     },
     "execution_count": 14,
     "metadata": {},
     "output_type": "execute_result"
    }
   ],
   "source": [
    "# Расмотрим заказы со статусом created\n",
    "customers_orders_df[['order_status', 'order_approved_at']].query(\"order_status == 'created'\").isna().sum()"
   ]
  },
  {
   "cell_type": "markdown",
   "metadata": {},
   "source": [
    "**Вывод**: все заказы со статусом **created** не оплачены, что позволяет нам не считать из за покупку."
   ]
  },
  {
   "cell_type": "code",
   "execution_count": 15,
   "metadata": {},
   "outputs": [
    {
     "data": {
      "text/plain": [
       "order_id                          0\n",
       "customer_id                       0\n",
       "order_status                      0\n",
       "order_purchase_timestamp          0\n",
       "order_approved_at                14\n",
       "order_delivered_carrier_date      2\n",
       "order_delivered_customer_date     8\n",
       "order_estimated_delivery_date     0\n",
       "customer_unique_id                0\n",
       "customer_zip_code_prefix          0\n",
       "customer_city                     0\n",
       "customer_state                    0\n",
       "dtype: int64"
      ]
     },
     "execution_count": 15,
     "metadata": {},
     "output_type": "execute_result"
    }
   ],
   "source": [
    "# Расмотрим заказы со статусом delivered\n",
    "customers_orders_df.query(\"order_status == 'delivered'\").isna().sum()"
   ]
  },
  {
   "cell_type": "markdown",
   "metadata": {},
   "source": [
    "**Вывод**: так как 14 заказов не имеют время подтверждения оплаты заказа (**order_approved_at**), 2 не имеют времени передачи заказа в логистическую службу (**order_delivered_carrier_date**), 8 не имеют подтвержденного времени доставки заказа (**order_delivered_customer_date**), разумно предположить, что статус **delivered** некоторым заказам был присвоен ошибочно."
   ]
  },
  {
   "cell_type": "markdown",
   "metadata": {},
   "source": [
    "### Локальное заключение\n",
    "Проведя исследовательский анализ данных можно утверждать, что за \"покупку\" разумно считать заказы с любым статусом заказа (**order_status**), кроме **created** и **canceled**, а так же заказы, которые имеют время подтверждения оплаты заказа (**order_approved_at**)."
   ]
  },
  {
   "cell_type": "markdown",
   "metadata": {},
   "source": [
    "### Замечание:\n",
    "Так как пропущенные значения имеют колонки с датами, то заполним пропуски нулями, для упрощения фильтрации данных."
   ]
  },
  {
   "cell_type": "code",
   "execution_count": 16,
   "metadata": {},
   "outputs": [],
   "source": [
    "# Заполнение пропусков\n",
    "customers_orders_df = customers_orders_df.fillna(0)"
   ]
  },
  {
   "cell_type": "code",
   "execution_count": 17,
   "metadata": {},
   "outputs": [],
   "source": [
    "# Посчитаем количество покупок, которое совершил каждый пользователь\n",
    "purchase_df = customers_orders_df \\\n",
    "    .query(\"order_status != 'created' & \\\n",
    "            order_status != 'canceled' & \\\n",
    "            order_approved_at != 0\") \\\n",
    "    .groupby('customer_unique_id', as_index = False) \\\n",
    "    .agg({'order_id': 'count'}) \\\n",
    "    .rename(columns={'order_id': 'purchases'})"
   ]
  },
  {
   "cell_type": "code",
   "execution_count": 18,
   "metadata": {
    "scrolled": true
   },
   "outputs": [
    {
     "data": {
      "text/plain": [
       "1     92621\n",
       "2      2686\n",
       "3       187\n",
       "4        30\n",
       "5         8\n",
       "6         6\n",
       "7         3\n",
       "17        1\n",
       "9         1\n",
       "Name: purchases, dtype: int64"
      ]
     },
     "execution_count": 18,
     "metadata": {},
     "output_type": "execute_result"
    }
   ],
   "source": [
    "purchase_df.purchases.value_counts()"
   ]
  },
  {
   "cell_type": "markdown",
   "metadata": {},
   "source": [
    "### Итог:\n",
    "У нас **92621** пользователей, которые совершили покупку только один раз."
   ]
  }
 ],
 "metadata": {
  "kernelspec": {
   "display_name": "Python 3",
   "language": "python",
   "name": "python3"
  },
  "language_info": {
   "codemirror_mode": {
    "name": "ipython",
    "version": 3
   },
   "file_extension": ".py",
   "mimetype": "text/x-python",
   "name": "python",
   "nbconvert_exporter": "python",
   "pygments_lexer": "ipython3",
   "version": "3.7.3"
  }
 },
 "nbformat": 4,
 "nbformat_minor": 4
}
